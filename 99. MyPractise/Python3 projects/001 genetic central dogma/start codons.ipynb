{
 "cells": [
  {
   "cell_type": "code",
   "execution_count": 1,
   "metadata": {
    "collapsed": false
   },
   "outputs": [],
   "source": [
    "#Example 5.6.  Find all possible start codons in a cds\n",
    "def find_starts(cds):\n",
    "    \"\"\"find start codons in a cds\"\"\"\n",
    "    start = -1\n",
    "    while 1:\n",
    "        start = cds.find(\"atg\", start+1)\n",
    "        if start == -1:\n",
    "            break\n",
    "        if start % 3:\n",
    "            continue\n",
    "        print (\"possible start codon at position %d\" % start)"
   ]
  },
  {
   "cell_type": "code",
   "execution_count": null,
   "metadata": {
    "collapsed": true
   },
   "outputs": [],
   "source": []
  }
 ],
 "metadata": {
  "anaconda-cloud": {},
  "kernelspec": {
   "display_name": "Python [conda root]",
   "language": "python",
   "name": "conda-root-py"
  },
  "language_info": {
   "codemirror_mode": {
    "name": "ipython",
    "version": 3
   },
   "file_extension": ".py",
   "mimetype": "text/x-python",
   "name": "python",
   "nbconvert_exporter": "python",
   "pygments_lexer": "ipython3",
   "version": "3.5.2"
  }
 },
 "nbformat": 4,
 "nbformat_minor": 1
}
