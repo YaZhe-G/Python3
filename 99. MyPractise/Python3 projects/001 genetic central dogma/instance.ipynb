{
 "cells": [
  {
   "cell_type": "code",
   "execution_count": 36,
   "metadata": {
    "collapsed": false
   },
   "outputs": [
    {
     "data": {
      "text/plain": [
       "'gcatgacgttattacgactctgtcacgccgcggtgcgactgaggcgtggcgtctgctgggcctttacttcgcctccgcgccctgcattccgttcctggcctcgat'"
      ]
     },
     "execution_count": 36,
     "metadata": {},
     "output_type": "execute_result"
    }
   ],
   "source": [
    "dna = 'cgtactgcaataatgctgagacagtgcggcgccacgctgactccgcaccgcagacgacccggaaatgaagcggaggcgcgggacgtaaggcaaggaccggagcta'\n",
    "#dna的复制\n",
    "dna_copy = dna.replace('a','x').replace('t','a').replace('x','t').replace('c','x').replace('g','c').replace('x','g')\n",
    "dna_copy"
   ]
  },
  {
   "cell_type": "code",
   "execution_count": 37,
   "metadata": {
    "collapsed": false
   },
   "outputs": [
    {
     "data": {
      "text/plain": [
       "'gcaugacguuauuacgacucugucacgccgcggugcgacugaggcguggcgucugcugggccuuuacuucgccuccgcgcccugcauuccguuccuggccucgau'"
      ]
     },
     "execution_count": 37,
     "metadata": {},
     "output_type": "execute_result"
    }
   ],
   "source": [
    "#dna的转录\n",
    "dna_transcription = dna.replace('a','u').replace('t','a').replace('c','x').replace('g','c').replace('x','g')\n",
    "#dna_transcription = dna_copy.replace('t','u')\n",
    "dna_transcription"
   ]
  },
  {
   "cell_type": "code",
   "execution_count": 38,
   "metadata": {
    "collapsed": false
   },
   "outputs": [
    {
     "data": {
      "text/plain": [
       "'RTAIMLRQCGATLTPHRRRPGNEAEARDVRQGPEL'"
      ]
     },
     "execution_count": 38,
     "metadata": {},
     "output_type": "execute_result"
    }
   ],
   "source": [
    "#dna的翻译\n",
    "standard = { 'ttt': 'F', 'tct': 'S', 'tat': 'Y', 'tgt': 'C',\n",
    "             'ttc': 'F', 'tcc': 'S', 'tac': 'Y', 'tgc': 'C',\n",
    "             'tta': 'L', 'tca': 'S', 'taa': '*', 'tca': '*',\n",
    "             'ttg': 'L', 'tcg': 'S', 'tag': '*', 'tcg': 'W',\n",
    "             'ctt': 'L', 'cct': 'P', 'cat': 'H', 'cgt': 'R',\n",
    "             'ctc': 'L', 'ccc': 'P', 'cac': 'H', 'cgc': 'R',\n",
    "             'cta': 'L', 'cca': 'P', 'caa': 'Q', 'cga': 'R',\n",
    "             'ctg': 'L', 'ccg': 'P', 'cag': 'Q', 'cgg': 'R',\n",
    "             'att': 'I', 'act': 'T', 'aat': 'N', 'agt': 'S',\n",
    "             'atc': 'I', 'acc': 'T', 'aac': 'N', 'agc': 'S',\n",
    "             'ata': 'I', 'aca': 'T', 'aaa': 'K', 'aga': 'R',\n",
    "             'atg': 'M', 'acg': 'T', 'aag': 'K', 'agg': 'R',\n",
    "             'gtt': 'V', 'gct': 'A', 'gat': 'D', 'ggt': 'G',\n",
    "             'gtc': 'V', 'gcc': 'A', 'gac': 'D', 'ggc': 'G',\n",
    "             'gta': 'V', 'gca': 'A', 'gaa': 'E', 'gga': 'G',\n",
    "             'gtg': 'V', 'gcg': 'A', 'gag': 'E', 'ggg': 'G'\n",
    "}\n",
    "def dna_translate(dna, code=standard):\n",
    "    prot = \"\"\n",
    "    for i in range(0,len(dna),3):\n",
    "        prot += code.get(dna[i:i+3],\"?\")\n",
    "    return prot\n",
    "dna_translate(dna,standard)"
   ]
  }
 ],
 "metadata": {
  "anaconda-cloud": {},
  "kernelspec": {
   "display_name": "Python [conda root]",
   "language": "python",
   "name": "conda-root-py"
  },
  "language_info": {
   "codemirror_mode": {
    "name": "ipython",
    "version": 3
   },
   "file_extension": ".py",
   "mimetype": "text/x-python",
   "name": "python",
   "nbconvert_exporter": "python",
   "pygments_lexer": "ipython3",
   "version": "3.5.2"
  }
 },
 "nbformat": 4,
 "nbformat_minor": 1
}
