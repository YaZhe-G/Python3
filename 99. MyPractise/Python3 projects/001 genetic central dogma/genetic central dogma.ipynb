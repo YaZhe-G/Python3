{
 "cells": [
  {
   "cell_type": "code",
   "execution_count": 1,
   "metadata": {},
   "outputs": [
    {
     "name": "stdout",
     "output_type": "stream",
     "text": [
      "please enter your dna: cgtactgcaataatgctgagacagtgcggcgccacgctgactccgcaccgcagacgacccggaaatgaagcggaggcgcgggacgtaaggcaaggaccggagcta\n"
     ]
    }
   ],
   "source": [
    "#提示输入序列\n",
    "dna = input(\"please enter your dna: \")"
   ]
  },
  {
   "cell_type": "code",
   "execution_count": 2,
   "metadata": {},
   "outputs": [
    {
     "name": "stdout",
     "output_type": "stream",
     "text": [
      "DNA complement = gcatgacgttattacgactctgtcacgccgcggtgcgactgaggcgtggcgtctgctgggcctttacttcgcctccgcgccctgcattccgttcctggcctcgat\n"
     ]
    }
   ],
   "source": [
    "#dna的复制\n",
    "dna_copy = dna.replace('a','x').replace('t','a').replace('x','t').replace('c','x').replace('g','c').replace('x','g')\n",
    "print(\"DNA complement =\",dna_copy)   #print()"
   ]
  },
  {
   "cell_type": "code",
   "execution_count": 3,
   "metadata": {},
   "outputs": [
    {
     "name": "stdout",
     "output_type": "stream",
     "text": [
      "mRNA =gcaugacguuauuacgacucugucacgccgcggugcgacugaggcguggcgucugcugggccuuuacuucgccuccgcgcccugcauuccguuccuggccucgau\n"
     ]
    }
   ],
   "source": [
    "#dna的转录\n",
    "dna_transcription = dna.replace('a','u').replace('t','a').replace('c','x').replace('g','c').replace('x','g')\n",
    "#dna_transcription = dna_copy.replace('t','u')\n",
    "print(\"mRNA =%s\"%(dna_transcription))    #%操作符"
   ]
  },
  {
   "cell_type": "code",
   "execution_count": 4,
   "metadata": {},
   "outputs": [
    {
     "name": "stdout",
     "output_type": "stream",
     "text": [
      "protein =A*RYYDSVTPRCD*GVASAGPLLRLRALHSVPGLD\n"
     ]
    }
   ],
   "source": [
    "#dna的翻译\n",
    "codon = { 'uuu': 'F', 'ucu': 'S', 'uau': 'Y', 'ugu': 'C',\n",
    "          'uuc': 'F', 'ucc': 'S', 'uac': 'Y', 'ugc': 'C',\n",
    "          'uua': 'L', 'uca': 'S', 'uaa': '*', 'uga': '*',\n",
    "          'uug': 'L', 'ucg': 'S', 'uag': '*', 'ugg': 'W',\n",
    "          'cuu': 'L', 'ccu': 'P', 'cau': 'H', 'cgu': 'R',\n",
    "          'cuc': 'L', 'ccc': 'P', 'cac': 'H', 'cgc': 'R',\n",
    "          'cua': 'L', 'cca': 'P', 'caa': 'Q', 'cga': 'R',\n",
    "          'cug': 'L', 'ccg': 'P', 'cag': 'Q', 'cgg': 'R',\n",
    "          'auu': 'I', 'acu': 'T', 'aau': 'N', 'agu': 'S',\n",
    "          'auc': 'I', 'acc': 'T', 'aac': 'N', 'agc': 'S',\n",
    "          'aua': 'I', 'aca': 'T', 'aaa': 'K', 'aga': 'R',\n",
    "          'aug': 'M', 'acg': 'T', 'aag': 'K', 'agg': 'R',\n",
    "          'guu': 'V', 'gcu': 'A', 'gau': 'D', 'ggu': 'G',\n",
    "          'guc': 'V', 'gcc': 'A', 'gac': 'D', 'ggc': 'G',\n",
    "          'gua': 'V', 'gca': 'A', 'gaa': 'E', 'gga': 'G',\n",
    "          'gug': 'V', 'gcg': 'A', 'gag': 'E', 'ggg': 'G'\n",
    "}\n",
    "def dna_translate(mRNA,standard):\n",
    "    prot = \"\"\n",
    "    for i in range(0,len(mRNA),3):\n",
    "        prot += standard.get(mRNA[i:i+3],\"?\") #dict.get(key,default=None)\n",
    "    return prot\n",
    "print(\"protein ={}\".format(dna_translate(dna_transcription,codon)))    #format()"
   ]
  },
  {
   "cell_type": "code",
   "execution_count": null,
   "metadata": {
    "collapsed": true
   },
   "outputs": [],
   "source": []
  }
 ],
 "metadata": {
  "anaconda-cloud": {},
  "kernelspec": {
   "display_name": "Python 3",
   "language": "python",
   "name": "python3"
  },
  "language_info": {
   "codemirror_mode": {
    "name": "ipython",
    "version": 3
   },
   "file_extension": ".py",
   "mimetype": "text/x-python",
   "name": "python",
   "nbconvert_exporter": "python",
   "pygments_lexer": "ipython3",
   "version": "3.6.1"
  }
 },
 "nbformat": 4,
 "nbformat_minor": 1
}
