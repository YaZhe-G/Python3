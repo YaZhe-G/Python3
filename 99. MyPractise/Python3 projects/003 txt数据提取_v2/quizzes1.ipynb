{
 "cells": [
  {
   "cell_type": "code",
   "execution_count": 10,
   "metadata": {
    "collapsed": true
   },
   "outputs": [],
   "source": [
    "input_file = open('DATA1.txt')\n",
    "output_file = open('protein.fasta','w')\n",
    "flag = False\n",
    "\n",
    "#1.遍历每一行\n",
    "for line in input_file:\n",
    "    #5.如果该行以'//'开头，则复原旗帜变量\n",
    "    if line[0:2] == '//':\n",
    "        flag = False\n",
    "    #2.判断该行是否以'ACCESSION'开头，并获取ac号，写入文件\n",
    "    if line[0:9] == 'ACCESSION':\n",
    "        accession = line.split()[1].strip()\n",
    "        output_file.write('>' + accession + '\\n')\n",
    "    #3.判断该行是否以'ORIGIN'开头，并改变旗帜变量\n",
    "    elif line[0:6] == 'ORIGIN':\n",
    "        flag = True\n",
    "    #4.如果旗帜变量发生改变，则读取接下来每一行的信息，并把序列信息提取出来，写入文件\n",
    "    elif flag:\n",
    "        fields = line.split()\n",
    "        if fields != []:\n",
    "            seq = ''.join(fields[1:])\n",
    "            output_file.write(seq.upper() + '\\n')\n",
    "        \n",
    "inputFile.close()\n",
    "outputFile.close()"
   ]
  },
  {
   "cell_type": "code",
   "execution_count": null,
   "metadata": {
    "collapsed": true
   },
   "outputs": [],
   "source": []
  }
 ],
 "metadata": {
  "kernelspec": {
   "display_name": "Python 3",
   "language": "python",
   "name": "python3"
  },
  "language_info": {
   "codemirror_mode": {
    "name": "ipython",
    "version": 3
   },
   "file_extension": ".py",
   "mimetype": "text/x-python",
   "name": "python",
   "nbconvert_exporter": "python",
   "pygments_lexer": "ipython3",
   "version": "3.6.1"
  }
 },
 "nbformat": 4,
 "nbformat_minor": 2
}
