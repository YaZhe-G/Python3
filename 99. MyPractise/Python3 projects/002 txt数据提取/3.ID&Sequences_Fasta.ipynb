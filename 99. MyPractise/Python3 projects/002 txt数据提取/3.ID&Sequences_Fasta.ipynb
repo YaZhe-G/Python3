{
 "cells": [
  {
   "cell_type": "code",
   "execution_count": 2,
   "metadata": {
    "collapsed": true
   },
   "outputs": [],
   "source": [
    "#将蛋白id与蛋白序列保存为fasta格式。\n",
    "\n",
    "with open('./sequences.txt','r') as f1:\n",
    "    contents = f1.read()\n",
    "    #去掉字符串中的所有空格,得到一个字符串\n",
    "    contents1 = contents.replace(' ','')\n",
    "    #以'\\n\\n'为分隔符进行分割,得到一个列表\n",
    "    contents2 = contents1.split('\\n\\n')\n",
    "    #删除最后一个空字符串\n",
    "    contents2.pop()\n",
    "    \n",
    "    \n",
    "    #定义一个空列表，存储去掉数字的序列\n",
    "    f1_seq = []\n",
    "    #去除字符串中的数字\n",
    "    for seq in contents2:\n",
    "        for i in range(10):\n",
    "            seq = seq.replace(str(i),'')\n",
    "        f1_seq.append(seq)\n",
    "    \n",
    "    \n",
    "    #定义一个空列表，存储去掉\\n和数字的最终序列\n",
    "    f2_seq = []\n",
    "    #去掉列表中字符串的空格并转换成大写\n",
    "    for seq in f1_seq:\n",
    "        seq = seq.replace('\\n','').upper()\n",
    "        f2_seq.append(seq)\n",
    "\n",
    "f2 = open('./ID.txt','r')       \n",
    "IDS = f2.readlines()\n",
    "with open('./result.fasta','w') as f3:\n",
    "    for i in range(len(IDS)):\n",
    "        f3.write('>'+IDS[i]+f2_seq[i]+'\\n')\n",
    "\n",
    "f1.close()\n",
    "f2.close()"
   ]
  },
  {
   "cell_type": "code",
   "execution_count": null,
   "metadata": {
    "collapsed": true
   },
   "outputs": [],
   "source": [
    "#测试语法"
   ]
  },
  {
   "cell_type": "code",
   "execution_count": 3,
   "metadata": {},
   "outputs": [
    {
     "data": {
      "text/plain": [
       "'helloworld'"
      ]
     },
     "execution_count": 3,
     "metadata": {},
     "output_type": "execute_result"
    }
   ],
   "source": [
    "a = '   hello w orld   '\n",
    "a.replace(' ', '')"
   ]
  },
  {
   "cell_type": "code",
   "execution_count": 4,
   "metadata": {},
   "outputs": [
    {
     "data": {
      "text/plain": [
       "10"
      ]
     },
     "execution_count": 4,
     "metadata": {},
     "output_type": "execute_result"
    }
   ],
   "source": [
    "#求一个字符对应的ASCII\n",
    "ord('\\n')"
   ]
  },
  {
   "cell_type": "code",
   "execution_count": 5,
   "metadata": {},
   "outputs": [
    {
     "data": {
      "text/plain": [
       "'3'"
      ]
     },
     "execution_count": 5,
     "metadata": {},
     "output_type": "execute_result"
    }
   ],
   "source": [
    "#求一个ASCII对应的字符\n",
    "chr(51)"
   ]
  },
  {
   "cell_type": "code",
   "execution_count": 6,
   "metadata": {},
   "outputs": [
    {
     "name": "stdout",
     "output_type": "stream",
     "text": [
      "0\n",
      "1\n",
      "2\n",
      "3\n",
      "4\n",
      "5\n",
      "6\n",
      "7\n",
      "8\n",
      "9\n"
     ]
    }
   ],
   "source": [
    "for i in range(10):\n",
    "    print(i)"
   ]
  },
  {
   "cell_type": "code",
   "execution_count": 7,
   "metadata": {},
   "outputs": [
    {
     "data": {
      "text/plain": [
       "'AA'"
      ]
     },
     "execution_count": 7,
     "metadata": {},
     "output_type": "execute_result"
    }
   ],
   "source": [
    "a = 'aa'\n",
    "a.upper()"
   ]
  },
  {
   "cell_type": "code",
   "execution_count": 8,
   "metadata": {},
   "outputs": [
    {
     "data": {
      "text/plain": [
       "'aa'"
      ]
     },
     "execution_count": 8,
     "metadata": {},
     "output_type": "execute_result"
    }
   ],
   "source": [
    "a"
   ]
  },
  {
   "cell_type": "code",
   "execution_count": null,
   "metadata": {
    "collapsed": true
   },
   "outputs": [],
   "source": []
  }
 ],
 "metadata": {
  "kernelspec": {
   "display_name": "Python 3",
   "language": "python",
   "name": "python3"
  },
  "language_info": {
   "codemirror_mode": {
    "name": "ipython",
    "version": 3
   },
   "file_extension": ".py",
   "mimetype": "text/x-python",
   "name": "python",
   "nbconvert_exporter": "python",
   "pygments_lexer": "ipython3",
   "version": "3.6.1"
  }
 },
 "nbformat": 4,
 "nbformat_minor": 2
}
