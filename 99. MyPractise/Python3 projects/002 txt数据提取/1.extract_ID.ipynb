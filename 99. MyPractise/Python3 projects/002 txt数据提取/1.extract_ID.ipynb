{
 "cells": [
  {
   "cell_type": "code",
   "execution_count": 1,
   "metadata": {},
   "outputs": [
    {
     "name": "stdout",
     "output_type": "stream",
     "text": [
      "['AIG55095', 'AJU15342', 'BAQ20769', 'AIZ66408', 'AIZ66407', 'AIZ66406', 'AIW07473', 'AIW07472', 'AIV43888', 'AIG55094', 'AHZ97469']\n"
     ]
    }
   ],
   "source": [
    "#1.将文件DATA1.txt中\"ACCESSION\"对应的ID（例：ACCESSION   AIG55095）提取出来\n",
    "\n",
    "import re\n",
    "#打开文件\n",
    "f = open('./DATA1.txt','r')\n",
    "#读取内容\n",
    "content = f.read()\n",
    "#正则表达式粗略匹配\n",
    "IDS = re.findall(r'[A-Z]{3}\\d{5}',content)\n",
    "#创建一个空列表储存最终的IDS\n",
    "f_IDS = []\n",
    "#过滤掉重复和不满足条件的ID\n",
    "for ID in IDS:\n",
    "    if IDS.count(ID) == 3 and ID not in f_IDS:\n",
    "        f_IDS.append(ID)\n",
    "print(f_IDS)\n",
    "#把符合条件的ID写入文件中\n",
    "with open('./ID.txt','w') as data:\n",
    "    for f_ID in f_IDS:\n",
    "        data.write('ACCESSION:'+f_ID+'\\n')\n",
    "#关闭文件\n",
    "f.close()"
   ]
  },
  {
   "cell_type": "code",
   "execution_count": null,
   "metadata": {
    "collapsed": true
   },
   "outputs": [],
   "source": [
    "#测试语法"
   ]
  },
  {
   "cell_type": "code",
   "execution_count": 2,
   "metadata": {},
   "outputs": [
    {
     "data": {
      "text/plain": [
       "2"
      ]
     },
     "execution_count": 2,
     "metadata": {},
     "output_type": "execute_result"
    }
   ],
   "source": [
    "a = ['a','a','b']\n",
    "a.count('a')"
   ]
  },
  {
   "cell_type": "code",
   "execution_count": null,
   "metadata": {
    "collapsed": true
   },
   "outputs": [],
   "source": []
  }
 ],
 "metadata": {
  "kernelspec": {
   "display_name": "Python 3",
   "language": "python",
   "name": "python3"
  },
  "language_info": {
   "codemirror_mode": {
    "name": "ipython",
    "version": 3
   },
   "file_extension": ".py",
   "mimetype": "text/x-python",
   "name": "python",
   "nbconvert_exporter": "python",
   "pygments_lexer": "ipython3",
   "version": "3.6.1"
  }
 },
 "nbformat": 4,
 "nbformat_minor": 2
}
