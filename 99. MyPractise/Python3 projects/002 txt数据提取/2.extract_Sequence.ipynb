{
 "cells": [
  {
   "cell_type": "code",
   "execution_count": 1,
   "metadata": {},
   "outputs": [
    {
     "name": "stdout",
     "output_type": "stream",
     "text": [
      "[45, 87, 136, 184, 232, 280, 330, 380, 431, 481, 523]\n",
      "[49, 91, 140, 188, 236, 284, 334, 384, 435, 485, 533]\n",
      "11\n",
      "['        1 slfaaaglaa aaplesrqdt ascpvttegd yvwkisefyg rkpegtyyns lgfnikatng\\n       61 gtldftcsaq adkledhkwy scgensfmdf sfdsdrsgll lkqkdipsit yvatatlpny\\n      121 craggngpkd fvcqgvada\\n', '        1 aaaplesrqd tascpvtteg dyvwkisefy grkpegtyyn slgfnikatn ggtldftcsh\\n       61 sadkledhtw yscgensfmd fsfdsdrngl llkqkvsddi tyvatatlpn ycraggngpk\\n      121 dfvcqgvada yitlv\\n', '        1 faaaglaaaa plesrqdnas cpvttqgdyv wkisefygrk pegtyynslg fnikatnggt\\n       61 ldftcsasad kledgkwypc dkdnfmefsf dsdrsglllk qkvsddityv atatlpnycr\\n      121 aggngpkdfv cqgvsdayit lv\\n', '        1 sqfaaaalvs aapfesrpvn pscanpiagd fiwkvskfeg rksdgiytrf sfnikatndg\\n       61 aleanctaqa dkleehkwys cdklfsfsfn sdrngllvkr veneetvfgt tsipnmcgka\\n      121 pgtqdsprqn vg\\n', '        1 sqfaaaalvs aapfesrpvn pswpnpiagd fiwkvskfeg rksdgiytrf sfnikatndg\\n       61 aleanctaqa dkleehkwys cdklfsfsfn sdrngllvkr veneetvfgt tsipnmcgka\\n      121 pgtqdsprqn la\\n', '        1 slfaaaalvs aapfesrpvn pswpnpiagd fiwkvskfeg rksdgiytrf sfnikatndg\\n       61 aleanctaqa dkleehkwys cdklfsfsfn sdrngllvkr veneetvfgt tsipnmcgka\\n      121 pgtqdsprqn va\\n', '        1 iaslfaaagl aaaaplesrq dnascpvatq gdyvwkvsef ygrqpegtyy nsisfnvkat\\n       61 nggtldytcs ssadkledhk wyscgenslm dfsfdsdrkg llfkqkvsdd ttyvatttip\\n      121 sycraggngp kdfvcqgvsd\\n', '        1 iaslfaaagl aaaaplesrq dnascpvatq gdyvwkvsef ygrqpegtyy nsisfnvkat\\n       61 nggtldytcs ssadkledhk wyscgenslm dfsfdsdrkg llfkqkvsdd ttyvatttip\\n      121 sycraggngp kdfvcqgvsd a\\n', '        1 aaaplesrqd tascpvtteg dyvwkisefy grkpegtyyn slgfnikatn ggtldftcsh\\n       61 sadkledhtw yscgensfmd fsfdsdrngl llkqkvsddi tyvatatlpn ycraggngpk\\n      121 dfvcqgvada s\\n', '        1 slfaaaglaa aaplesrqdt ascpvttegd yvwkisefyg rkpegtyyns lgfnikatng\\n       61 gtldftcshs adkledhtwy scgensfmdf sfdsdrngll lkqkdvssit yvatatlpny\\n      121 craggngpk\\n', '        1 pqrqmdsake vpnsymvvfk khvkdaskhh dwvqsvhskn neermelrkr ssqfpvttev\\n       61 fdglkhvyem agmkgysghf ddetieairn hpdvdyierd sevhtlghde peieknspwg\\n      121 larishrdsl sfgtwnkyly aadggegvdv yvidtgtntk hvdfegrakw gktipngdad\\n      181 edgnghgthc sgtvagkkyg vakkahvyav kvlrsngsgt msdvvkgvey aakahsdtvq\\n      241 aakdgkkkgf kgsaanmslg ggksttldla vnaavdagih favaagndna dscnyspaaa\\n      301 enavtvgast llderayfsn ygkcndifap glnilstwig sehatntisg tsmasphiag\\n      361 llaymlslqp akdsayavad itpkklkanl isvatvgals dvprntknil awngggssny\\n      421 teivekggyt vkkaaeknee esefritips lseieddfek akesagrnah rvggklqhle\\n      481 aeiedfiaee mesmfekvke rvasqkl\\n']\n"
     ]
    }
   ],
   "source": [
    "#将文件DATA1.txt中每个蛋白的序列信息提取出来。（序列信息在ORIGIN到//之间）\n",
    "\n",
    "#定义一个函数，找到列表中所有相同元素的索引\n",
    "def myfind(x,y):\n",
    "    return [ a for a in range(len(y)) if y[a] == x]\n",
    "\n",
    "#打开文件\n",
    "f = open('./DATA1.txt','r')\n",
    "#读取文件中的每一行并存入列表中\n",
    "contents = f.readlines()\n",
    "#找到文件中所有的ORIGIN和//元素的索引\n",
    "origin_index = myfind('ORIGIN      \\n',contents)\n",
    "slash_index = myfind('//\\n',contents)\n",
    "print(origin_index)\n",
    "print(slash_index)\n",
    "#定义一个空列表，存放序列元素\n",
    "f_sequences = []\n",
    "#取出对应的两个索引之间的列表元素，并把他们加起来\n",
    "for i in range(len(origin_index)):\n",
    "    sequence = ''\n",
    "    while origin_index[i]+1 < slash_index[i]:\n",
    "        sequence = sequence + contents[origin_index[i]+1]\n",
    "        origin_index[i] = origin_index[i] + 1\n",
    "    f_sequences.append(sequence)\n",
    "print(len(f_sequences))\n",
    "print(f_sequences)\n",
    "#把序列元素分别添加到txt文件中\n",
    "with open('./sequences.txt','w') as sequences:\n",
    "    for sequence in f_sequences:\n",
    "        sequences.write(sequence+'\\n')\n",
    "f.close()"
   ]
  },
  {
   "cell_type": "code",
   "execution_count": null,
   "metadata": {
    "collapsed": true
   },
   "outputs": [],
   "source": [
    "#测试语法"
   ]
  },
  {
   "cell_type": "code",
   "execution_count": 2,
   "metadata": {},
   "outputs": [
    {
     "data": {
      "text/plain": [
       "['khgreyi1232 849', 'ionv']"
      ]
     },
     "execution_count": 2,
     "metadata": {},
     "output_type": "execute_result"
    }
   ],
   "source": [
    "import re\n",
    "a = 'aadabckhgreyi1232 849qwesdjfklqwereabcionvqwedff'  #在./DATA1.txt中行不通，不知为何\n",
    "b = re.findall(r'abc(.*?)qwe',a)\n",
    "b"
   ]
  },
  {
   "cell_type": "code",
   "execution_count": 3,
   "metadata": {},
   "outputs": [
    {
     "data": {
      "text/plain": [
       "2"
      ]
     },
     "execution_count": 3,
     "metadata": {},
     "output_type": "execute_result"
    }
   ],
   "source": [
    "c = ['a','b','c','c']\n",
    "c.index('c')"
   ]
  },
  {
   "cell_type": "code",
   "execution_count": null,
   "metadata": {
    "collapsed": true
   },
   "outputs": [],
   "source": []
  }
 ],
 "metadata": {
  "kernelspec": {
   "display_name": "Python 3",
   "language": "python",
   "name": "python3"
  },
  "language_info": {
   "codemirror_mode": {
    "name": "ipython",
    "version": 3
   },
   "file_extension": ".py",
   "mimetype": "text/x-python",
   "name": "python",
   "nbconvert_exporter": "python",
   "pygments_lexer": "ipython3",
   "version": "3.6.1"
  }
 },
 "nbformat": 4,
 "nbformat_minor": 2
}
