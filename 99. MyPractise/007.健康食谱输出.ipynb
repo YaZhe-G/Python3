{
 "cells": [
  {
   "cell_type": "code",
   "execution_count": 4,
   "metadata": {},
   "outputs": [
    {
     "name": "stdout",
     "output_type": "stream",
     "text": [
      "请输入菜名：(用，分割)西红柿，鸡蛋，花椰菜\n"
     ]
    },
    {
     "data": {
      "text/plain": [
       "'西红柿，鸡蛋，花椰菜'"
      ]
     },
     "execution_count": 4,
     "metadata": {},
     "output_type": "execute_result"
    }
   ],
   "source": [
    "#输入一组不同食材的名字，用','分割，请输出他们可能组成的所有菜市名称\n",
    "strName = input(\"请输入菜名：(用，分割)\")\n",
    "strName"
   ]
  },
  {
   "cell_type": "code",
   "execution_count": 5,
   "metadata": {
    "collapsed": true
   },
   "outputs": [],
   "source": [
    "listName = strName.split('，')"
   ]
  },
  {
   "cell_type": "code",
   "execution_count": 6,
   "metadata": {},
   "outputs": [
    {
     "name": "stdout",
     "output_type": "stream",
     "text": [
      "西红柿鸡蛋\n",
      "西红柿花椰菜\n",
      "鸡蛋西红柿\n",
      "鸡蛋花椰菜\n",
      "花椰菜西红柿\n",
      "花椰菜鸡蛋\n"
     ]
    }
   ],
   "source": [
    "for i in range(len(listName)):\n",
    "    for j in range(len(listName)):\n",
    "        if j != i:\n",
    "            print(listName[i]+listName[j])"
   ]
  },
  {
   "cell_type": "code",
   "execution_count": null,
   "metadata": {
    "collapsed": true
   },
   "outputs": [],
   "source": []
  }
 ],
 "metadata": {
  "kernelspec": {
   "display_name": "Python 3",
   "language": "python",
   "name": "python3"
  },
  "language_info": {
   "codemirror_mode": {
    "name": "ipython",
    "version": 3
   },
   "file_extension": ".py",
   "mimetype": "text/x-python",
   "name": "python",
   "nbconvert_exporter": "python",
   "pygments_lexer": "ipython3",
   "version": "3.6.1"
  }
 },
 "nbformat": 4,
 "nbformat_minor": 2
}
