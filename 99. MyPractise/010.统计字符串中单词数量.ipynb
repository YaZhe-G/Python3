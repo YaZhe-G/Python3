{
 "cells": [
  {
   "cell_type": "code",
   "execution_count": 1,
   "metadata": {
    "collapsed": true
   },
   "outputs": [],
   "source": [
    "#读入一个字符串，内容为英文文章，输入其中出现最多的单词(仅输入单词，不计算标点符号，同一个单词的大小写形式合并计数)，统一以小写输出"
   ]
  },
  {
   "cell_type": "code",
   "execution_count": 1,
   "metadata": {},
   "outputs": [
    {
     "name": "stdout",
     "output_type": "stream",
     "text": [
      "请输入一个字符串：this is a python and Python\n",
      "['this', 'is', 'a', 'python', 'and', 'python']\n",
      "[1, 1, 1, 2, 1, 2]\n",
      "python\n"
     ]
    }
   ],
   "source": [
    "strs = input(\"请输入一个字符串：\")\n",
    "l_str = strs.lower()\n",
    "l_list = l_str.split(' ')\n",
    "print(l_list)\n",
    "#统计列表中每一个元素出现的次数\n",
    "l_count = []\n",
    "for i in range(len(l_list)):\n",
    "    count = 0\n",
    "    for j in range(len(l_list)):\n",
    "        if l_list[j] == l_list[i]:\n",
    "            count = count + 1\n",
    "    l_count.append(count)\n",
    "print(l_count)\n",
    "#找到出现次数最多的index\n",
    "index = l_count.index(max(l_count))\n",
    "print(l_list[index])"
   ]
  },
  {
   "cell_type": "code",
   "execution_count": null,
   "metadata": {
    "collapsed": true
   },
   "outputs": [],
   "source": [
    "#测试语法"
   ]
  },
  {
   "cell_type": "code",
   "execution_count": 2,
   "metadata": {},
   "outputs": [
    {
     "data": {
      "text/plain": [
       "'qwersss'"
      ]
     },
     "execution_count": 2,
     "metadata": {},
     "output_type": "execute_result"
    }
   ],
   "source": [
    "strl = 'QWERsss'\n",
    "strl.lower()"
   ]
  },
  {
   "cell_type": "code",
   "execution_count": 3,
   "metadata": {},
   "outputs": [
    {
     "data": {
      "text/plain": [
       "'QWERsss'"
      ]
     },
     "execution_count": 3,
     "metadata": {},
     "output_type": "execute_result"
    }
   ],
   "source": [
    "strl"
   ]
  },
  {
   "cell_type": "code",
   "execution_count": null,
   "metadata": {
    "collapsed": true
   },
   "outputs": [],
   "source": []
  }
 ],
 "metadata": {
  "kernelspec": {
   "display_name": "Python 3",
   "language": "python",
   "name": "python3"
  },
  "language_info": {
   "codemirror_mode": {
    "name": "ipython",
    "version": 3
   },
   "file_extension": ".py",
   "mimetype": "text/x-python",
   "name": "python",
   "nbconvert_exporter": "python",
   "pygments_lexer": "ipython3",
   "version": "3.6.1"
  }
 },
 "nbformat": 4,
 "nbformat_minor": 2
}
