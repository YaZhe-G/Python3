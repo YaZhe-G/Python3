{
 "cells": [
  {
   "cell_type": "code",
   "execution_count": 2,
   "metadata": {},
   "outputs": [
    {
     "name": "stdout",
     "output_type": "stream",
     "text": [
      "[1, 0, 0, 1, 1, 0, 2, 2, 2, 0, 0, 0, 0, 1, 3, 1, 0, 0, 1, 1, 0, 0, 0, 0, 0, 0]\n"
     ]
    }
   ],
   "source": [
    "def countchar(str1):\n",
    "    list1 = [0]*26\n",
    "    for i in range(0,len(str1)):\n",
    "        if (str1[i] >= 'a' and str1[i] <='z'):  \n",
    "            list1[ord(str1[i])-97] += 1   #ord()函数返回对应字符的ascii值\n",
    "    print (list1)\n",
    "if __name__ == \"__main__\":\n",
    "    str1 = \"Hope is a good thing.\"\n",
    "    str1 = str1.lower()\n",
    "    countchar(str1)"
   ]
  },
  {
   "cell_type": "code",
   "execution_count": 3,
   "metadata": {},
   "outputs": [
    {
     "name": "stdout",
     "output_type": "stream",
     "text": [
      "[(0, 2), (1, 3), (2, 4), (3, 5)]\n"
     ]
    }
   ],
   "source": [
    "n = zip(range(4),range(2,6))   #zip()函数返回元组的列表\n",
    "print(list(n))"
   ]
  },
  {
   "cell_type": "code",
   "execution_count": 4,
   "metadata": {},
   "outputs": [
    {
     "name": "stdout",
     "output_type": "stream",
     "text": [
      "defaultdict(<class 'int'>, {'H': 1, 'o': 3, 'p': 1, 'e': 1, ' ': 4, 'i': 2, 's': 1, 'a': 1, 'g': 2, 'd': 1, 't': 1, 'h': 1, 'n': 1, '.': 1})\n",
      "dict_items([('H', 1), ('o', 3), ('p', 1), ('e', 1), (' ', 4), ('i', 2), ('s', 1), ('a', 1), ('g', 2), ('d', 1), ('t', 1), ('h', 1), ('n', 1), ('.', 1)])\n"
     ]
    }
   ],
   "source": [
    "#统计字符串中每个字符出现的次数\n",
    "#collections：Container datatypes模块\n",
    "#defaultdict：dict subclass that calls a factory function to supply missing values\n",
    "from collections import defaultdict\n",
    "str2 = \"Hope is a good thing.\"\n",
    "#创建一个字典，如果查找的键不存在，返回一个int\n",
    "d = defaultdict(int)  #factory function：int\n",
    "for i in str2:\n",
    "    d[i] += 1\n",
    "print(d)\n",
    "print(d.items())"
   ]
  },
  {
   "cell_type": "code",
   "execution_count": 5,
   "metadata": {},
   "outputs": [
    {
     "name": "stdout",
     "output_type": "stream",
     "text": [
      "defaultdict(<class 'list'>, {'yellow': [1, 3], 'blue': [2, 4], 'red': [1]})\n"
     ]
    }
   ],
   "source": [
    "#collections.defaultdict实例\n",
    "s = [('yellow', 1), ('blue', 2), ('yellow', 3), ('blue', 4), ('red', 1)]\n",
    "#创建一个字典，如果查找的键不存在，返回一个list\n",
    "d = defaultdict(list) #factory function：list\n",
    "for k,v in s:\n",
    "    d[k].append(v)\n",
    "print(d)"
   ]
  },
  {
   "cell_type": "code",
   "execution_count": null,
   "metadata": {
    "collapsed": true
   },
   "outputs": [],
   "source": []
  }
 ],
 "metadata": {
  "kernelspec": {
   "display_name": "Python 3",
   "language": "python",
   "name": "python3"
  },
  "language_info": {
   "codemirror_mode": {
    "name": "ipython",
    "version": 3
   },
   "file_extension": ".py",
   "mimetype": "text/x-python",
   "name": "python",
   "nbconvert_exporter": "python",
   "pygments_lexer": "ipython3",
   "version": "3.6.1"
  }
 },
 "nbformat": 4,
 "nbformat_minor": 2
}
