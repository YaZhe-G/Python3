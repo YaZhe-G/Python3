{
 "cells": [
  {
   "cell_type": "markdown",
   "metadata": {},
   "source": [
    "# 基本概念"
   ]
  },
  {
   "cell_type": "markdown",
   "metadata": {},
   "source": [
    "## 1 数据结构(Data Structures)：\n",
    "    * 数据对象在计算机中的组织方式\n",
    "        -逻辑结构(1对1：线性结构；1对多：树；多对多：图)\n",
    "        -物理存储结构\n",
    "    * 数据对象必定与一系列加在其上的操作相关联\n",
    "    * 完成这些操作所用的方法就是算法"
   ]
  },
  {
   "cell_type": "markdown",
   "metadata": {},
   "source": [
    "## 2 算法(Algorithm)：\n",
    "    * 一个有限指令集\n",
    "    * 接受一些输入(有些情况下不需要输入)\n",
    "    * 产生输出\n",
    "    * 一定在有限步骤之后终止\n",
    "    * 每一条指令必须\n",
    "        -有充分明确的目标，不可以有歧义\n",
    "        -计算机能处理的范围之内\n",
    "        -描述应不依赖于任何一种计算机语言以及具体的实现手段"
   ]
  },
  {
   "cell_type": "markdown",
   "metadata": {},
   "source": [
    "### 2.1 好的算法：\n",
    "    * 空间复杂度S(n):根据算法写成的程序在执行时占用存储单元的长度。\n",
    "    * 时间复杂度T(n):根据算法写成的程序在执行时耗费时间的长度。\n",
    "### 2.2 复杂度的渐进表示法：\n",
    "    T(n)=O(f(n))：T(n)的某种上界。当n很大的时候，复杂度约等于Cf(n)，C是某个常数。\n",
    "    T(n)=O(g(n))：T(n)的某种下界\n",
    "   \n",
    "### 2.3 算法复杂度比较：\n",
    "    1 < logn < n < nlog n< n^2 < n^3 < 2^n < n!"
   ]
  },
  {
   "cell_type": "code",
   "execution_count": 1,
   "metadata": {
    "collapsed": true
   },
   "outputs": [],
   "source": [
    "#实例：最大连续子列和问题\n",
    "    #已知：给定N个整数的数组\n",
    "    #求：最大连续子列和(子列元素个数不限)\n",
    "    \n",
    "    \n",
    "lst = [1,-2,3,6,-10,6,8,-3,-5,6,9]"
   ]
  },
  {
   "cell_type": "code",
   "execution_count": 2,
   "metadata": {},
   "outputs": [
    {
     "name": "stdout",
     "output_type": "stream",
     "text": [
      "最大子列和是:21\n"
     ]
    }
   ],
   "source": [
    "#算法1复杂度：O(N^3)\n",
    "\n",
    "def MaxSubseqSum1(lst):\n",
    "    MaxSum = 0\n",
    "    n = len(lst)\n",
    "    for i in range(n):\n",
    "        for j in range(i+1,n):   #range():左开右闭\n",
    "            ThisSum = 0\n",
    "            for k in range(i,j+1):\n",
    "                ThisSum += lst[k]\n",
    "            if ThisSum > MaxSum:\n",
    "                MaxSum = ThisSum\n",
    "    print(\"最大子列和是:{}\".format(MaxSum))\n",
    "\n",
    "    \n",
    "MaxSubseqSum1(lst)\n",
    "\n",
    "#理解：\n",
    "    #第一轮循环遍历子列的左端元素索引\n",
    "    #第二轮循环遍历子列的右端元素索引\n",
    "    #第三轮循环遍历确定了左右端索引的子列的元素索引，并对子列内的元素进行累加求和"
   ]
  },
  {
   "cell_type": "code",
   "execution_count": 3,
   "metadata": {},
   "outputs": [
    {
     "name": "stdout",
     "output_type": "stream",
     "text": [
      "最大子列和是:21\n"
     ]
    }
   ],
   "source": [
    "#算法2复杂度：O(N^2)\n",
    "\n",
    "def MaxSubseqSum2(lst):\n",
    "    MaxSum = 0\n",
    "    n = len(lst)\n",
    "    for i in range(n):\n",
    "        ThisSum = 0\n",
    "        for j in range(i+1,n):\n",
    "            ThisSum += lst[j]\n",
    "        if ThisSum > MaxSum:\n",
    "            MaxSum = ThisSum\n",
    "    print(\"最大子列和是:{}\".format(MaxSum))\n",
    "    \n",
    "    \n",
    "MaxSubseqSum2(lst)\n",
    "\n",
    "#理解：\n",
    "    #第一轮循环遍历子列的左端元素索引\n",
    "    #第二轮循环遍历子列的右端元素索引，对子列内的元素进行累加求和"
   ]
  },
  {
   "cell_type": "code",
   "execution_count": 4,
   "metadata": {},
   "outputs": [
    {
     "name": "stdout",
     "output_type": "stream",
     "text": [
      "最大子列和是:21\n"
     ]
    }
   ],
   "source": [
    "#算法3(在线处理)复杂度：O(N)\n",
    "\n",
    "def MaxSubseqSum3(lst):\n",
    "    MaxSum = 0\n",
    "    ThisSum = 0\n",
    "    n = len(lst)\n",
    "    for i in range(n):\n",
    "        ThisSum += lst[i]\n",
    "        if ThisSum > MaxSum:\n",
    "            MaxSum = ThisSum\n",
    "        elif ThisSum < 0:\n",
    "            ThisSum = 0\n",
    "    print(\"最大子列和是:{}\".format(MaxSum))\n",
    "    \n",
    "MaxSubseqSum3(lst)\n",
    "\n",
    "#理解：\n",
    "    #一个数字一个数字的处理，如果当前子列和为负，则不可能使后面的部分增大，抛弃之。"
   ]
  },
  {
   "cell_type": "code",
   "execution_count": null,
   "metadata": {
    "collapsed": true
   },
   "outputs": [],
   "source": []
  }
 ],
 "metadata": {
  "kernelspec": {
   "display_name": "Python 3",
   "language": "python",
   "name": "python3"
  },
  "language_info": {
   "codemirror_mode": {
    "name": "ipython",
    "version": 3
   },
   "file_extension": ".py",
   "mimetype": "text/x-python",
   "name": "python",
   "nbconvert_exporter": "python",
   "pygments_lexer": "ipython3",
   "version": "3.6.1"
  }
 },
 "nbformat": 4,
 "nbformat_minor": 2
}
