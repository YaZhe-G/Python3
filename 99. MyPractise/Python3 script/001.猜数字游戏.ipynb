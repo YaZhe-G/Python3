{
 "cells": [
  {
   "cell_type": "code",
   "execution_count": 2,
   "metadata": {
    "collapsed": false
   },
   "outputs": [
    {
     "name": "stdout",
     "output_type": "stream",
     "text": [
      "Please input a number between 0~300:\n",
      "150\n",
      "Too large,please try again.\n",
      "Please input a number between 0~300:\n",
      "100\n",
      "Too large,please try again.\n",
      "Please input a number between 0~300:\n",
      "50\n",
      "Too large,please try again.\n",
      "Please input a number between 0~300:\n",
      "30\n",
      "Too large,please try again.\n",
      "Please input a number between 0~300:\n",
      "20\n",
      "Too large,please try again.\n",
      "Please input a number between 0~300:\n",
      "10\n",
      "Too large,please try again.\n",
      "Please input a number between 0~300:\n",
      "5\n",
      "Bingo!\n",
      "If you do not want to continue,input n,or input y.\n",
      "y\n",
      "y\n",
      "Please input a number between 0~300:\n",
      "5\n",
      "Bingo!\n",
      "If you do not want to continue,input n,or input y.\n",
      "n\n",
      "n\n",
      "Goodbye!\n"
     ]
    }
   ],
   "source": [
    "from random import randint\n",
    "x = randint(0,300)\n",
    "go = 'y'\n",
    "while(go == 'y'):\n",
    "    print('Please input a number between 0~300:')\n",
    "    digit = int(input())\n",
    "    if digit == x:\n",
    "        print('Bingo!')\n",
    "    elif digit > x:\n",
    "        print('Too large,please try again.')\n",
    "        continue\n",
    "    else:\n",
    "        print('Too samll,please try again.')\n",
    "        continue\n",
    "    print('If you do not want to continue,input n,or input y.')\n",
    "    go = input()\n",
    "    print (go)\n",
    "else:\n",
    "    print('Goodbye!')"
   ]
  },
  {
   "cell_type": "code",
   "execution_count": null,
   "metadata": {
    "collapsed": true
   },
   "outputs": [],
   "source": []
  },
  {
   "cell_type": "code",
   "execution_count": null,
   "metadata": {
    "collapsed": true
   },
   "outputs": [],
   "source": []
  }
 ],
 "metadata": {
  "kernelspec": {
   "display_name": "Python 3",
   "language": "python",
   "name": "python3"
  },
  "language_info": {
   "codemirror_mode": {
    "name": "ipython",
    "version": 3
   },
   "file_extension": ".py",
   "mimetype": "text/x-python",
   "name": "python",
   "nbconvert_exporter": "python",
   "pygments_lexer": "ipython3",
   "version": "3.6.0"
  }
 },
 "nbformat": 4,
 "nbformat_minor": 2
}
