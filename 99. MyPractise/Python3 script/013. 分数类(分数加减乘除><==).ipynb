{
 "cells": [
  {
   "cell_type": "code",
   "execution_count": 1,
   "metadata": {
    "collapsed": true
   },
   "outputs": [],
   "source": [
    "class Fraction:\n",
    "    \n",
    "    def __init__(self,num,den):\n",
    "        self.num = num #numerator：分子\n",
    "        self.den = den #denominator：分母\n",
    "        \n",
    "    def __str__(self):\n",
    "        return str(self.num) + '/' + str(self.den)\n",
    "    \n",
    "    @staticmethod #一些跟类有关系的功能但在运行时又不需要实例和类参与的情况下(比如更改环境变量或者修改其他类的属性等)需要用到静态方法\n",
    "    def gcb(a,b): #Greatest common divisor：最大公约数   [欧几里得算法求最大公约数]\n",
    "        while a%b != 0:\n",
    "            r = a%b\n",
    "            a = b\n",
    "            b = r\n",
    "        return b\n",
    "    \n",
    "    def __add__(self,f2):  #add：加\n",
    "        newNum = self.num*f2.den + self.den*f2.num\n",
    "        newDen = self.den*f2.den\n",
    "        common = Fraction.gcb(newNum,newDen)\n",
    "        return Fraction(newNum//common,newDen//common)  #/:浮点数除法；//:整数除法\n",
    "    \n",
    "    def __sub__(self,f2):  #subtract：减\n",
    "        newNum = self.num*f2.den - self.den*f2.num\n",
    "        newDen = self.den*f2.den\n",
    "        common = Fraction.gcb(newNum,newDen)\n",
    "        return Fraction(newNum//common,newDen//common)\n",
    "    \n",
    "    def __mul__(self,f2):  #multiply：乘\n",
    "        newNum = self.num*f2.num\n",
    "        newDen = self.den*f2.den\n",
    "        return Fraction(newNum,newDen)\n",
    "    \n",
    "    def __truediv__(self,f2):  #divide：除(/)   floordiv：地板除(//)\n",
    "        newNum = self.num*f2.den\n",
    "        newDen = self.den*f2.num\n",
    "        return Fraction(newNum,newDen)\n",
    "    \n",
    "    def __eq__(self,f2):  #深相等：一种数值上相等，却并不一定是相同指向的相等方式   equal：等于\n",
    "        firstNum = self.num*f2.den\n",
    "        secondNum = f2.num*self.den\n",
    "        return firstNum == secondNum\n",
    "    \n",
    "    def __lt__(self,f2):  #less than：小于\n",
    "        firstNum = self.num*f2.den\n",
    "        secondNum = f2.num*self.den\n",
    "        return firstNum < secondNum\n",
    "    \n",
    "    def __gt__(self,f2):  #greater than：大于\n",
    "        firstNum = self.num*f2.den\n",
    "        secondNum = f2.num*self.den\n",
    "        return firstNum > secondNum"
   ]
  },
  {
   "cell_type": "code",
   "execution_count": 2,
   "metadata": {},
   "outputs": [
    {
     "name": "stdout",
     "output_type": "stream",
     "text": [
      "1/2\n"
     ]
    }
   ],
   "source": [
    "f1 = Fraction(1,2)\n",
    "print(f1)"
   ]
  },
  {
   "cell_type": "code",
   "execution_count": 3,
   "metadata": {},
   "outputs": [
    {
     "name": "stdout",
     "output_type": "stream",
     "text": [
      "1/3\n"
     ]
    }
   ],
   "source": [
    "f2 = Fraction(1,3)\n",
    "print(f2)"
   ]
  },
  {
   "cell_type": "code",
   "execution_count": 4,
   "metadata": {},
   "outputs": [
    {
     "name": "stdout",
     "output_type": "stream",
     "text": [
      "5/6\n"
     ]
    }
   ],
   "source": [
    "print(f1+f2)"
   ]
  },
  {
   "cell_type": "code",
   "execution_count": 5,
   "metadata": {},
   "outputs": [
    {
     "name": "stdout",
     "output_type": "stream",
     "text": [
      "-1/6\n"
     ]
    }
   ],
   "source": [
    "print(f2-f1)"
   ]
  },
  {
   "cell_type": "code",
   "execution_count": 6,
   "metadata": {},
   "outputs": [
    {
     "name": "stdout",
     "output_type": "stream",
     "text": [
      "1/6\n"
     ]
    }
   ],
   "source": [
    "print(f1*f2)"
   ]
  },
  {
   "cell_type": "code",
   "execution_count": 7,
   "metadata": {},
   "outputs": [
    {
     "name": "stdout",
     "output_type": "stream",
     "text": [
      "3/2\n"
     ]
    }
   ],
   "source": [
    "print(f1/f2)"
   ]
  },
  {
   "cell_type": "code",
   "execution_count": 8,
   "metadata": {},
   "outputs": [
    {
     "data": {
      "text/plain": [
       "False"
      ]
     },
     "execution_count": 8,
     "metadata": {},
     "output_type": "execute_result"
    }
   ],
   "source": [
    "f1 == f2"
   ]
  },
  {
   "cell_type": "code",
   "execution_count": 9,
   "metadata": {},
   "outputs": [
    {
     "data": {
      "text/plain": [
       "True"
      ]
     },
     "execution_count": 9,
     "metadata": {},
     "output_type": "execute_result"
    }
   ],
   "source": [
    "f1 > f2"
   ]
  },
  {
   "cell_type": "code",
   "execution_count": 10,
   "metadata": {},
   "outputs": [
    {
     "data": {
      "text/plain": [
       "False"
      ]
     },
     "execution_count": 10,
     "metadata": {},
     "output_type": "execute_result"
    }
   ],
   "source": [
    "f1 < f2"
   ]
  }
 ],
 "metadata": {
  "kernelspec": {
   "display_name": "Python 3",
   "language": "python",
   "name": "python3"
  },
  "language_info": {
   "codemirror_mode": {
    "name": "ipython",
    "version": 3
   },
   "file_extension": ".py",
   "mimetype": "text/x-python",
   "name": "python",
   "nbconvert_exporter": "python",
   "pygments_lexer": "ipython3",
   "version": "3.6.1"
  }
 },
 "nbformat": 4,
 "nbformat_minor": 2
}
