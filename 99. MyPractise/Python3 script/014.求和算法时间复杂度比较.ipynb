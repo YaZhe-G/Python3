{
 "cells": [
  {
   "cell_type": "markdown",
   "metadata": {
    "collapsed": true
   },
   "source": [
    "# 大'O'表示法：O(f(n))\n",
    "    定义：当规模n增加时，T(n)函数中增长最快的部分。提供了计算过程中实际步数的近似值。函数f(n)是原始函数T(n)中主导部分的简化表示。\n",
    "    eg:\n",
    "        sum_of_n：T(n)=1+n，f(n)=n，-> O(n)\n",
    "        another：T(n)=5n^2+27n+1005，f(n)=n^2，-> O(n^2)\n",
    "    常见数量级函数f(n):\n",
    "        1< logn < n < nlogn < n^2 < n^3 <2^n"
   ]
  },
  {
   "cell_type": "code",
   "execution_count": 1,
   "metadata": {},
   "outputs": [
    {
     "name": "stdout",
     "output_type": "stream",
     "text": [
      "sum is 50000005000000 required 0.7726648 seconds\n",
      "sum is 50000005000000 required 0.7675571 seconds\n",
      "sum is 50000005000000 required 0.8340471 seconds\n",
      "sum is 50000005000000 required 0.7796521 seconds\n",
      "sum is 50000005000000 required 0.7657969 seconds\n"
     ]
    }
   ],
   "source": [
    "import time \n",
    "\n",
    "#time:O(n)\n",
    "def sum_of_n(n):\n",
    "    start = time.time()\n",
    "    the_sum = 0\n",
    "    for i in range(1,n+1):\n",
    "        the_sum += i\n",
    "    end = time.time()\n",
    "    return the_sum,end-start\n",
    "for i in range(5):\n",
    "    print(\"sum is %d required %.7f seconds\"%(sum_of_n(10000000)))"
   ]
  },
  {
   "cell_type": "code",
   "execution_count": 2,
   "metadata": {},
   "outputs": [
    {
     "name": "stdout",
     "output_type": "stream",
     "text": [
      "sum is 50000005000000 required 0.0000010 seconds\n",
      "sum is 50000005000000 required 0.0000019 seconds\n",
      "sum is 50000005000000 required 0.0000010 seconds\n",
      "sum is 50000005000000 required 0.0000007 seconds\n",
      "sum is 50000005000000 required 0.0000010 seconds\n"
     ]
    }
   ],
   "source": [
    "#time:O(1)\n",
    "def sum_of_n2(n):\n",
    "    start = time.time()\n",
    "    the_sum = ((n+1)*n)//2\n",
    "    end = time.time()\n",
    "    return the_sum,end-start\n",
    "for i in range(5):\n",
    "    print(\"sum is %d required %.7f seconds\"%(sum_of_n2(10000000)))"
   ]
  },
  {
   "cell_type": "code",
   "execution_count": null,
   "metadata": {
    "collapsed": true
   },
   "outputs": [],
   "source": []
  }
 ],
 "metadata": {
  "kernelspec": {
   "display_name": "Python 3",
   "language": "python",
   "name": "python3"
  },
  "language_info": {
   "codemirror_mode": {
    "name": "ipython",
    "version": 3
   },
   "file_extension": ".py",
   "mimetype": "text/x-python",
   "name": "python",
   "nbconvert_exporter": "python",
   "pygments_lexer": "ipython3",
   "version": "3.6.1"
  }
 },
 "nbformat": 4,
 "nbformat_minor": 2
}
