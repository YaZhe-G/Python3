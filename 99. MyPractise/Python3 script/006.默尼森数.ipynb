{
 "cells": [
  {
   "cell_type": "code",
   "execution_count": 8,
   "metadata": {},
   "outputs": [
    {
     "name": "stdout",
     "output_type": "stream",
     "text": [
      "    2     3\n",
      "    3     7\n",
      "    5    31\n",
      "    7   127\n",
      "   13  8191\n"
     ]
    }
   ],
   "source": [
    "#P是素数且M也是素数,并且满足等式M=2^P-1,则称M为默尼森(monisen)数\n",
    "from math import sqrt\n",
    "for i in range(2,14):\n",
    "    flag = 1\n",
    "    k = int(sqrt(i))\n",
    "    for j in range(2,k+1):\n",
    "        if i%j == 0:\n",
    "            flag = 0\n",
    "            break\n",
    "    if flag:\n",
    "        m = 2**i - 1\n",
    "        b = int(sqrt(m))\n",
    "        for a in range(2,b+1):\n",
    "            if m%a == 0:\n",
    "                flag = 0\n",
    "                break\n",
    "        if flag:\n",
    "            print ('{0:5d} {1:5d}'.format(i,m))"
   ]
  },
  {
   "cell_type": "code",
   "execution_count": null,
   "metadata": {
    "collapsed": true
   },
   "outputs": [],
   "source": []
  }
 ],
 "metadata": {
  "kernelspec": {
   "display_name": "Python 3",
   "language": "python",
   "name": "python3"
  },
  "language_info": {
   "codemirror_mode": {
    "name": "ipython",
    "version": 3
   },
   "file_extension": ".py",
   "mimetype": "text/x-python",
   "name": "python",
   "nbconvert_exporter": "python",
   "pygments_lexer": "ipython3",
   "version": "3.6.1"
  }
 },
 "nbformat": 4,
 "nbformat_minor": 2
}
