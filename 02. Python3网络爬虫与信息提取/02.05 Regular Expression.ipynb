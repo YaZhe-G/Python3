{
 "cells": [
  {
   "cell_type": "code",
   "execution_count": 24,
   "metadata": {
    "collapsed": false
   },
   "outputs": [
    {
     "name": "stdout",
     "output_type": "stream",
     "text": [
      "100081\n"
     ]
    }
   ],
   "source": [
    "#re库(是用来简洁表达一组字符串的表达式)的主要功能函数\n",
    "# 1.re.search(pattern,string,flags=0):在一个字符串中搜索匹配正则表达式的第一个位置，返回match对象\n",
    "import re \n",
    "match = re.search(r'[1-9]\\d{5}','BIT 100081 TSU100084')   #r'[1-9]\\d{5}':r表示raw_string：原生字符串类型(不含转义符号)\n",
    "if match:\n",
    "    print(match.group(0))"
   ]
  },
  {
   "cell_type": "code",
   "execution_count": 25,
   "metadata": {
    "collapsed": true
   },
   "outputs": [],
   "source": [
    "# 2.re.match(pattern,string,flags=0):从一个字符串的开始位置起匹配正则表达式，返回match对象\n",
    "import re\n",
    "match = re.match(r'[1-9]\\d{5}','BIT100081 TSU100084')\n",
    "if match:\n",
    "    print(match.group(0))   #此处的match是空，没有匹配到"
   ]
  },
  {
   "cell_type": "code",
   "execution_count": 26,
   "metadata": {
    "collapsed": false
   },
   "outputs": [
    {
     "name": "stdout",
     "output_type": "stream",
     "text": [
      "100081\n"
     ]
    }
   ],
   "source": [
    "match = re.match(r'[1-9]\\d{5}','100081BIT 100084TSU')\n",
    "if match:\n",
    "    print(match.group(0))   #这个时候match就匹配到了"
   ]
  },
  {
   "cell_type": "code",
   "execution_count": 27,
   "metadata": {
    "collapsed": false
   },
   "outputs": [
    {
     "data": {
      "text/plain": [
       "['100081', '100084']"
      ]
     },
     "execution_count": 27,
     "metadata": {},
     "output_type": "execute_result"
    }
   ],
   "source": [
    "# 3.re.findall(pattern,string,flags=0):搜索字符串，以列表类型返回全部能匹配的字串\n",
    "import re\n",
    "ls = re.findall(r'[1-9]\\d{5}','BIT100081 TSU100084')\n",
    "ls"
   ]
  },
  {
   "cell_type": "code",
   "execution_count": 28,
   "metadata": {
    "collapsed": false
   },
   "outputs": [
    {
     "data": {
      "text/plain": [
       "['BIT', ' TSU', '']"
      ]
     },
     "execution_count": 28,
     "metadata": {},
     "output_type": "execute_result"
    }
   ],
   "source": [
    "# 4.re.split(pattern,string,maxsplit=0,flags=0):将一个字符串按照正则表达式匹配结果进行分割，返回列表类型。\n",
    "import re\n",
    "re.split(r'[1-9]\\d{5}','BIT100081 TSU100084')"
   ]
  },
  {
   "cell_type": "code",
   "execution_count": 29,
   "metadata": {
    "collapsed": false
   },
   "outputs": [
    {
     "data": {
      "text/plain": [
       "['BIT', ' TSU100084']"
      ]
     },
     "execution_count": 29,
     "metadata": {},
     "output_type": "execute_result"
    }
   ],
   "source": [
    "re.split(r'[1-9]\\d{5}','BIT100081 TSU100084',maxsplit=1) #maxsplit:最大分割数，剩余部分作为最后一个元素输出"
   ]
  },
  {
   "cell_type": "code",
   "execution_count": 30,
   "metadata": {
    "collapsed": false
   },
   "outputs": [
    {
     "name": "stdout",
     "output_type": "stream",
     "text": [
      "100081\n",
      "100084\n"
     ]
    }
   ],
   "source": [
    "# 5.re.finditer(pattern,string,flags=0):搜索字符串，返回一个匹配结果的迭代类型，每个迭代元素是match对象\n",
    "import re\n",
    "for m in re.finditer(r'[1-9]\\d{5}','BIT100081 TSU100084'):\n",
    "    if m:\n",
    "        print(m.group(0))"
   ]
  },
  {
   "cell_type": "code",
   "execution_count": 31,
   "metadata": {
    "collapsed": false
   },
   "outputs": [
    {
     "data": {
      "text/plain": [
       "'BIT:zipcode TSU:zipcode'"
      ]
     },
     "execution_count": 31,
     "metadata": {},
     "output_type": "execute_result"
    }
   ],
   "source": [
    "# 6.re.sub(pattern,repl,string,count=0,flags=0):在一个字符串中替换所有匹配正则表达式的字串，返回替换后的字符串\n",
    "import re\n",
    "re.sub(r'[1-9]\\d{5}',':zipcode','BIT100081 TSU100084')"
   ]
  },
  {
   "cell_type": "code",
   "execution_count": 32,
   "metadata": {
    "collapsed": true
   },
   "outputs": [],
   "source": [
    "# regex = re.compile(pattern,flags=0):将正则表达式的字符串形式编译成正则表达式对象，表示一组字符串\n",
    "#regex.search()\n",
    "#regex.match()\n",
    "#regex.findall()\n",
    "#regex.split()\n",
    "#regex.finditer()\n",
    "#regex.sub()\n",
    "#好处：经过一次编译，当我们需要多次对正则表达式进行使用和匹配时，就可以使用compile这个类型来加快程序的运行"
   ]
  },
  {
   "cell_type": "code",
   "execution_count": 33,
   "metadata": {
    "collapsed": false
   },
   "outputs": [
    {
     "name": "stdout",
     "output_type": "stream",
     "text": [
      "100081\n"
     ]
    }
   ],
   "source": [
    "#Re库的match对象\n",
    "import re\n",
    "match = re.search(r'[1-9]\\d{5}','BIT 100081')\n",
    "if match:\n",
    "    print(match.group(0))"
   ]
  },
  {
   "cell_type": "code",
   "execution_count": 34,
   "metadata": {
    "collapsed": false
   },
   "outputs": [
    {
     "data": {
      "text/plain": [
       "_sre.SRE_Match"
      ]
     },
     "execution_count": 34,
     "metadata": {},
     "output_type": "execute_result"
    }
   ],
   "source": [
    "type(match)"
   ]
  },
  {
   "cell_type": "code",
   "execution_count": 35,
   "metadata": {
    "collapsed": false
   },
   "outputs": [
    {
     "data": {
      "text/plain": [
       "'BIT100081 TSU100084'"
      ]
     },
     "execution_count": 35,
     "metadata": {},
     "output_type": "execute_result"
    }
   ],
   "source": [
    "#Match对象的属性\n",
    "# 1.string：待匹配的文本\n",
    "import re\n",
    "m = re.search(r'[1-9]\\d{5}','BIT100081 TSU100084')\n",
    "m.string"
   ]
  },
  {
   "cell_type": "code",
   "execution_count": 36,
   "metadata": {
    "collapsed": false
   },
   "outputs": [
    {
     "data": {
      "text/plain": [
       "re.compile(r'[1-9]\\d{5}', re.UNICODE)"
      ]
     },
     "execution_count": 36,
     "metadata": {},
     "output_type": "execute_result"
    }
   ],
   "source": [
    "# 2.re：匹配时使用的pattern对象(正则表达式)\n",
    "m.re   #从结果说明：在程序内部认为，只有经过compile之后的正则表达式才是一个正则表达式，否则仅仅是正则表达式的一种表示"
   ]
  },
  {
   "cell_type": "code",
   "execution_count": 37,
   "metadata": {
    "collapsed": false
   },
   "outputs": [
    {
     "data": {
      "text/plain": [
       "0"
      ]
     },
     "execution_count": 37,
     "metadata": {},
     "output_type": "execute_result"
    }
   ],
   "source": [
    "# 3.pos：正则表达式搜索文本的开始位置\n",
    "m.pos"
   ]
  },
  {
   "cell_type": "code",
   "execution_count": 38,
   "metadata": {
    "collapsed": false
   },
   "outputs": [
    {
     "data": {
      "text/plain": [
       "19"
      ]
     },
     "execution_count": 38,
     "metadata": {},
     "output_type": "execute_result"
    }
   ],
   "source": [
    "# 4.endpos：正则表达式搜索文本的结束位置\n",
    "m.endpos"
   ]
  },
  {
   "cell_type": "code",
   "execution_count": 39,
   "metadata": {
    "collapsed": false
   },
   "outputs": [
    {
     "data": {
      "text/plain": [
       "'100081'"
      ]
     },
     "execution_count": 39,
     "metadata": {},
     "output_type": "execute_result"
    }
   ],
   "source": [
    "#Match对象的方法\n",
    "# 1.group(0):获得匹配后的字符串\n",
    "m.group(0)"
   ]
  },
  {
   "cell_type": "code",
   "execution_count": 40,
   "metadata": {
    "collapsed": false
   },
   "outputs": [
    {
     "data": {
      "text/plain": [
       "3"
      ]
     },
     "execution_count": 40,
     "metadata": {},
     "output_type": "execute_result"
    }
   ],
   "source": [
    "# 2.start():匹配字符串在原始字符串的开始位置\n",
    "m.start()"
   ]
  },
  {
   "cell_type": "code",
   "execution_count": 41,
   "metadata": {
    "collapsed": false
   },
   "outputs": [
    {
     "data": {
      "text/plain": [
       "9"
      ]
     },
     "execution_count": 41,
     "metadata": {},
     "output_type": "execute_result"
    }
   ],
   "source": [
    "# 3.end():匹配字符串在原始字符串的结束位置\n",
    "m.end()"
   ]
  },
  {
   "cell_type": "code",
   "execution_count": 42,
   "metadata": {
    "collapsed": false
   },
   "outputs": [
    {
     "data": {
      "text/plain": [
       "(3, 9)"
      ]
     },
     "execution_count": 42,
     "metadata": {},
     "output_type": "execute_result"
    }
   ],
   "source": [
    "# 4.span():返回(.start(),.end())\n",
    "m.span()"
   ]
  },
  {
   "cell_type": "code",
   "execution_count": 43,
   "metadata": {
    "collapsed": false
   },
   "outputs": [
    {
     "data": {
      "text/plain": [
       "'PYANBNCNDN'"
      ]
     },
     "execution_count": 43,
     "metadata": {},
     "output_type": "execute_result"
    }
   ],
   "source": [
    "#Re库的贪婪匹配:Re库默认采用贪婪匹配，即输出匹配最长的字串\n",
    "import re\n",
    "match = re.search(r'PY.*N','PYANBNCNDN')\n",
    "match.group(0)"
   ]
  },
  {
   "cell_type": "code",
   "execution_count": 45,
   "metadata": {
    "collapsed": false
   },
   "outputs": [
    {
     "data": {
      "text/plain": [
       "'PYAN'"
      ]
     },
     "execution_count": 45,
     "metadata": {},
     "output_type": "execute_result"
    }
   ],
   "source": [
    "#Re库的最小匹配:加个'?'\n",
    "match = re.search(r'PY.*?N','PYANBNCNDN')\n",
    "match.group(0)\n",
    "#最小匹配操作符\n",
    "#*?：前一个字符0次或无限次扩展，最小匹配\n",
    "#+?：前一个字符1次或无限次扩展，最小匹配\n",
    "#??：前一个字符0次或1次扩展，最小匹配\n",
    "#{m,n}?：扩展前一个字符m至n次(含n)，最小匹配"
   ]
  },
  {
   "cell_type": "code",
   "execution_count": null,
   "metadata": {
    "collapsed": true
   },
   "outputs": [],
   "source": []
  }
 ],
 "metadata": {
  "kernelspec": {
   "display_name": "Python 3",
   "language": "python",
   "name": "python3"
  },
  "language_info": {
   "codemirror_mode": {
    "name": "ipython",
    "version": 3
   },
   "file_extension": ".py",
   "mimetype": "text/x-python",
   "name": "python",
   "nbconvert_exporter": "python",
   "pygments_lexer": "ipython3",
   "version": "3.6.0"
  }
 },
 "nbformat": 4,
 "nbformat_minor": 2
}
