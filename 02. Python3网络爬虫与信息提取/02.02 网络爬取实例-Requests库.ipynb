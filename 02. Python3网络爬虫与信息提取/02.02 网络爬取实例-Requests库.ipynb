{
 "cells": [
  {
   "cell_type": "code",
   "execution_count": 1,
   "metadata": {},
   "outputs": [
    {
     "name": "stdout",
     "output_type": "stream",
     "text": [
      "<!-- shouji -->\n",
      "<!DOCTYPE HTML>\n",
      "<html lang=\"zh-CN\">\n",
      "<head>\n",
      "    <meta http-equiv=\"Content-Type\" content=\"text/html; charset=gbk\" />\n",
      "    <title>【华为荣耀8】荣耀8 4GB+64GB 全网通4G手机 魅海蓝【行情 报价 价格 评测】-京东</title>\n",
      "    <meta name=\"keywords\" content=\"HUAWEI荣耀8,华为荣耀8,华为荣耀8报价,HUAWEI荣耀8报价\"/>\n",
      "    <meta name=\"description\" content=\"【华为荣耀8】京东JD.COM提供华为荣耀8正品行货，并包括HUAWEI荣耀8网购指南，以及华为荣耀8图片、荣耀8参数、荣耀8评论、荣耀8心得、荣耀8技巧等信息，网购华为荣耀8上京东,放心又轻松\" />\n",
      "    <meta name=\"format-detection\" content=\"telephone=no\">\n",
      "    <meta http-equiv=\"mobile-agent\" content=\"format=xhtml; url=//item.m.jd.com/product/2967929.html\">\n",
      "    <meta http-equiv=\"mobile-agent\" content=\"format=html5; url=//item.m.jd.com/product/2967929.html\">\n",
      "    <meta http-equiv=\"X-UA-Compatible\" content=\"IE=Edge\">\n",
      "    <link rel=\"canonical\" href=\"//item.jd.com/2967929.html\"/>\n",
      "        <link rel=\"dns-prefetch\" href=\"//misc.360buyimg.com\"/>\n",
      "    <link rel=\"dns-prefetch\" href=\"//static.360buyimg.com\"/>\n",
      "    <link rel=\"dns-prefetch\" href=\"//img10.360buyimg.com\"/>\n",
      "    <link rel=\"dns-pre\n"
     ]
    }
   ],
   "source": [
    "# 1.爬取京东上的华为手机信息\n",
    "import requests\n",
    "url = \"https://item.jd.com/2967929.html\"\n",
    "try:\n",
    "    r = requests.get(url)\n",
    "    r.raise_for_status()\n",
    "    r.encoding = r.apparent_encoding\n",
    "    print(r.text[:1000])\n",
    "except:\n",
    "    print(\"爬取失败\")"
   ]
  },
  {
   "cell_type": "code",
   "execution_count": 2,
   "metadata": {},
   "outputs": [
    {
     "data": {
      "text/plain": [
       "503"
      ]
     },
     "execution_count": 2,
     "metadata": {},
     "output_type": "execute_result"
    }
   ],
   "source": [
    "# 2.亚马逊商品页面的爬取\n",
    "import requests\n",
    "r = requests.get(\"https://www.amazon.cn/gp/product/B01M8L5Z3Y\")\n",
    "r.status_code"
   ]
  },
  {
   "cell_type": "code",
   "execution_count": 3,
   "metadata": {},
   "outputs": [
    {
     "data": {
      "text/plain": [
       "'ISO-8859-1'"
      ]
     },
     "execution_count": 3,
     "metadata": {},
     "output_type": "execute_result"
    }
   ],
   "source": [
    "r.encoding"
   ]
  },
  {
   "cell_type": "code",
   "execution_count": 4,
   "metadata": {},
   "outputs": [
    {
     "data": {
      "text/plain": [
       "'<!--\\n        To discuss automated access to Amazon data please contact api-services-support@amazon.com.\\n        For information about migrating to our APIs refer to our Marketplace APIs at https://developer.amazonservices.com.cn/index.html/ref=rm_5_sv, or our Product Advertising API at https://associates.amazon.cn/gp/advertising/api/detail/main.html/ref=rm_5_ac for advertising use cases.\\n-->\\n<html><head><meta http-equiv=\"Content-Type\" content=\"text/html;charset=utf-8\"><title>亚马逊</title><body style=\"text-align:center;\"><br><div style=\"width:600px;margin:0 auto;text-align:left;\"><h2>意外错误</h2></div><br><div style=\"width:500px;margin:0 auto;text-align:left;\"><font color=\"red\">报歉，由于程序执行时，遇到意外错误，您刚刚操作没有执行成功，请稍后重试。或将此错误报告给我们的客服中心：<a href=\"mailto:service_bj@cs.amazon.cn\">service_bj@cs.amazon.cn</a></font><br><br>推荐您<a href=\"javascript:history.back(1)\">返回上一页</a>，确认您的操作无误后，再继续其他操作。<br>您可以通过亚马逊<a href=\"http://www.amazon.cn/help/ref=cs_503_link/\" target=\"_blank\">帮助中心</a>，获得更多的帮助。<br></div></body></html>\\ufeff'"
      ]
     },
     "execution_count": 4,
     "metadata": {},
     "output_type": "execute_result"
    }
   ],
   "source": [
    "r.encoding = r.apparent_encoding\n",
    "r.text"
   ]
  },
  {
   "cell_type": "code",
   "execution_count": 5,
   "metadata": {},
   "outputs": [
    {
     "data": {
      "text/plain": [
       "{'User-Agent': 'python-requests/2.14.2', 'Accept-Encoding': 'gzip, deflate', 'Accept': '*/*', 'Connection': 'keep-alive'}"
      ]
     },
     "execution_count": 5,
     "metadata": {},
     "output_type": "execute_result"
    }
   ],
   "source": [
    "r.request.headers"
   ]
  },
  {
   "cell_type": "code",
   "execution_count": 6,
   "metadata": {},
   "outputs": [
    {
     "data": {
      "text/plain": [
       "200"
      ]
     },
     "execution_count": 6,
     "metadata": {},
     "output_type": "execute_result"
    }
   ],
   "source": [
    "kv = {'user-agent':'Mozilla/5.0'}\n",
    "url = \"https://www.amazon.cn/gp/product/B01M8L5Z3Y\"\n",
    "r = requests.get(url,headers = kv)   #headers:字典，HTTP定制头\n",
    "r.status_code"
   ]
  },
  {
   "cell_type": "code",
   "execution_count": 7,
   "metadata": {},
   "outputs": [
    {
     "data": {
      "text/plain": [
       "{'user-agent': 'Mozilla/5.0', 'Accept-Encoding': 'gzip, deflate', 'Accept': '*/*', 'Connection': 'keep-alive'}"
      ]
     },
     "execution_count": 7,
     "metadata": {},
     "output_type": "execute_result"
    }
   ],
   "source": [
    "r.request.headers"
   ]
  },
  {
   "cell_type": "code",
   "execution_count": 11,
   "metadata": {},
   "outputs": [
    {
     "data": {
      "text/plain": [
       "');b=b||{};var c=f.logLevel||b.logLevel;c&&c!==k&&c!==m&&c!==n&&c!==p||a.ec++;c&&c!=k||a.ecf++;b.pageURL=\"\"+(e.location?e.location.href:\"\");b.logLevel=c;b.attribution=f.attribution||b.attribution;a.erl.push({ex:f,info:b})}}function l(a,b,c,e,g){d.ueLogError({m:a,f:b,l:c,c:\"\"+e,err:g,fromOnError:1,args:arguments},g?{attribution:g.attribution,logLevel:g.logLevel}:void 0);return!1}var k=\"FATAL\",m=\"ERROR\",n=\"WARN\",p=\"DOWNGRADED\",a={ec:0,ecf:0,\\npec:0,ts:0,erl:[],ter:[],mxe:50,startTimer:function(){a.ts++;setInterval(function(){d.ue&&a.pec<a.ec&&d.uex(\"at\");a.pec=a.ec},1E4)}};l.skipTrace=1;h.skipTrace=1;h.isStub=1;d.ueLogError=h;d.ue_err=a;e.onerror=l})(ue_csm,window);\\n\\nvar ue_url=\\'/gp/product/B01M8L5Z3Y/uedata/unsticky/460-7814194-4249603/Detail/ntpoffrw\\',\\nue_sid=\\'460-7814194-4249603\\',\\nue_mid=\\'AAHKV2X7AFYLW\\',\\nue_sn=\\'www.amazon.cn\\',\\nue_furl=\\'fls-cn.amazon.cn\\',\\nue_surl=\\'//unagi-cn.amazon.com/1/events/com.amazon.csm.nexusclient.prod\\',\\nue_navtiming=1,\\nue_fcsn=1,\\nue_isrw=true,\\nue_fpf=\\'//fls-cn.am'"
      ]
     },
     "execution_count": 11,
     "metadata": {},
     "output_type": "execute_result"
    }
   ],
   "source": [
    "r.text[1000:2000]"
   ]
  },
  {
   "cell_type": "code",
   "execution_count": 12,
   "metadata": {},
   "outputs": [
    {
     "name": "stdout",
     "output_type": "stream",
     "text": [
      ");b=b||{};var c=f.logLevel||b.logLevel;c&&c!==k&&c!==m&&c!==n&&c!==p||a.ec++;c&&c!=k||a.ecf++;b.pageURL=\"\"+(e.location?e.location.href:\"\");b.logLevel=c;b.attribution=f.attribution||b.attribution;a.erl.push({ex:f,info:b})}}function l(a,b,c,e,g){d.ueLogError({m:a,f:b,l:c,c:\"\"+e,err:g,fromOnError:1,args:arguments},g?{attribution:g.attribution,logLevel:g.logLevel}:void 0);return!1}var k=\"FATAL\",m=\"ERROR\",n=\"WARN\",p=\"DOWNGRADED\",a={ec:0,ecf:0,\n",
      "pec:0,ts:0,erl:[],ter:[],mxe:50,startTimer:function(){a.ts++;setInterval(function(){d.ue&&a.pec<a.ec&&d.uex(\"at\");a.pec=a.ec},1E4)}};l.skipTrace=1;h.skipTrace=1;h.isStub=1;d.ueLogError=h;d.ue_err=a;e.onerror=l})(ue_csm,window);\n",
      "\n",
      "var ue_url='/gp/product/B01M8L5Z3Y/uedata/unsticky/461-7615566-1024732/Detail/ntpoffrw',\n",
      "ue_sid='461-7615566-1024732',\n",
      "ue_mid='AAHKV2X7AFYLW',\n",
      "ue_sn='www.amazon.cn',\n",
      "ue_furl='fls-cn.amazon.cn',\n",
      "ue_surl='//unagi-cn.amazon.com/1/events/com.amazon.csm.nexusclient.prod',\n",
      "ue_navtiming=1,\n",
      "ue_fcsn=1,\n",
      "ue_isrw=true,\n",
      "ue_fpf='//fls-cn.am\n"
     ]
    }
   ],
   "source": [
    "#亚马逊全代码\n",
    "import requests\n",
    "url = \"https://www.amazon.cn/gp/product/B01M8L5Z3Y\"\n",
    "try:\n",
    "    kv = {'user-agent':'Mozilla/5.0'}\n",
    "    r = requests.get(url,headers=kv)\n",
    "    r.raise_for_status()\n",
    "    r.encoding = r.apparent_encoding\n",
    "    print(r.text[1000:2000])\n",
    "except:\n",
    "    print('爬取失败')"
   ]
  },
  {
   "cell_type": "code",
   "execution_count": 13,
   "metadata": {},
   "outputs": [
    {
     "data": {
      "text/plain": [
       "200"
      ]
     },
     "execution_count": 13,
     "metadata": {},
     "output_type": "execute_result"
    }
   ],
   "source": [
    "# 3.百度360关键字搜索\n",
    "import requests\n",
    "kv = {'wd':'Python'}\n",
    "r = requests.get(\"http://www.baidu.com/s\",params=kv)\n",
    "r.status_code"
   ]
  },
  {
   "cell_type": "code",
   "execution_count": 14,
   "metadata": {},
   "outputs": [
    {
     "data": {
      "text/plain": [
       "'http://www.baidu.com/s?wd=Python'"
      ]
     },
     "execution_count": 14,
     "metadata": {},
     "output_type": "execute_result"
    }
   ],
   "source": [
    "r.request.url"
   ]
  },
  {
   "cell_type": "code",
   "execution_count": 15,
   "metadata": {},
   "outputs": [
    {
     "data": {
      "text/plain": [
       "'utf-8'"
      ]
     },
     "execution_count": 15,
     "metadata": {},
     "output_type": "execute_result"
    }
   ],
   "source": [
    "r.encoding"
   ]
  },
  {
   "cell_type": "code",
   "execution_count": 16,
   "metadata": {},
   "outputs": [
    {
     "data": {
      "text/plain": [
       "358531"
      ]
     },
     "execution_count": 16,
     "metadata": {},
     "output_type": "execute_result"
    }
   ],
   "source": [
    "len(r.text)"
   ]
  },
  {
   "cell_type": "code",
   "execution_count": 17,
   "metadata": {},
   "outputs": [
    {
     "name": "stdout",
     "output_type": "stream",
     "text": [
      "http://www.baidu.com/s?wd=keyword&wd=Python\n",
      "304369\n"
     ]
    }
   ],
   "source": [
    "#百度关键字搜索全代码\n",
    "import requests\n",
    "url = \"http://www.baidu.com/s?wd=keyword\"  #百度的关键字搜索接口\n",
    "keyword = \"Python\"\n",
    "try:\n",
    "    kv = {'wd':keyword}\n",
    "    r = requests.get(url,params=kv)\n",
    "    print(r.request.url)\n",
    "    r.raise_for_status()\n",
    "    print(len(r.text))\n",
    "except:\n",
    "    print('爬取失败')"
   ]
  },
  {
   "cell_type": "code",
   "execution_count": 18,
   "metadata": {},
   "outputs": [
    {
     "name": "stdout",
     "output_type": "stream",
     "text": [
      "https://www.so.com/s?q=keyword&q=Python\n",
      "276778\n"
     ]
    }
   ],
   "source": [
    "#360关键字搜索全代码\n",
    "import requests\n",
    "url = \"http://www.so.com/s?q=keyword\"\n",
    "keyword = \"Python\"\n",
    "try:\n",
    "    kv = {'q':keyword}\n",
    "    r = requests.get(url,params=kv)\n",
    "    print(r.request.url)\n",
    "    r.raise_for_status()\n",
    "    print(len(r.text))\n",
    "except:\n",
    "    print('爬取失败')"
   ]
  },
  {
   "cell_type": "code",
   "execution_count": 19,
   "metadata": {},
   "outputs": [
    {
     "data": {
      "text/plain": [
       "200"
      ]
     },
     "execution_count": 19,
     "metadata": {},
     "output_type": "execute_result"
    }
   ],
   "source": [
    "# 4.网络图片的爬取和存储      网络图片链接的格式 http://www.example.com/picture.jpg\n",
    "import requests\n",
    "path = './abc.jpg'\n",
    "url = \"http://image.nationalgeographic.com.cn/2017/0211/20170211061910157.jpg\"\n",
    "r = requests.get(url)\n",
    "r.status_code"
   ]
  },
  {
   "cell_type": "code",
   "execution_count": 20,
   "metadata": {
    "collapsed": true
   },
   "outputs": [],
   "source": [
    "with open(path,'wb') as f:   #'wb'：表示写二进制文件    with open() as相当于try... except..，后面不需要加f.close()\n",
    "    f.write(r.content)"
   ]
  },
  {
   "cell_type": "code",
   "execution_count": 21,
   "metadata": {},
   "outputs": [
    {
     "name": "stdout",
     "output_type": "stream",
     "text": [
      "文件已存在\n"
     ]
    }
   ],
   "source": [
    "#图片爬取全代码\n",
    "import requests\n",
    "import os\n",
    "url = \"http://image.nationalgeographic.com.cn/2017/0211/20170211061910157.jpg\"\n",
    "root = \"./pictures/\"\n",
    "photo = root + url.split('/')[-1]\n",
    "try:\n",
    "    if not os.path.exists(root):   #os.path.exists(path):如果path存在，返回True；如果path不存在，返回False。\n",
    "        os.mkdir(root)\n",
    "    if not os.path.exists(photo):\n",
    "        r = requests.get(url)\n",
    "        with open(path,'wb') as f:\n",
    "            f.write(r.content)\n",
    "            f.close()\n",
    "            print('文件保存成功')\n",
    "    else:\n",
    "        print('文件已存在')\n",
    "except:\n",
    "    print('爬取失败')"
   ]
  },
  {
   "cell_type": "code",
   "execution_count": 22,
   "metadata": {},
   "outputs": [
    {
     "data": {
      "text/plain": [
       "200"
      ]
     },
     "execution_count": 22,
     "metadata": {},
     "output_type": "execute_result"
    }
   ],
   "source": [
    "# 5.IP地址归属地的自动查询\n",
    "import requests\n",
    "url = \"http://m.ip138.com/ip.asp?ip=\"\n",
    "r =requests.get(url + '202.204.80.112')\n",
    "r.status_code"
   ]
  },
  {
   "cell_type": "code",
   "execution_count": 23,
   "metadata": {},
   "outputs": [
    {
     "data": {
      "text/plain": [
       "'value=\"查询\" class=\"form-btn\" />\\r\\n\\t\\t\\t\\t\\t</form>\\r\\n\\t\\t\\t\\t</div>\\r\\n\\t\\t\\t\\t<div class=\"query-hd\">ip138.com IP查询(搜索IP地址的地理位置)</div>\\r\\n\\t\\t\\t\\t<h1 class=\"query\">您查询的IP：202.204.80.112</h1><p class=\"result\">本站主数据：北京市海淀区 北京理工大学 教育网</p><p class=\"result\">参考数据一：北京市 北京理工大学</p>\\r\\n\\r\\n\\t\\t\\t</div>\\r\\n\\t\\t</div>\\r\\n\\r\\n\\t\\t<div class=\"footer\">\\r\\n\\t\\t\\t<a href=\"http://www.miitbeian.gov.cn/\" rel=\"nofollow\" target=\"_blank\">沪ICP备10013467号-1</a>\\r\\n\\t\\t</div>\\r\\n\\t</div>\\r\\n\\r\\n\\t<script type=\"text/javascript\" src=\"/script/common.js\"></script></body>\\r\\n</html>\\r\\n'"
      ]
     },
     "execution_count": 23,
     "metadata": {},
     "output_type": "execute_result"
    }
   ],
   "source": [
    "r.text[-500:]"
   ]
  },
  {
   "cell_type": "code",
   "execution_count": 24,
   "metadata": {},
   "outputs": [
    {
     "name": "stdout",
     "output_type": "stream",
     "text": [
      "value=\"查询\" class=\"form-btn\" />\r\n",
      "\t\t\t\t\t</form>\r\n",
      "\t\t\t\t</div>\r\n",
      "\t\t\t\t<div class=\"query-hd\">ip138.com IP查询(搜索IP地址的地理位置)</div>\r\n",
      "\t\t\t\t<h1 class=\"query\">您查询的IP：202.204.80.112</h1><p class=\"result\">本站主数据：北京市海淀区 北京理工大学 教育网</p><p class=\"result\">参考数据一：北京市 北京理工大学</p>\r\n",
      "\r\n",
      "\t\t\t</div>\r\n",
      "\t\t</div>\r\n",
      "\r\n",
      "\t\t<div class=\"footer\">\r\n",
      "\t\t\t<a href=\"http://www.miitbeian.gov.cn/\" rel=\"nofollow\" target=\"_blank\">沪ICP备10013467号-1</a>\r\n",
      "\t\t</div>\r\n",
      "\t</div>\r\n",
      "\r\n",
      "\t<script type=\"text/javascript\" src=\"/script/common.js\"></script></body>\r\n",
      "</html>\r\n",
      "\n"
     ]
    }
   ],
   "source": [
    "#IP地址查询全代码\n",
    "import requests\n",
    "url = \"http://m.ip138.com/ip.asp?ip=\"\n",
    "try:\n",
    "    r = requests.get(url+'202.204.80.112')\n",
    "    r.raise_for_status()\n",
    "    r.encoding = r.apparent_encoding\n",
    "    print(r.text[-500:])\n",
    "except:\n",
    "    print('爬取失败')"
   ]
  },
  {
   "cell_type": "code",
   "execution_count": null,
   "metadata": {
    "collapsed": true
   },
   "outputs": [],
   "source": []
  }
 ],
 "metadata": {
  "kernelspec": {
   "display_name": "Python 3",
   "language": "python",
   "name": "python3"
  },
  "language_info": {
   "codemirror_mode": {
    "name": "ipython",
    "version": 3
   },
   "file_extension": ".py",
   "mimetype": "text/x-python",
   "name": "python",
   "nbconvert_exporter": "python",
   "pygments_lexer": "ipython3",
   "version": "3.6.1"
  }
 },
 "nbformat": 4,
 "nbformat_minor": 2
}
