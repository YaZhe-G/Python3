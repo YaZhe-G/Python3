{
 "cells": [
  {
   "cell_type": "code",
   "execution_count": 1,
   "metadata": {},
   "outputs": [
    {
     "name": "stdout",
     "output_type": "stream",
     "text": [
      "    排名    \t　　　学校名称　　　\t    省份    \t\n",
      "    1     \t　　　清华大学　　　\t   北京市    \t\n",
      "    2     \t　　　北京大学　　　\t   北京市    \t\n",
      "    3     \t　　　浙江大学　　　\t   浙江省    \t\n",
      "    4     \t　　上海交通大学　　\t   上海市    \t\n",
      "    5     \t　　　复旦大学　　　\t   上海市    \t\n",
      "    6     \t　　　南京大学　　　\t   江苏省    \t\n",
      "    7     \t　中国科学技术大学　\t   安徽省    \t\n",
      "    8     \t　哈尔滨工业大学　　\t   黑龙江省   \t\n",
      "    9     \t　　华中科技大学　　\t   湖北省    \t\n",
      "    10    \t　　　中山大学　　　\t   广东省    \t\n",
      "    11    \t　　　东南大学　　　\t   江苏省    \t\n",
      "    12    \t　　　天津大学　　　\t   天津市    \t\n",
      "    13    \t　　　同济大学　　　\t   上海市    \t\n",
      "    14    \t　北京航空航天大学　\t   北京市    \t\n",
      "    15    \t　　　四川大学　　　\t   四川省    \t\n",
      "    16    \t　　　武汉大学　　　\t   湖北省    \t\n",
      "    17    \t　　西安交通大学　　\t   陕西省    \t\n",
      "    18    \t　　　南开大学　　　\t   天津市    \t\n",
      "    19    \t　　大连理工大学　　\t   辽宁省    \t\n",
      "    20    \t　　　山东大学　　　\t   山东省    \t\n"
     ]
    }
   ],
   "source": [
    "#中国大学排名定向爬虫实例\n",
    "\n",
    "import requests\n",
    "from bs4 import BeautifulSoup\n",
    "import bs4\n",
    "\n",
    "# 1.从网络上获取大学排名网页内容\n",
    "def getHTMLText(url):\n",
    "    try:\n",
    "        r = requests.get(url,timeout = 30)\n",
    "        r.raise_for_status()\n",
    "        r.encoding = r.apparent_encoding\n",
    "        return r.text\n",
    "    except:\n",
    "        return \"\"\n",
    "\n",
    "# 2.提取网页内容中信息到合适的数据结构：二维数据\n",
    "def fillUnivList(ulist,html):\n",
    "    soup = BeautifulSoup(html,\"html.parser\")\n",
    "    for tr in soup.find('tbody').children:\n",
    "        if isinstance(tr,bs4.element.Tag):\n",
    "            tds = tr.find_all('td')\n",
    "            ulist.append([tds[0].string,tds[1].string,tds[2].string])\n",
    "\n",
    "# 3.利用数据结构展示并输出结果\n",
    "def printUnivList(ulist,num):\n",
    "    tplt = \"{0:^10}\\t{1:{3}^10}\\t{2:^10}\\t\"\n",
    "    print(tplt.format(\"排名\",\"学校名称\",\"省份\",chr(12288)))  #chr(12288):解决中英文输出排版问题\n",
    "    for i in range(num):\n",
    "        u = ulist[i]\n",
    "        print(tplt.format(u[0],u[1],u[2],chr(12288)))\n",
    "        \n",
    "        \n",
    "#主函数\n",
    "def main():\n",
    "    #将大学信息放到一个列表中\n",
    "    uinfo = []\n",
    "    url = \"http://www.zuihaodaxue.cn/zuihaodaxuepaiming2016.html\"\n",
    "    html = getHTMLText(url)\n",
    "    fillUnivList(uinfo,html)\n",
    "    printUnivList(uinfo,20)  #20 univs\n",
    "    \n",
    "if __name__ == '__main__':\n",
    "    main()"
   ]
  },
  {
   "cell_type": "code",
   "execution_count": null,
   "metadata": {
    "collapsed": true
   },
   "outputs": [],
   "source": []
  }
 ],
 "metadata": {
  "kernelspec": {
   "display_name": "Python 3",
   "language": "python",
   "name": "python3"
  },
  "language_info": {
   "codemirror_mode": {
    "name": "ipython",
    "version": 3
   },
   "file_extension": ".py",
   "mimetype": "text/x-python",
   "name": "python",
   "nbconvert_exporter": "python",
   "pygments_lexer": "ipython3",
   "version": "3.6.1"
  }
 },
 "nbformat": 4,
 "nbformat_minor": 2
}
