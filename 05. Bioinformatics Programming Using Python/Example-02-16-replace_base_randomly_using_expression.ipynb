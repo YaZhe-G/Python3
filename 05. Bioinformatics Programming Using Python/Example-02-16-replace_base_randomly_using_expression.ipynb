{
 "cells": [
  {
   "cell_type": "code",
   "execution_count": 1,
   "metadata": {
    "collapsed": true
   },
   "outputs": [],
   "source": [
    "from random import randint\n",
    "\n",
    "def replace_base_randomly_using_expression(base_seq):\n",
    "    \"\"\"Return a sequence with the base at a randomly selected position of base_seq replaced\n",
    "    by a base chosen randomly from the three bases that are not at that position\"\"\"\n",
    "    position = randint(0,len(base_seq)-1)\n",
    "    return (base_seq[0:position] + 'TCAG'.replace(base_seq[position],'')[randint(0,2)] + base_seq[position+1:])"
   ]
  },
  {
   "cell_type": "code",
   "execution_count": 2,
   "metadata": {},
   "outputs": [
    {
     "data": {
      "text/plain": [
       "'ATCA'"
      ]
     },
     "execution_count": 2,
     "metadata": {},
     "output_type": "execute_result"
    }
   ],
   "source": [
    "base_seq = 'ATCG'\n",
    "replace_base_randomly_using_expression(base_seq)"
   ]
  },
  {
   "cell_type": "code",
   "execution_count": 3,
   "metadata": {},
   "outputs": [
    {
     "data": {
      "text/plain": [
       "'ATGG'"
      ]
     },
     "execution_count": 3,
     "metadata": {},
     "output_type": "execute_result"
    }
   ],
   "source": [
    "base_seq = 'ATCG'\n",
    "replace_base_randomly_using_expression(base_seq)"
   ]
  },
  {
   "cell_type": "code",
   "execution_count": null,
   "metadata": {
    "collapsed": true
   },
   "outputs": [],
   "source": []
  }
 ],
 "metadata": {
  "kernelspec": {
   "display_name": "Python 3",
   "language": "python",
   "name": "python3"
  },
  "language_info": {
   "codemirror_mode": {
    "name": "ipython",
    "version": 3
   },
   "file_extension": ".py",
   "mimetype": "text/x-python",
   "name": "python",
   "nbconvert_exporter": "python",
   "pygments_lexer": "ipython3",
   "version": "3.6.1"
  }
 },
 "nbformat": 4,
 "nbformat_minor": 2
}
