{
 "cells": [
  {
   "cell_type": "code",
   "execution_count": 1,
   "metadata": {
    "collapsed": true
   },
   "outputs": [],
   "source": [
    "#Reading FASTA sequences with one compact function\n",
    "def read_FASTA(filename):\n",
    "    with open(filename) as file:\n",
    "        return [(part[0].split('|'),part[2].replace('\\n','')) for part in \n",
    "                [entry.partition('\\n') for entry in file.read().split('>')[1:]]]"
   ]
  },
  {
   "cell_type": "code",
   "execution_count": 2,
   "metadata": {
    "collapsed": true
   },
   "outputs": [],
   "source": [
    "#Reading FASTA entries from a file, binding names\n",
    "def read_FASTA(filename):\n",
    "    with open(filename) as file:\n",
    "        contents = file.read()\n",
    "    entries = contents.split('>')[1:]\n",
    "    partitioned_entries = [entry.partition('\\n') for entry in entries]\n",
    "    pairs = [(entry[0], entry[2]) for entry in partitioned_entries]\n",
    "    pairs2 = [(pair[0], pair[1].replace('\\n', '')) for pair in pairs]\n",
    "    result = [(pair[0].split('|'), pair[1]) for pair in pairs2]\n",
    "    return result"
   ]
  },
  {
   "cell_type": "code",
   "execution_count": null,
   "metadata": {
    "collapsed": true
   },
   "outputs": [],
   "source": []
  }
 ],
 "metadata": {
  "kernelspec": {
   "display_name": "Python 3",
   "language": "python",
   "name": "python3"
  },
  "language_info": {
   "codemirror_mode": {
    "name": "ipython",
    "version": 3
   },
   "file_extension": ".py",
   "mimetype": "text/x-python",
   "name": "python",
   "nbconvert_exporter": "python",
   "pygments_lexer": "ipython3",
   "version": "3.6.1"
  }
 },
 "nbformat": 4,
 "nbformat_minor": 2
}
