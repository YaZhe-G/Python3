{
 "cells": [
  {
   "cell_type": "code",
   "execution_count": 1,
   "metadata": {
    "collapsed": true
   },
   "outputs": [],
   "source": [
    "def echo1():\n",
    "    \"\"\"Prompt the user for a string, \"echo\" it, and return it\"\"\" \n",
    "    line = input('Say something: ')\n",
    "    print('You said', line)\n",
    "    return line"
   ]
  },
  {
   "cell_type": "code",
   "execution_count": 3,
   "metadata": {},
   "outputs": [],
   "source": [
    "def recording_echo():\n",
    "    \"\"\"Echo the user's input until it equals 'bye', then return a list of all the inputs received\"\"\" \n",
    "    lst = []\n",
    "    entry = echo1()\n",
    "    while entry != 'bye':\n",
    "        lst.append(entry)\n",
    "        entry = echo1() \n",
    "    return lst"
   ]
  },
  {
   "cell_type": "code",
   "execution_count": 4,
   "metadata": {},
   "outputs": [
    {
     "name": "stdout",
     "output_type": "stream",
     "text": [
      "Say something: hello bio\n",
      "You said hello bio\n",
      "Say something: bye\n",
      "You said bye\n"
     ]
    },
    {
     "data": {
      "text/plain": [
       "['hello bio']"
      ]
     },
     "execution_count": 4,
     "metadata": {},
     "output_type": "execute_result"
    }
   ],
   "source": [
    "recording_echo()"
   ]
  },
  {
   "cell_type": "code",
   "execution_count": null,
   "metadata": {
    "collapsed": true
   },
   "outputs": [],
   "source": []
  }
 ],
 "metadata": {
  "kernelspec": {
   "display_name": "Python 3",
   "language": "python",
   "name": "python3"
  },
  "language_info": {
   "codemirror_mode": {
    "name": "ipython",
    "version": 3
   },
   "file_extension": ".py",
   "mimetype": "text/x-python",
   "name": "python",
   "nbconvert_exporter": "python",
   "pygments_lexer": "ipython3",
   "version": "3.6.1"
  }
 },
 "nbformat": 4,
 "nbformat_minor": 2
}
