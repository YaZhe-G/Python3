{
 "cells": [
  {
   "cell_type": "code",
   "execution_count": 1,
   "metadata": {
    "collapsed": true
   },
   "outputs": [],
   "source": [
    "def read_FASTA_iteration(filename):\n",
    "    sequences = []\n",
    "    descr = None\n",
    "    with open(filename) as file:\n",
    "        for line in file:\n",
    "            if line[0] == '>':\n",
    "                if descr:                             # have we found one yet?\n",
    "                    sequences.append((descr, seq))\n",
    "                descr = line[1:-1].split('|')\n",
    "                seq = '' \n",
    "            else:                                     # start a new sequence\n",
    "                seq += line[:-1]\n",
    "        sequences.append((descr, seq))                # add the last one found\n",
    "    return sequences"
   ]
  },
  {
   "cell_type": "code",
   "execution_count": 2,
   "metadata": {
    "collapsed": true
   },
   "outputs": [],
   "source": [
    "def read_FASTA(filename):\n",
    "    with open(filename) as file:\n",
    "        return [(part[0].split('|'),\n",
    "                 part[2].replace('\\n', ''))\n",
    "                for part in \n",
    "                [entry.partition('\\n')\n",
    "                 for entry in file.read().split('>')[1:]]]"
   ]
  },
  {
   "cell_type": "code",
   "execution_count": 3,
   "metadata": {
    "collapsed": true
   },
   "outputs": [],
   "source": [
    "def read_FASTA_loop(filename): \n",
    "    sequences = []\n",
    "    descr = None\n",
    "    with open(filename) as file:\n",
    "        line = file.readline()[:-1]                  # always trim newline\n",
    "        while line:\n",
    "            if line[0] == '>': \n",
    "                if descr:                            # any sequence found yet?\n",
    "                    sequences.append((descr, seq)) \n",
    "                descr = line[1:].split('|')\n",
    "                seq = ''                             # start a new sequence\n",
    "            else:\n",
    "                seq += line\n",
    "            line = file.readline()[:-1] \n",
    "        sequences.append((descr, seq))               # easy to forget!\n",
    "    return sequences"
   ]
  },
  {
   "cell_type": "code",
   "execution_count": null,
   "metadata": {
    "collapsed": true
   },
   "outputs": [],
   "source": []
  }
 ],
 "metadata": {
  "kernelspec": {
   "display_name": "Python 3",
   "language": "python",
   "name": "python3"
  },
  "language_info": {
   "codemirror_mode": {
    "name": "ipython",
    "version": 3
   },
   "file_extension": ".py",
   "mimetype": "text/x-python",
   "name": "python",
   "nbconvert_exporter": "python",
   "pygments_lexer": "ipython3",
   "version": "3.6.1"
  }
 },
 "nbformat": 4,
 "nbformat_minor": 2
}
