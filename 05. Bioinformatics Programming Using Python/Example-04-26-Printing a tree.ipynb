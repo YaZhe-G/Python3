{
 "cells": [
  {
   "cell_type": "code",
   "execution_count": 4,
   "metadata": {
    "collapsed": true
   },
   "outputs": [],
   "source": [
    "tree = ['',\n",
    "    ['A',\n",
    "        ['CC',\n",
    "            ['CCTGATTACCG'],\n",
    "            ['G']\n",
    "        ],\n",
    "        ['TTACCG']\n",
    "    ],\n",
    "    ['C',\n",
    "        ['C',\n",
    "            ['CTGATTACCG'],\n",
    "            ['TGATTACCG'],\n",
    "            ['G']\n",
    "        ],\n",
    "        ['TGATTACCG'],\n",
    "        ['G']\n",
    "    ],\n",
    "    ['T',\n",
    "        ['GATTACCG'],\n",
    "        ['TACCG'],\n",
    "        ['ACCG']\n",
    "    ],\n",
    "    ['GATTACCG']\n",
    "]\n",
    "\n",
    "def treeprint(tree, level=0):\n",
    "    print(' ' * 4 * level, tree[0], sep = '')\n",
    "    for node in tree[1:]:\n",
    "        treeprint(node,level+1)"
   ]
  },
  {
   "cell_type": "code",
   "execution_count": 5,
   "metadata": {},
   "outputs": [
    {
     "name": "stdout",
     "output_type": "stream",
     "text": [
      " \n",
      "     A\n",
      "         CC\n",
      "             CCTGATTACCG\n",
      "             G\n",
      "         TTACCG\n",
      "     C\n",
      "         C\n",
      "             CTGATTACCG\n",
      "             TGATTACCG\n",
      "             G\n",
      "         TGATTACCG\n",
      "         G\n",
      "     T\n",
      "         GATTACCG\n",
      "         TACCG\n",
      "         ACCG\n",
      "     GATTACCG\n"
     ]
    }
   ],
   "source": [
    "treeprint(tree, level=0)"
   ]
  },
  {
   "cell_type": "code",
   "execution_count": 6,
   "metadata": {},
   "outputs": [
    {
     "name": "stdout",
     "output_type": "stream",
     "text": [
      "['', ['A', ['CC', ['CCTGATTACCG'], ['G']], ['TTACCG']], ['C', ['C', ['CTGATTACCG'], ['TGATTACCG'], ['G']], ['TGATTACCG'], ['G']], ['T', ['GATTACCG'], ['TACCG'], ['ACCG']], ['GATTACCG']]\n"
     ]
    }
   ],
   "source": [
    "print(tree)"
   ]
  },
  {
   "cell_type": "code",
   "execution_count": null,
   "metadata": {
    "collapsed": true
   },
   "outputs": [],
   "source": []
  }
 ],
 "metadata": {
  "kernelspec": {
   "display_name": "Python 3",
   "language": "python",
   "name": "python3"
  },
  "language_info": {
   "codemirror_mode": {
    "name": "ipython",
    "version": 3
   },
   "file_extension": ".py",
   "mimetype": "text/x-python",
   "name": "python",
   "nbconvert_exporter": "python",
   "pygments_lexer": "ipython3",
   "version": "3.6.1"
  }
 },
 "nbformat": 4,
 "nbformat_minor": 2
}
