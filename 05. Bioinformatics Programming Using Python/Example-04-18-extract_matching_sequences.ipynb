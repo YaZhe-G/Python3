{
 "cells": [
  {
   "cell_type": "code",
   "execution_count": 1,
   "metadata": {
    "collapsed": true
   },
   "outputs": [],
   "source": [
    "def extract_matching_sequences(filename, string):\n",
    "    \"\"\"From a FASTA file named filename, extract all sequences whose descriptions contain string\"\"\" \n",
    "    sequences = []\n",
    "    seq = ''\n",
    "    with open(filename) as file:\n",
    "        for line in file:\n",
    "            if line[0] == '>':\n",
    "                if seq:                       # not first time through\n",
    "                    sequences.append(seq)\n",
    "                seq = ''                      # next sequence detected\n",
    "                includeflag = string in line  # flag for later iterations\n",
    "            else:\n",
    "                if includeflag:\n",
    "                    seq += line[:-1]\n",
    "        if seq:                               # last sequence in file is included\n",
    "            sequences.append(seq)\n",
    "\n",
    "\n",
    "    return sequences"
   ]
  },
  {
   "cell_type": "code",
   "execution_count": null,
   "metadata": {
    "collapsed": true
   },
   "outputs": [],
   "source": []
  }
 ],
 "metadata": {
  "kernelspec": {
   "display_name": "Python 3",
   "language": "python",
   "name": "python3"
  },
  "language_info": {
   "codemirror_mode": {
    "name": "ipython",
    "version": 3
   },
   "file_extension": ".py",
   "mimetype": "text/x-python",
   "name": "python",
   "nbconvert_exporter": "python",
   "pygments_lexer": "ipython3",
   "version": "3.6.1"
  }
 },
 "nbformat": 4,
 "nbformat_minor": 2
}
