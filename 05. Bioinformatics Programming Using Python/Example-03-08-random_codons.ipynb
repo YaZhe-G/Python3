{
 "cells": [
  {
   "cell_type": "code",
   "execution_count": 1,
   "metadata": {
    "collapsed": true
   },
   "outputs": [],
   "source": [
    "RNA_codon_table = { \n",
    "    #U\n",
    "    'UUU': 'Phe', 'UCU': 'Ser', 'UAU': 'Tyr', 'UGU': 'Cys',\n",
    "    'UUC': 'Phe', 'UCC': 'Ser', 'UAC': 'Tyr', 'UGC': 'Cys',\n",
    "    'UUA': 'Leu', 'UCA': 'Ser', 'UAA': '---', 'UGA': '---',\n",
    "    'UUG': 'Leu', 'UCG': 'Ser', 'UAG': '---', 'UGG': 'Urp',\n",
    "    #C\n",
    "    'CUU': 'Leu', 'CCU': 'Pro', 'CAU': 'His', 'CGU': 'Arg',\n",
    "    'CUC': 'Leu', 'CCC': 'Pro', 'CAC': 'His', 'CGC': 'Arg',\n",
    "    'CUA': 'Leu', 'CCA': 'Pro', 'CAA': 'Gln', 'CGA': 'Arg',\n",
    "    'CUG': 'Leu', 'CCG': 'Pro', 'CAG': 'Gln', 'CGG': 'Arg',\n",
    "    # A\n",
    "    'AUU': 'Ile', 'ACU': 'Thr', 'AAU': 'Asn', 'AGU': 'Ser',\n",
    "    'AUC': 'Ile', 'ACC': 'Thr', 'AAC': 'Asn', 'AGC': 'Ser',\n",
    "    'AUA': 'Ile', 'ACA': 'Thr', 'AAA': 'Lys', 'AGA': 'Arg',\n",
    "    'AUG': 'Met', 'ACG': 'Thr', 'AAG': 'Lys', 'AGG': 'Arg',\n",
    "    #G\n",
    "    'GUU': 'Val', 'GCU': 'Ala', 'GAU': 'Asp', 'GGU': 'Gly',\n",
    "    'GUC': 'Val', 'GCC': 'Ala', 'GAC': 'Asp', 'GGC': 'Gly',\n",
    "    'GUA': 'Val', 'GCA': 'Ala', 'GAA': 'Glu', 'GGA': 'Gly',\n",
    "    'GUG': 'Val', 'GCG': 'Ala', 'GAG': 'Glu', 'GGG': 'Gly'\n",
    "}\n",
    "\n",
    "def translate_RNA_codon(codon):\n",
    "    return RNA_codon_table[codon]"
   ]
  },
  {
   "cell_type": "code",
   "execution_count": 2,
   "metadata": {
    "collapsed": true
   },
   "outputs": [],
   "source": [
    "from random import randint\n",
    "\n",
    "def random_base(RNAflag=False):\n",
    "    return('UCAG' if RNAflag else 'TCAG')[randint(0,3)]\n",
    "\n",
    "def random_codon(RNAflag=False):\n",
    "    return random_base(RNAflag) + random_base(RNAflag) + random_base(RNAflag)\n",
    "\n",
    "def random_codons(minlength=3,maxlength=10,RNAflag=False):\n",
    "    \"\"\"Generate a random list of codons(RNA if RNAflag,else DNA)\n",
    "    between minlength and maxlength,inclusive\"\"\"\n",
    "    return [random_codon(RNAflag) for n in range(randint(minlength,maxlength))]\n",
    "\n",
    "def random_codons_translation(minlength=3,maxlength=10):\n",
    "    \"\"\"Generate a random list of codons between minlength and maxlength,inclusive\"\"\"\n",
    "    return [translate_RNA_codon(codon) for codon in random_codons(minlength,maxlength,True)]"
   ]
  },
  {
   "cell_type": "code",
   "execution_count": 3,
   "metadata": {},
   "outputs": [
    {
     "data": {
      "text/plain": [
       "['TGC', 'GAA', 'ACA', 'AAA', 'TTA', 'AGG']"
      ]
     },
     "execution_count": 3,
     "metadata": {},
     "output_type": "execute_result"
    }
   ],
   "source": [
    "random_codons()"
   ]
  },
  {
   "cell_type": "code",
   "execution_count": 4,
   "metadata": {},
   "outputs": [
    {
     "data": {
      "text/plain": [
       "['AGC', 'UGG', 'GCA', 'CGG', 'ACU', 'UGC', 'CUA', 'AUA', 'GCU']"
      ]
     },
     "execution_count": 4,
     "metadata": {},
     "output_type": "execute_result"
    }
   ],
   "source": [
    "random_codons(RNAflag=True)"
   ]
  },
  {
   "cell_type": "code",
   "execution_count": 5,
   "metadata": {},
   "outputs": [
    {
     "data": {
      "text/plain": [
       "['Ser', 'Ile', 'Cys', 'Ser', 'Arg', 'Pro', 'Thr', 'Asn', 'Leu', 'Glu']"
      ]
     },
     "execution_count": 5,
     "metadata": {},
     "output_type": "execute_result"
    }
   ],
   "source": [
    "random_codons_translation()"
   ]
  },
  {
   "cell_type": "code",
   "execution_count": null,
   "metadata": {
    "collapsed": true
   },
   "outputs": [],
   "source": []
  }
 ],
 "metadata": {
  "kernelspec": {
   "display_name": "Python 3",
   "language": "python",
   "name": "python3"
  },
  "language_info": {
   "codemirror_mode": {
    "name": "ipython",
    "version": 3
   },
   "file_extension": ".py",
   "mimetype": "text/x-python",
   "name": "python",
   "nbconvert_exporter": "python",
   "pygments_lexer": "ipython3",
   "version": "3.6.1"
  }
 },
 "nbformat": 4,
 "nbformat_minor": 2
}
