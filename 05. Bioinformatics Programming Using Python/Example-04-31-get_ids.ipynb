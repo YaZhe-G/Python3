{
 "cells": [
  {
   "cell_type": "code",
   "execution_count": 4,
   "metadata": {
    "collapsed": true
   },
   "outputs": [],
   "source": [
    "def get_ids(filename):\n",
    "    with open(filename) as src:\n",
    "        line = src.readline()\n",
    "        while not line.startswith('VERSION'):\n",
    "            line = src.readline()\n",
    "        # split at whitespace; removes \\n\n",
    "        parts = line.split()\n",
    "        # should be VERSION acc GI:id\n",
    "        assert 3 == len(parts), parts \n",
    "        giparts = parts[2].partition(':') \n",
    "        # if no colon, [1] & [2] are empty\n",
    "        assert giparts[2], giparts\n",
    "        # all numbers?\n",
    "        assert giparts[2].isdigit() \n",
    "        return (parts[1], giparts[2])"
   ]
  },
  {
   "cell_type": "code",
   "execution_count": 5,
   "metadata": {},
   "outputs": [
    {
     "name": "stdout",
     "output_type": "stream",
     "text": [
      "('U49845.1', '1293613')\n"
     ]
    }
   ],
   "source": [
    "data = get_ids('./sequence-0431.gb')\n",
    "print(data)"
   ]
  },
  {
   "cell_type": "code",
   "execution_count": null,
   "metadata": {
    "collapsed": true
   },
   "outputs": [],
   "source": []
  }
 ],
 "metadata": {
  "kernelspec": {
   "display_name": "Python 3",
   "language": "python",
   "name": "python3"
  },
  "language_info": {
   "codemirror_mode": {
    "name": "ipython",
    "version": 3
   },
   "file_extension": ".py",
   "mimetype": "text/x-python",
   "name": "python",
   "nbconvert_exporter": "python",
   "pygments_lexer": "ipython3",
   "version": "3.6.1"
  }
 },
 "nbformat": 4,
 "nbformat_minor": 2
}
