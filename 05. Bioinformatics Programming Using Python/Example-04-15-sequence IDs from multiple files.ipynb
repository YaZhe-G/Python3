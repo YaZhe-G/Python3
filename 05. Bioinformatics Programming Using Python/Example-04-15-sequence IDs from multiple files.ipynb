{
 "cells": [
  {
   "cell_type": "code",
   "execution_count": 1,
   "metadata": {
    "collapsed": true
   },
   "outputs": [],
   "source": [
    "def extract_gi_id(description):\n",
    "    \"\"\"Given a FASTA file description line, return its GenInfo ID if it has one\"\"\"\n",
    "    if line[0] != '>':\n",
    "        return None\n",
    "    fields = description[1:].split('|') \n",
    "    if 'gi' not in fields:\n",
    "        return None\n",
    "    return fields[1 + fields.index('gi')]"
   ]
  },
  {
   "cell_type": "code",
   "execution_count": 2,
   "metadata": {
    "collapsed": true
   },
   "outputs": [],
   "source": [
    "def get_gi_ids(filename):\n",
    "    \"\"\"Return a list of the GenInfo IDs of all sequences found in the file named filename\"\"\" \n",
    "    with open(filename) as file:\n",
    "        return [extract_gi_id(line) for line in file if line[0] == '>']"
   ]
  },
  {
   "cell_type": "code",
   "execution_count": null,
   "metadata": {
    "collapsed": true
   },
   "outputs": [],
   "source": [
    "def get_gi_ids_from_files(filenames):\n",
    "    \"\"\"Return a list of the GenInfo IDs of all sequences found in the files\n",
    "    whose names are contained in the collection filenames\"\"\" \n",
    "    idlst = []\n",
    "    for filename in filenames:\n",
    "        idlst += get_gi_ids(filename) \n",
    "    return idlst"
   ]
  }
 ],
 "metadata": {
  "kernelspec": {
   "display_name": "Python 3",
   "language": "python",
   "name": "python3"
  },
  "language_info": {
   "codemirror_mode": {
    "name": "ipython",
    "version": 3
   },
   "file_extension": ".py",
   "mimetype": "text/x-python",
   "name": "python",
   "nbconvert_exporter": "python",
   "pygments_lexer": "ipython3",
   "version": "3.6.1"
  }
 },
 "nbformat": 4,
 "nbformat_minor": 2
}
