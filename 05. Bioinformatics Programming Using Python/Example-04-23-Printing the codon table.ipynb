{
 "cells": [
  {
   "cell_type": "code",
   "execution_count": 1,
   "metadata": {
    "collapsed": true
   },
   "outputs": [],
   "source": [
    "RNA_codon_table = { \n",
    "    #U\n",
    "    'UUU': 'Phe', 'UCU': 'Ser', 'UAU': 'Tyr', 'UGU': 'Cys',\n",
    "    'UUC': 'Phe', 'UCC': 'Ser', 'UAC': 'Tyr', 'UGC': 'Cys',\n",
    "    'UUA': 'Leu', 'UCA': 'Ser', 'UAA': '---', 'UGA': '---',\n",
    "    'UUG': 'Leu', 'UCG': 'Ser', 'UAG': '---', 'UGG': 'Urp',\n",
    "    #C\n",
    "    'CUU': 'Leu', 'CCU': 'Pro', 'CAU': 'His', 'CGU': 'Arg',\n",
    "    'CUC': 'Leu', 'CCC': 'Pro', 'CAC': 'His', 'CGC': 'Arg',\n",
    "    'CUA': 'Leu', 'CCA': 'Pro', 'CAA': 'Gln', 'CGA': 'Arg',\n",
    "    'CUG': 'Leu', 'CCG': 'Pro', 'CAG': 'Gln', 'CGG': 'Arg',\n",
    "    # A\n",
    "    'AUU': 'Ile', 'ACU': 'Thr', 'AAU': 'Asn', 'AGU': 'Ser',\n",
    "    'AUC': 'Ile', 'ACC': 'Thr', 'AAC': 'Asn', 'AGC': 'Ser',\n",
    "    'AUA': 'Ile', 'ACA': 'Thr', 'AAA': 'Lys', 'AGA': 'Arg',\n",
    "    'AUG': 'Met', 'ACG': 'Thr', 'AAG': 'Lys', 'AGG': 'Arg',\n",
    "    #G\n",
    "    'GUU': 'Val', 'GCU': 'Ala', 'GAU': 'Asp', 'GGU': 'Gly',\n",
    "    'GUC': 'Val', 'GCC': 'Ala', 'GAC': 'Asp', 'GGC': 'Gly',\n",
    "    'GUA': 'Val', 'GCA': 'Ala', 'GAA': 'Glu', 'GGA': 'Gly',\n",
    "    'GUG': 'Val', 'GCG': 'Ala', 'GAG': 'Glu', 'GGG': 'Gly'\n",
    "}\n",
    "\n",
    "def translate_RNA_codon(codon):\n",
    "    return RNA_codon_table[codon]"
   ]
  },
  {
   "cell_type": "code",
   "execution_count": 2,
   "metadata": {
    "collapsed": true
   },
   "outputs": [],
   "source": [
    "RNA_bases = 'UCAG'\n",
    "\n",
    "def print_codon_table():\n",
    "    \"\"\"Print the RNA codon table in a nice, but simple, arrangement\"\"\"\n",
    "    for base1 in RNA_bases:                      # horizontal section (or \"group\")\n",
    "        for base3 in RNA_bases:                  # line (or \"row\")\n",
    "            for base2 in RNA_bases:              # vertical section (or \"column\")\n",
    "                # the base2 loop is inside the base3 loop! \n",
    "                print(base1+base2+base3,translate_RNA_codon(base1+base2+base3),end=' ') \n",
    "            print()\n",
    "        print()"
   ]
  },
  {
   "cell_type": "code",
   "execution_count": 3,
   "metadata": {},
   "outputs": [
    {
     "name": "stdout",
     "output_type": "stream",
     "text": [
      "UUU Phe UCU Ser UAU Tyr UGU Cys \n",
      "UUC Phe UCC Ser UAC Tyr UGC Cys \n",
      "UUA Leu UCA Ser UAA --- UGA --- \n",
      "UUG Leu UCG Ser UAG --- UGG Urp \n",
      "\n",
      "CUU Leu CCU Pro CAU His CGU Arg \n",
      "CUC Leu CCC Pro CAC His CGC Arg \n",
      "CUA Leu CCA Pro CAA Gln CGA Arg \n",
      "CUG Leu CCG Pro CAG Gln CGG Arg \n",
      "\n",
      "AUU Ile ACU Thr AAU Asn AGU Ser \n",
      "AUC Ile ACC Thr AAC Asn AGC Ser \n",
      "AUA Ile ACA Thr AAA Lys AGA Arg \n",
      "AUG Met ACG Thr AAG Lys AGG Arg \n",
      "\n",
      "GUU Val GCU Ala GAU Asp GGU Gly \n",
      "GUC Val GCC Ala GAC Asp GGC Gly \n",
      "GUA Val GCA Ala GAA Glu GGA Gly \n",
      "GUG Val GCG Ala GAG Glu GGG Gly \n",
      "\n"
     ]
    }
   ],
   "source": [
    "print_codon_table()"
   ]
  },
  {
   "cell_type": "code",
   "execution_count": null,
   "metadata": {
    "collapsed": true
   },
   "outputs": [],
   "source": []
  }
 ],
 "metadata": {
  "kernelspec": {
   "display_name": "Python 3",
   "language": "python",
   "name": "python3"
  },
  "language_info": {
   "codemirror_mode": {
    "name": "ipython",
    "version": 3
   },
   "file_extension": ".py",
   "mimetype": "text/x-python",
   "name": "python",
   "nbconvert_exporter": "python",
   "pygments_lexer": "ipython3",
   "version": "3.6.1"
  }
 },
 "nbformat": 4,
 "nbformat_minor": 2
}
