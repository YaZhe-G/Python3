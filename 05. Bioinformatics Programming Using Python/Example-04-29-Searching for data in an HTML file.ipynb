{
 "cells": [
  {
   "cell_type": "code",
   "execution_count": 1,
   "metadata": {
    "collapsed": true
   },
   "outputs": [],
   "source": [
    "import sys\n",
    "\n",
    "endresults = '- - - - - - - - end Results - - - - - -' \n",
    "patterns = ('</em>]',\n",
    "            '\\n',\n",
    "            '</a></div><div class=\"rprtMainSec\"><div class=\"summary\">', \n",
    "           )\n",
    "def get_field(contents, pattern, endpos): \n",
    "    endpos = contents.rfind(pattern, 0, endpos) \n",
    "    if endpos < 0:\n",
    "        raise StopIteration\n",
    "    startpos = contents.rfind('>', 0, endpos) \n",
    "    return (endpos, contents[startpos+1:endpos])"
   ]
  },
  {
   "cell_type": "code",
   "execution_count": 2,
   "metadata": {
    "collapsed": true
   },
   "outputs": [],
   "source": [
    "def get_next(contents, endpos): \n",
    "    fields = []\n",
    "    for pattern in patterns:\n",
    "        endpos, field = get_field(contents, pattern, endpos)\n",
    "        fields.append(field) \n",
    "    fields.reverse()\n",
    "    return endpos, fields"
   ]
  },
  {
   "cell_type": "code",
   "execution_count": 3,
   "metadata": {
    "collapsed": true
   },
   "outputs": [],
   "source": [
    "def get_gene_info(contents): \n",
    "    lst = []\n",
    "    endpos = contents.rfind(endresults, 0, len(contents))\n",
    "    try: \n",
    "        while(True):\n",
    "            endpos, fields = get_next(contents, endpos)\n",
    "            lst.append(fields) \n",
    "    except StopIteration:\n",
    "        pass \n",
    "    lst.reverse()\n",
    "    return lst"
   ]
  },
  {
   "cell_type": "code",
   "execution_count": 4,
   "metadata": {
    "collapsed": true
   },
   "outputs": [],
   "source": [
    "def get_gene_info_from_file(filename): \n",
    "    with open(filename) as file:\n",
    "        contents = file.read() \n",
    "    return get_gene_info(contents)"
   ]
  },
  {
   "cell_type": "code",
   "execution_count": 5,
   "metadata": {
    "collapsed": true
   },
   "outputs": [],
   "source": [
    "def show_gene_info_from_file(filename):\n",
    "    infolst = get_gene_info_from_file(filename) \n",
    "    for info in infolst:\n",
    "        print(info[0], info[1], info[2], sep='\\n ')"
   ]
  },
  {
   "cell_type": "code",
   "execution_count": null,
   "metadata": {
    "collapsed": true
   },
   "outputs": [],
   "source": [
    "if __name__ == '__main__': \n",
    "    show_gene_info_from_file(sys.argv[1] if len(sys.argv) > 1 else 'EntrezGeneResults.html')"
   ]
  }
 ],
 "metadata": {
  "kernelspec": {
   "display_name": "Python 3",
   "language": "python",
   "name": "python3"
  },
  "language_info": {
   "codemirror_mode": {
    "name": "ipython",
    "version": 3
   },
   "file_extension": ".py",
   "mimetype": "text/x-python",
   "name": "python",
   "nbconvert_exporter": "python",
   "pygments_lexer": "ipython3",
   "version": "3.6.1"
  }
 },
 "nbformat": 4,
 "nbformat_minor": 2
}
