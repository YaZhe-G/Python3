{
 "cells": [
  {
   "cell_type": "markdown",
   "metadata": {
    "collapsed": true
   },
   "source": [
    "# 06.09 dynamic_programming动态规划算法：\n",
    "    *问题可分解为离散子问题时，可使用动态规划来解决\n",
    "    *每种动态规划解决方案都涉及网格\n",
    "    *单元格中的值通常就是你要优化的值\n",
    "    *每个单元格都是一个子问题，因此你需要考虑如何将问题分解为子问题\n",
    "    *没有放之四海而皆准的计算动态规划解决方案的公式"
   ]
  },
  {
   "cell_type": "markdown",
   "metadata": {},
   "source": [
    "# 06.10 k_nearest_neighborsK最近邻算法：\n",
    "    *KNN用于分类和回归，需要考虑最近的邻居\n",
    "    *分类就是编组\n",
    "    *回归就是预测结果(如数字)\n",
    "    *特征抽取意味着将物品(如水果或用户)转换为一系列可比较的数字\n",
    "    *能否挑选合适的特征事关KNN算法的成败"
   ]
  },
  {
   "cell_type": "code",
   "execution_count": null,
   "metadata": {
    "collapsed": true
   },
   "outputs": [],
   "source": []
  }
 ],
 "metadata": {
  "kernelspec": {
   "display_name": "Python 3",
   "language": "python",
   "name": "python3"
  },
  "language_info": {
   "codemirror_mode": {
    "name": "ipython",
    "version": 3
   },
   "file_extension": ".py",
   "mimetype": "text/x-python",
   "name": "python",
   "nbconvert_exporter": "python",
   "pygments_lexer": "ipython3",
   "version": "3.6.1"
  }
 },
 "nbformat": 4,
 "nbformat_minor": 2
}
