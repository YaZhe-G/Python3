{
 "cells": [
  {
   "cell_type": "markdown",
   "metadata": {},
   "source": [
    "# 狄克斯特拉算法实例：在权重为正的图中来查找最短路径\n",
    "    *(1)找出'最便宜'的节点，即可在最短时间内到达的节点\n",
    "    *(2)更新该节点的邻居的开销\n",
    "    *(3)重复这个过程，知道对图中的每个节点都这样做\n",
    "    *(4)计算最终路径\n",
    "   <img src=\"./finish_path_0607.png\" width = \"300\" height = \"200\" alt=\"路径图\" align=center />"
   ]
  },
  {
   "cell_type": "code",
   "execution_count": 1,
   "metadata": {},
   "outputs": [
    {
     "name": "stdout",
     "output_type": "stream",
     "text": [
      "Cost from the start to each node:\n",
      "{'a': 5, 'b': 2, 'fin': 6}\n"
     ]
    }
   ],
   "source": [
    "# the graph：将节点的所有邻居以及权重存储在散列表中\n",
    "graph = {}\n",
    "graph[\"start\"] = {}\n",
    "graph[\"start\"][\"a\"] = 6\n",
    "graph[\"start\"][\"b\"] = 2\n",
    "\n",
    "graph[\"a\"] = {}\n",
    "graph[\"a\"][\"fin\"] = 1\n",
    "\n",
    "graph[\"b\"] = {}\n",
    "graph[\"b\"][\"a\"] = 3\n",
    "graph[\"b\"][\"fin\"] = 5\n",
    "\n",
    "graph[\"fin\"] = {}\n",
    "\n",
    "# the costs table：一个存储每个节点的开销的散列表(开销指的是从起点出发前往该节点所需的时间)\n",
    "infinity = float(\"inf\")  #Python中的无穷大\n",
    "costs = {}\n",
    "costs[\"a\"] = 6\n",
    "costs[\"b\"] = 2\n",
    "costs[\"fin\"] = infinity\n",
    "\n",
    "# the parents table：一个存储父节点的散列表\n",
    "parents = {}\n",
    "parents[\"a\"] = \"start\"\n",
    "parents[\"b\"] = \"start\"\n",
    "parents[\"fin\"] = None\n",
    "\n",
    "#定义一个数组，记录处理过的节点\n",
    "processed = []\n",
    "\n",
    "\n",
    "#找出开销最低的节点的函数\n",
    "def find_lowest_cost_node(costs):\n",
    "    lowest_cost = float(\"inf\")\n",
    "    lowest_cost_node = None\n",
    "    #遍历所有节点\n",
    "    for node in costs:\n",
    "        cost = costs[node]\n",
    "        #如果当前节点的开销更低且未处理过\n",
    "        if cost < lowest_cost and node not in processed:\n",
    "            # 就将其视为开销最低的节点\n",
    "            lowest_cost = cost\n",
    "            lowest_cost_node = node\n",
    "    return lowest_cost_node\n",
    "\n",
    "\n",
    "#在未处理的节点中找出开销最小的节点\n",
    "node = find_lowest_cost_node(costs)\n",
    "#while循环在所有节点都被处理过后结束\n",
    "while node is not None:\n",
    "    cost = costs[node]\n",
    "    #遍历当前节点的所有邻居\n",
    "    neighbors = graph[node]\n",
    "    for n in neighbors.keys():\n",
    "        new_cost = cost + neighbors[n]\n",
    "        #如果经当前节点前往该邻居更近\n",
    "        if costs[n] > new_cost:\n",
    "            #就更新该邻居的开销\n",
    "            costs[n] = new_cost\n",
    "            #同时将该邻居的父节点设置为当前节点\n",
    "            parents[n] = node\n",
    "    #将当前节点标记为处理过\n",
    "    processed.append(node)\n",
    "    #找出接下来要处理的节点，并循环\n",
    "    node = find_lowest_cost_node(costs)\n",
    "\n",
    "\n",
    "print(\"Cost from the start to each node:\")\n",
    "print(costs)"
   ]
  },
  {
   "cell_type": "markdown",
   "metadata": {},
   "source": [
    "# 小结：\n",
    "    *广度优先搜索用于在非加权图中查找最短路径\n",
    "    *狄克斯特拉算法用于在加权图中查找最短路径\n",
    "    *仅当权重为正时狄克斯特拉算法才管用\n",
    "    *如果图中包含负权边，使用贝尔曼-福德算法"
   ]
  },
  {
   "cell_type": "code",
   "execution_count": null,
   "metadata": {
    "collapsed": true
   },
   "outputs": [],
   "source": []
  }
 ],
 "metadata": {
  "kernelspec": {
   "display_name": "Python 3",
   "language": "python",
   "name": "python3"
  },
  "language_info": {
   "codemirror_mode": {
    "name": "ipython",
    "version": 3
   },
   "file_extension": ".py",
   "mimetype": "text/x-python",
   "name": "python",
   "nbconvert_exporter": "python",
   "pygments_lexer": "ipython3",
   "version": "3.6.6"
  }
 },
 "nbformat": 4,
 "nbformat_minor": 2
}
