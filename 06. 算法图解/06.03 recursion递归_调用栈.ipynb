{
 "cells": [
  {
   "cell_type": "code",
   "execution_count": 2,
   "metadata": {},
   "outputs": [
    {
     "name": "stdout",
     "output_type": "stream",
     "text": [
      "5\n",
      "4\n",
      "3\n",
      "2\n",
      "1\n",
      "0\n"
     ]
    }
   ],
   "source": [
    "# 01倒计时函数：递归\n",
    "def countdown(i):\n",
    "    print(i)\n",
    "    #基线条件：函数不再调用自己\n",
    "    if i <= 0:\n",
    "        return\n",
    "    #递归条件：函数调用自己\n",
    "    else:\n",
    "        countdown(i-1)\n",
    "\n",
    "countdown(5)"
   ]
  },
  {
   "cell_type": "code",
   "execution_count": 4,
   "metadata": {},
   "outputs": [
    {
     "name": "stdout",
     "output_type": "stream",
     "text": [
      "hello, MarcelGao!\n",
      "how are you, MarcelGao?\n",
      "getting ready to say bye...\n",
      "OK bye!\n"
     ]
    }
   ],
   "source": [
    "# 02打招呼函数：调用栈\n",
    "    #栈：表示一些内存块，从下往上叠。\n",
    "    #内存块：存储一些函数调用时涉及的所有变量的值，一个函数对应一个内存块，函数返回时，内存块被弹出\n",
    "def greet2(name):\n",
    "    print(\"how are you, \" + name + \"?\")\n",
    "def bye():\n",
    "    print(\"OK bye!\")\n",
    "def greet(name):\n",
    "    print(\"hello, \" + name + \"!\")\n",
    "    greet2(name)\n",
    "    print(\"getting ready to say bye...\")\n",
    "    bye()\n",
    "\n",
    "name = \"MarcelGao\"\n",
    "greet(name)"
   ]
  },
  {
   "cell_type": "code",
   "execution_count": 6,
   "metadata": {},
   "outputs": [
    {
     "data": {
      "text/plain": [
       "6"
      ]
     },
     "execution_count": 6,
     "metadata": {},
     "output_type": "execute_result"
    }
   ],
   "source": [
    "# 03阶乘函数：递归调用栈\n",
    "def factorial(X):\n",
    "    if X == 1:\n",
    "        return 1\n",
    "    else:\n",
    "        return X * factorial(X-1)\n",
    "\n",
    "factorial(3)"
   ]
  },
  {
   "cell_type": "markdown",
   "metadata": {},
   "source": [
    "# 小结：\n",
    "    *递归指的是调用自己的函数\n",
    "    *每个递归都有两个条件：基线条件和递归条件\n",
    "    *栈有两种操作：压入和弹出\n",
    "    *所有函数调用都进入调用栈\n",
    "    *调用栈可能很长，这将占用大量的内存"
   ]
  },
  {
   "cell_type": "code",
   "execution_count": null,
   "metadata": {
    "collapsed": true
   },
   "outputs": [],
   "source": []
  }
 ],
 "metadata": {
  "kernelspec": {
   "display_name": "Python 3",
   "language": "python",
   "name": "python3"
  },
  "language_info": {
   "codemirror_mode": {
    "name": "ipython",
    "version": 3
   },
   "file_extension": ".py",
   "mimetype": "text/x-python",
   "name": "python",
   "nbconvert_exporter": "python",
   "pygments_lexer": "ipython3",
   "version": "3.6.1"
  }
 },
 "nbformat": 4,
 "nbformat_minor": 2
}
