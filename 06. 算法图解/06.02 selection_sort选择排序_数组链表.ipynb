{
 "cells": [
  {
   "cell_type": "code",
   "execution_count": 1,
   "metadata": {
    "collapsed": true
   },
   "outputs": [],
   "source": [
    "#选择排序：将列表(数组)元素按从小到大的顺序排列"
   ]
  },
  {
   "cell_type": "code",
   "execution_count": 2,
   "metadata": {
    "collapsed": true
   },
   "outputs": [],
   "source": [
    "def find_smallest(arr):\n",
    "    '''找出数组中最小元素索引的函数'''\n",
    "    smallest = arr[0]\n",
    "    smallest_index = 0\n",
    "    for i in range(1,len(arr)):\n",
    "        if arr[i] < smallest:\n",
    "            smallest = arr[i]\n",
    "            smallest_index = i\n",
    "    return smallest_index"
   ]
  },
  {
   "cell_type": "code",
   "execution_count": 3,
   "metadata": {
    "collapsed": true
   },
   "outputs": [],
   "source": [
    "def selection_sort(arr):\n",
    "    '''取出数组中的最小元素，依次添加到一个新的数组中'''\n",
    "    newArr = []\n",
    "    for i in range(len(arr)):\n",
    "        smallest_index = find_smallest(arr)\n",
    "        newArr.append(arr.pop(smallest_index))\n",
    "    return newArr"
   ]
  },
  {
   "cell_type": "code",
   "execution_count": 4,
   "metadata": {},
   "outputs": [
    {
     "name": "stdout",
     "output_type": "stream",
     "text": [
      "[2, 3, 5, 6, 10]\n"
     ]
    }
   ],
   "source": [
    "print(selection_sort([5,3,6,2,10]))"
   ]
  },
  {
   "cell_type": "markdown",
   "metadata": {},
   "source": [
    "# 小结：\n",
    "    *计算机内存犹如一大堆抽屉\n",
    "    *需要存储多个元素时，可使用数组或链表的方式\n",
    "    *数组的元素都在一起\n",
    "    *链表的元素是分开的，其中每个元素都存储了下一个元素的地址\n",
    "    *数组的读取速度很快\n",
    "    *链表的插入和删除速度很快\n",
    "    *在同一个数组中，所有元素的类型都必须相同(都为int、double等)"
   ]
  },
  {
   "cell_type": "code",
   "execution_count": null,
   "metadata": {
    "collapsed": true
   },
   "outputs": [],
   "source": []
  }
 ],
 "metadata": {
  "kernelspec": {
   "display_name": "Python 3",
   "language": "python",
   "name": "python3"
  },
  "language_info": {
   "codemirror_mode": {
    "name": "ipython",
    "version": 3
   },
   "file_extension": ".py",
   "mimetype": "text/x-python",
   "name": "python",
   "nbconvert_exporter": "python",
   "pygments_lexer": "ipython3",
   "version": "3.6.1"
  }
 },
 "nbformat": 4,
 "nbformat_minor": 2
}
