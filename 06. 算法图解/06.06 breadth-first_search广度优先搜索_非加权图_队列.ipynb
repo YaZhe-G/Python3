{
 "cells": [
  {
   "cell_type": "markdown",
   "metadata": {
    "collapsed": true
   },
   "source": [
    "# 广度优先搜索算法实例：\n",
    "    *你经营着一个芒果农场，要在人际关系网中以最短路径找到芒果销售商。\n",
    "   <img src=\"./friends_of_friends_0606.png\" width = \"300\" height = \"200\" alt=\"人际关系网\" align=center />\n",
    "   *算法原理\n",
    "   <img src=\"./instructions_0606.png\" width = \"300\" height = \"200\" alt=\"算法原理\" align=center />"
   ]
  },
  {
   "cell_type": "markdown",
   "metadata": {},
   "source": [
    "# collections模块：\n",
    "    *在内置数据类型(str,int,list,tuple,dict)的基础上，提供了几个额外的数据类型(namedtuple,deque,Counter,OrderedDict)\n",
    "    *deque：list-like container with fast appends and pops on either end.双端队列，可以快速的从另外一侧追加和推出对象"
   ]
  },
  {
   "cell_type": "code",
   "execution_count": 3,
   "metadata": {},
   "outputs": [
    {
     "name": "stdout",
     "output_type": "stream",
     "text": [
      "thomis a mango seller!\n"
     ]
    },
    {
     "data": {
      "text/plain": [
       "True"
      ]
     },
     "execution_count": 3,
     "metadata": {},
     "output_type": "execute_result"
    }
   ],
   "source": [
    "from collections import deque\n",
    "\n",
    "#如果这个人的名字已m结尾，我们定义他是芒果销售商\n",
    "def person_is_seller(name):\n",
    "    return name[-1] == 'm'\n",
    "\n",
    "#用散列表(键值对)存储人际关系网\n",
    "graph = {}\n",
    "graph['you'] = ['alice','bob','claire']\n",
    "graph['bob'] = ['anuj','peggy']\n",
    "graph['alice'] = ['peggy']\n",
    "graph['claire'] = ['thom','jonny']\n",
    "graph['anuj'] = []\n",
    "graph['peggy'] = []\n",
    "graph['thom'] = []\n",
    "graph['jonny'] = []\n",
    "\n",
    "#检查这个人是不是芒果销售商\n",
    "def search(name):\n",
    "    #创建一个队列\n",
    "    search_queue = deque()\n",
    "    #将你的邻居都加入到这个搜索队列中\n",
    "    search_queue += graph[name]\n",
    "    #创建一个数组记录检查过的人\n",
    "    searched = []\n",
    "    #只要队列不为空\n",
    "    while search_queue:\n",
    "        #popleft()：删除并返回队列左侧的第一个元素；取出其中的第一个人\n",
    "        person = search_queue.popleft()\n",
    "        #仅当这个人没被检查过时才检查\n",
    "        if person not in searched:\n",
    "            #检查这个人是否是芒果销售商\n",
    "            if person_is_seller(person):\n",
    "                print(person+\"is a mango seller!\")\n",
    "                return True\n",
    "            else:\n",
    "                #不是芒果销售商，将这个人的朋友都加入这个搜索队列\n",
    "                search_queue += graph[person]\n",
    "                #将这个人标记为检查过\n",
    "                searched.append(person)\n",
    "    #队列中没有人是芒果销售商\n",
    "    return False\n",
    "\n",
    "search('you')"
   ]
  },
  {
   "cell_type": "markdown",
   "metadata": {
    "collapsed": true
   },
   "source": [
    "# 小结：\n",
    "    *广度优先搜索算法：一种图算法，指出是否有从A到B的路径，如果有，广度优先搜索将找出最短路径\n",
    "    *队列是先进先出(FIFO)，栈是后进先出(LIFO)\n",
    "    *需要按加入顺序检查搜索列表中的人，否则找到的就不是最短路径，因此搜索列表必须是列队\n",
    "    *队列：是一种先进先出(First In First Out)的数据结构，两种操作(入队和出队)\n",
    "    *图：由节点(node)和边(edge)组成，一个节点可能与众多节点直接相连"
   ]
  },
  {
   "cell_type": "code",
   "execution_count": null,
   "metadata": {
    "collapsed": true
   },
   "outputs": [],
   "source": []
  }
 ],
 "metadata": {
  "kernelspec": {
   "display_name": "Python 3",
   "language": "python",
   "name": "python3"
  },
  "language_info": {
   "codemirror_mode": {
    "name": "ipython",
    "version": 3
   },
   "file_extension": ".py",
   "mimetype": "text/x-python",
   "name": "python",
   "nbconvert_exporter": "python",
   "pygments_lexer": "ipython3",
   "version": "3.6.1"
  }
 },
 "nbformat": 4,
 "nbformat_minor": 2
}
