{
 "cells": [
  {
   "cell_type": "markdown",
   "metadata": {},
   "source": [
    "# 贪婪算法实例：如何找出覆盖全美50个州的最小广播台集合\n",
    "    *(1)选出这样一个广播台，即它覆盖了最多的未覆盖州。即便这个广播台覆盖了一些已覆盖的州，也没关系\n",
    "    *(2)重复第一步，知道覆盖了所有的州\n",
    "   <img src=\"./overlaps_0608.png\" width = \"300\" height = \"200\" alt=\"广播台图\" align=center />"
   ]
  },
  {
   "cell_type": "code",
   "execution_count": 2,
   "metadata": {},
   "outputs": [
    {
     "name": "stdout",
     "output_type": "stream",
     "text": [
      "{'kthree', 'kfive', 'kone', 'ktwo'}\n"
     ]
    }
   ],
   "source": [
    "# 创建一个包含需要覆盖的州的列表，并转换为集合(集合不能包含重复的元素)\n",
    "states_needed = set([\"mt\", \"wa\", \"or\", \"id\", \"nv\", \"ut\", \"ca\", \"az\"])\n",
    "\n",
    "# 创建广播台清单的散列表，键为广播台的名称，值为广播台覆盖的州\n",
    "stations = {}\n",
    "stations[\"kone\"] = set([\"id\", \"nv\", \"ut\"])\n",
    "stations[\"ktwo\"] = set([\"wa\", \"id\", \"mt\"])\n",
    "stations[\"kthree\"] = set([\"or\", \"nv\", \"ca\"])\n",
    "stations[\"kfour\"] = set([\"nv\", \"ut\"])\n",
    "stations[\"kfive\"] = set([\"ca\", \"az\"])\n",
    "\n",
    "# 创建一个集合来粗出最终选择的广播台\n",
    "final_stations = set()\n",
    "\n",
    "while states_needed:\n",
    "  best_station = None\n",
    "  states_covered = set()\n",
    "  for station, states in stations.items():\n",
    "    covered = states_needed & states  #计算交集\n",
    "    if len(covered) > len(states_covered):\n",
    "      best_station = station\n",
    "      states_covered = covered\n",
    "\n",
    "  states_needed -= states_covered\n",
    "  final_stations.add(best_station)\n",
    "\n",
    "print(final_stations)"
   ]
  },
  {
   "cell_type": "code",
   "execution_count": 3,
   "metadata": {},
   "outputs": [
    {
     "data": {
      "text/plain": [
       "{'avocado', 'banana', 'beets', 'carrots', 'tomato'}"
      ]
     },
     "execution_count": 3,
     "metadata": {},
     "output_type": "execute_result"
    }
   ],
   "source": [
    "# 集合的交集、并集和差集\n",
    "fruits = set(['avocado','tomato','banana'])\n",
    "vegetables = set(['beets','carrots','tomato'])\n",
    "#并集\n",
    "fruits | vegetables"
   ]
  },
  {
   "cell_type": "code",
   "execution_count": 4,
   "metadata": {},
   "outputs": [
    {
     "data": {
      "text/plain": [
       "{'tomato'}"
      ]
     },
     "execution_count": 4,
     "metadata": {},
     "output_type": "execute_result"
    }
   ],
   "source": [
    "#交集\n",
    "fruits & vegetables"
   ]
  },
  {
   "cell_type": "code",
   "execution_count": 5,
   "metadata": {},
   "outputs": [
    {
     "data": {
      "text/plain": [
       "{'avocado', 'banana'}"
      ]
     },
     "execution_count": 5,
     "metadata": {},
     "output_type": "execute_result"
    }
   ],
   "source": [
    "#差集\n",
    "fruits - vegetables"
   ]
  },
  {
   "cell_type": "markdown",
   "metadata": {
    "collapsed": true
   },
   "source": [
    "# 小结：\n",
    "    *贪婪算法寻找局部最优解，企图以这种方式获得全局最优解\n",
    "    *对于NP完全问题，还没有找到快速解决方案\n",
    "    *面临NP完全问题时，最佳的做法是使用近似算法\n",
    "    *贪婪算法易于实现，运行速度快，是不错的近似算法"
   ]
  },
  {
   "cell_type": "code",
   "execution_count": null,
   "metadata": {
    "collapsed": true
   },
   "outputs": [],
   "source": []
  }
 ],
 "metadata": {
  "kernelspec": {
   "display_name": "Python 3",
   "language": "python",
   "name": "python3"
  },
  "language_info": {
   "codemirror_mode": {
    "name": "ipython",
    "version": 3
   },
   "file_extension": ".py",
   "mimetype": "text/x-python",
   "name": "python",
   "nbconvert_exporter": "python",
   "pygments_lexer": "ipython3",
   "version": "3.6.1"
  }
 },
 "nbformat": 4,
 "nbformat_minor": 2
}
