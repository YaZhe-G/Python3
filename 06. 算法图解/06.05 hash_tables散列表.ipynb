{
 "cells": [
  {
   "cell_type": "code",
   "execution_count": 1,
   "metadata": {},
   "outputs": [
    {
     "name": "stdout",
     "output_type": "stream",
     "text": [
      "{'apple': 0.67, 'milk': 1.49, 'avocado': 1.49}\n"
     ]
    }
   ],
   "source": [
    "#散列表：Python提供的散列表实现为字典\n",
    "# 01用散列表来存储商品价格\n",
    "book = dict()\n",
    "book['apple'] = 0.67\n",
    "book['milk'] = 1.49\n",
    "book['avocado'] = 1.49\n",
    "print(book)"
   ]
  },
  {
   "cell_type": "code",
   "execution_count": 2,
   "metadata": {},
   "outputs": [
    {
     "name": "stdout",
     "output_type": "stream",
     "text": [
      "let them vote!\n"
     ]
    }
   ],
   "source": [
    "# 02投票实例：用散列表来防止重复\n",
    "voted = {}\n",
    "def check_voter(name):\n",
    "    if voted.get(name):\n",
    "        print(\"kick them out\")\n",
    "    else:\n",
    "        voted[name] = True\n",
    "        print(\"let them vote!\")\n",
    "    \n",
    "check_voter(\"tom\")"
   ]
  },
  {
   "cell_type": "code",
   "execution_count": 3,
   "metadata": {},
   "outputs": [
    {
     "name": "stdout",
     "output_type": "stream",
     "text": [
      "let them vote!\n"
     ]
    }
   ],
   "source": [
    "check_voter(\"mike\")"
   ]
  },
  {
   "cell_type": "code",
   "execution_count": 4,
   "metadata": {},
   "outputs": [
    {
     "name": "stdout",
     "output_type": "stream",
     "text": [
      "kick them out\n"
     ]
    }
   ],
   "source": [
    "check_voter(\"tom\")"
   ]
  },
  {
   "cell_type": "code",
   "execution_count": null,
   "metadata": {
    "collapsed": true
   },
   "outputs": [],
   "source": []
  }
 ],
 "metadata": {
  "kernelspec": {
   "display_name": "Python 3",
   "language": "python",
   "name": "python3"
  },
  "language_info": {
   "codemirror_mode": {
    "name": "ipython",
    "version": 3
   },
   "file_extension": ".py",
   "mimetype": "text/x-python",
   "name": "python",
   "nbconvert_exporter": "python",
   "pygments_lexer": "ipython3",
   "version": "3.6.1"
  }
 },
 "nbformat": 4,
 "nbformat_minor": 2
}
