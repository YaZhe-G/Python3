{
 "cells": [
  {
   "cell_type": "code",
   "execution_count": 1,
   "metadata": {},
   "outputs": [
    {
     "name": "stdout",
     "output_type": "stream",
     "text": [
      "[2, 3, 5, 10]\n"
     ]
    }
   ],
   "source": [
    "# 递归快速排序\n",
    "def quick_sort(array):\n",
    "    #基线条件：为空或只包含一个元素的数组是有序的\n",
    "    if len(array) < 2:\n",
    "        return array\n",
    "    #递归条件\n",
    "    else:\n",
    "        #确定一个基准值\n",
    "        pivot = array[0]\n",
    "        #由所有小于基准值的元素组成的子数组\n",
    "        less = [i for i in array[1:] if i <= pivot]\n",
    "        #由所有大于基准值的元素组成的子数组\n",
    "        greater = [i for i in array[1:] if i >= pivot]\n",
    "        return quick_sort(less) + [pivot] + quick_sort(greater)\n",
    "\n",
    "print(quick_sort([10,5,2,3]))"
   ]
  },
  {
   "cell_type": "code",
   "execution_count": null,
   "metadata": {
    "collapsed": true
   },
   "outputs": [],
   "source": []
  }
 ],
 "metadata": {
  "kernelspec": {
   "display_name": "Python 3",
   "language": "python",
   "name": "python3"
  },
  "language_info": {
   "codemirror_mode": {
    "name": "ipython",
    "version": 3
   },
   "file_extension": ".py",
   "mimetype": "text/x-python",
   "name": "python",
   "nbconvert_exporter": "python",
   "pygments_lexer": "ipython3",
   "version": "3.6.1"
  }
 },
 "nbformat": 4,
 "nbformat_minor": 2
}
