{
 "cells": [
  {
   "cell_type": "code",
   "execution_count": 1,
   "metadata": {
    "collapsed": true
   },
   "outputs": [],
   "source": [
    "#np.gradient(f):计算数组f中元素的梯度，当f为多维时，返回每个维度梯度\n",
    "    #梯度：连续值之间的变化率，即斜率。(后一个值减去前一个值，再除于后一个值和前一个值之间的距离)"
   ]
  },
  {
   "cell_type": "code",
   "execution_count": 2,
   "metadata": {},
   "outputs": [
    {
     "data": {
      "text/plain": [
       "array([12, 13, 15, 15, 18])"
      ]
     },
     "execution_count": 2,
     "metadata": {},
     "output_type": "execute_result"
    }
   ],
   "source": [
    "#一维元素的梯度值\n",
    "import numpy as np\n",
    "a = np.random.randint(0,20,(5))\n",
    "a"
   ]
  },
  {
   "cell_type": "code",
   "execution_count": 5,
   "metadata": {},
   "outputs": [
    {
     "data": {
      "text/plain": [
       "array([ 1. ,  1.5,  1. ,  1.5,  3. ])"
      ]
     },
     "execution_count": 5,
     "metadata": {},
     "output_type": "execute_result"
    }
   ],
   "source": [
    "np.gradient(a)  #存在两侧值：1.5=(15-12)/2     #只有一侧值：1=(13-12)/1    3=(18-15)/2 没有的值用本身代替"
   ]
  },
  {
   "cell_type": "code",
   "execution_count": 6,
   "metadata": {},
   "outputs": [
    {
     "data": {
      "text/plain": [
       "array([[29, 30,  4, 31, 36],\n",
       "       [30,  0, 29, 12, 28],\n",
       "       [ 4, 11, 39, 10, 21]])"
      ]
     },
     "execution_count": 6,
     "metadata": {},
     "output_type": "execute_result"
    }
   ],
   "source": [
    "#二维元素的梯度值\n",
    "c = np.random.randint(0,50,(3,5))\n",
    "c"
   ]
  },
  {
   "cell_type": "code",
   "execution_count": 7,
   "metadata": {},
   "outputs": [
    {
     "data": {
      "text/plain": [
       "[array([[  1. , -30. ,  25. , -19. ,  -8. ],\n",
       "        [-12.5,  -9.5,  17.5, -10.5,  -7.5],\n",
       "        [-26. ,  11. ,  10. ,  -2. ,  -7. ]]),\n",
       " array([[  1. , -12.5,   0.5,  16. ,   5. ],\n",
       "        [-30. ,  -0.5,   6. ,  -0.5,  16. ],\n",
       "        [  7. ,  17.5,  -0.5,  -9. ,  11. ]])]"
      ]
     },
     "execution_count": 7,
     "metadata": {},
     "output_type": "execute_result"
    }
   ],
   "source": [
    "np.gradient(c)   #包括最外层维度的梯度和第二层维度的梯度"
   ]
  },
  {
   "cell_type": "code",
   "execution_count": null,
   "metadata": {
    "collapsed": true
   },
   "outputs": [],
   "source": []
  }
 ],
 "metadata": {
  "kernelspec": {
   "display_name": "Python 3",
   "language": "python",
   "name": "python3"
  },
  "language_info": {
   "codemirror_mode": {
    "name": "ipython",
    "version": 3
   },
   "file_extension": ".py",
   "mimetype": "text/x-python",
   "name": "python",
   "nbconvert_exporter": "python",
   "pygments_lexer": "ipython3",
   "version": "3.6.1"
  }
 },
 "nbformat": 4,
 "nbformat_minor": 2
}
