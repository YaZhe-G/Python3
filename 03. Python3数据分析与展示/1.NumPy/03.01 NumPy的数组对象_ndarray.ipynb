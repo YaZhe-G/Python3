{
 "cells": [
  {
   "cell_type": "code",
   "execution_count": null,
   "metadata": {
    "collapsed": true
   },
   "outputs": [],
   "source": [
    "#NumPy：一个开源的Python科学计算基础库，是SciPy、Pandas等数据处理或科学计算库的基础\n",
    "    #一个强大的N维数组对象 ndarray\n",
    "    #广播功能函数，在数组之间进行计算\n",
    "    #整个C/C++/Fortran代码的工具\n",
    "    #线性代数、傅里叶变换、随机数生成等功能"
   ]
  },
  {
   "cell_type": "code",
   "execution_count": 3,
   "metadata": {},
   "outputs": [
    {
     "name": "stdout",
     "output_type": "stream",
     "text": [
      "[729, 513, 347, 225, 141]\n"
     ]
    }
   ],
   "source": [
    "#Python有了列表，为啥还要引入N维数组对象(ndarray)\n",
    "#例：计算A**2+B**3,其中，A和B都是一维数组\n",
    "def pySum():\n",
    "    a = [0,1,2,3,4]\n",
    "    b = [9,8,7,6,5]\n",
    "    c = []\n",
    "    for i in range(len(a)):\n",
    "        c.append(a[i]**2 + b[i]**3)\n",
    "    return c\n",
    "\n",
    "print(pySum())"
   ]
  },
  {
   "cell_type": "code",
   "execution_count": 4,
   "metadata": {},
   "outputs": [
    {
     "name": "stdout",
     "output_type": "stream",
     "text": [
      "[729 513 347 225 141]\n"
     ]
    }
   ],
   "source": [
    "import numpy as np\n",
    "def npSum():\n",
    "    a = np.array([0,1,2,3,4]) #ndarray在程序中的别名是：array\n",
    "    b = np.array([9,8,7,6,5])\n",
    "    #ndarray可以去掉元素间运算所需的循环，使一维向量更像单个数据\n",
    "    #ndarray是用c语言实现的，运算速度较快\n",
    "    c = a**2 + b**3\n",
    "    return c\n",
    "\n",
    "print(npSum())"
   ]
  },
  {
   "cell_type": "code",
   "execution_count": 5,
   "metadata": {
    "collapsed": true
   },
   "outputs": [],
   "source": [
    "#ndarray:一个N维数组对象，由两部分构成：\n",
    "    #实际的数据\n",
    "    #描述这些数据的元数据（数据维度、数据类型等）"
   ]
  },
  {
   "cell_type": "code",
   "execution_count": 6,
   "metadata": {},
   "outputs": [
    {
     "data": {
      "text/plain": [
       "array([[0, 1, 2, 3, 4],\n",
       "       [9, 8, 7, 6, 5]])"
      ]
     },
     "execution_count": 6,
     "metadata": {},
     "output_type": "execute_result"
    }
   ],
   "source": [
    "a = np.array([[0,1,2,3,4],[9,8,7,6,5]])\n",
    "a"
   ]
  },
  {
   "cell_type": "code",
   "execution_count": 7,
   "metadata": {},
   "outputs": [
    {
     "data": {
      "text/plain": [
       "numpy.ndarray"
      ]
     },
     "execution_count": 7,
     "metadata": {},
     "output_type": "execute_result"
    }
   ],
   "source": [
    "type(a)"
   ]
  },
  {
   "cell_type": "code",
   "execution_count": 8,
   "metadata": {},
   "outputs": [
    {
     "name": "stdout",
     "output_type": "stream",
     "text": [
      "[[0 1 2 3 4]\n",
      " [9 8 7 6 5]]\n"
     ]
    }
   ],
   "source": [
    "#np.array()输出成[]形式，元素由空格分割\n",
    "print(a)"
   ]
  },
  {
   "cell_type": "code",
   "execution_count": 10,
   "metadata": {
    "collapsed": true
   },
   "outputs": [],
   "source": [
    "#ndarray对象的属性"
   ]
  },
  {
   "cell_type": "code",
   "execution_count": 11,
   "metadata": {},
   "outputs": [
    {
     "data": {
      "text/plain": [
       "2"
      ]
     },
     "execution_count": 11,
     "metadata": {},
     "output_type": "execute_result"
    }
   ],
   "source": [
    "#1.ndim：秩，即轴的数量或维度的数量\n",
    "a.ndim"
   ]
  },
  {
   "cell_type": "code",
   "execution_count": 12,
   "metadata": {},
   "outputs": [
    {
     "data": {
      "text/plain": [
       "(2, 5)"
      ]
     },
     "execution_count": 12,
     "metadata": {},
     "output_type": "execute_result"
    }
   ],
   "source": [
    "#2.shape：ndarray对象的尺度，对于矩阵，n行m列\n",
    "a.shape"
   ]
  },
  {
   "cell_type": "code",
   "execution_count": 13,
   "metadata": {},
   "outputs": [
    {
     "data": {
      "text/plain": [
       "10"
      ]
     },
     "execution_count": 13,
     "metadata": {},
     "output_type": "execute_result"
    }
   ],
   "source": [
    "#3.size：ndarray对象元素的个数，相当于.shape中n*m的值\n",
    "a.size"
   ]
  },
  {
   "cell_type": "code",
   "execution_count": 14,
   "metadata": {},
   "outputs": [
    {
     "data": {
      "text/plain": [
       "dtype('int64')"
      ]
     },
     "execution_count": 14,
     "metadata": {},
     "output_type": "execute_result"
    }
   ],
   "source": [
    "#4.dtype：ndarray对象的元素类型\n",
    "a.dtype"
   ]
  },
  {
   "cell_type": "code",
   "execution_count": 15,
   "metadata": {},
   "outputs": [
    {
     "data": {
      "text/plain": [
       "8"
      ]
     },
     "execution_count": 15,
     "metadata": {},
     "output_type": "execute_result"
    }
   ],
   "source": [
    "#5.itemsize：ndarray对象中每个元素的大小，以字节为单位\n",
    "a.itemsize"
   ]
  }
 ],
 "metadata": {
  "kernelspec": {
   "display_name": "Python 3",
   "language": "python",
   "name": "python3"
  },
  "language_info": {
   "codemirror_mode": {
    "name": "ipython",
    "version": 3
   },
   "file_extension": ".py",
   "mimetype": "text/x-python",
   "name": "python",
   "nbconvert_exporter": "python",
   "pygments_lexer": "ipython3",
   "version": "3.6.1"
  }
 },
 "nbformat": 4,
 "nbformat_minor": 2
}
