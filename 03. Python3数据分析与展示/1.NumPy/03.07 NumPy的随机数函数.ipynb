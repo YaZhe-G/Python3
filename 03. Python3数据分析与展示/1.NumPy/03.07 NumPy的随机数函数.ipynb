{
 "cells": [
  {
   "cell_type": "code",
   "execution_count": 1,
   "metadata": {
    "collapsed": true
   },
   "outputs": [],
   "source": [
    "#NumPy的随机数函数子库：random子库\n",
    "#np.random的随机数函数(1)\n",
    "    #rand(d0,d1,..,dn):根据d0-dn创建随机数数组，浮点数，[0,1),均匀分布\n",
    "    #randn(d0,d1,..,dn):根据d0-dn创建随机数数组，标准正态分布\n",
    "    #randint(low[,high,shape]):根据shape创建随机整数或整数数组，范围是[low,high)  []表示可选参数\n",
    "    #seed(s):随机数种子，s是给定的种子值"
   ]
  },
  {
   "cell_type": "code",
   "execution_count": 2,
   "metadata": {},
   "outputs": [
    {
     "data": {
      "text/plain": [
       "array([[[ 0.7095564 ,  0.68828936,  0.07717903,  0.83334312,  0.08278339],\n",
       "        [ 0.67111089,  0.99963308,  0.35421238,  0.7632275 ,  0.32282705],\n",
       "        [ 0.8409011 ,  0.8933431 ,  0.56595069,  0.3928342 ,  0.22256099],\n",
       "        [ 0.13655454,  0.31322815,  0.01323364,  0.81378172,  0.03123513]],\n",
       "\n",
       "       [[ 0.02295479,  0.656884  ,  0.036739  ,  0.52123852,  0.80873623],\n",
       "        [ 0.23433179,  0.13155007,  0.62978164,  0.36780168,  0.57782344],\n",
       "        [ 0.98743914,  0.68840755,  0.22196819,  0.3729051 ,  0.36476898],\n",
       "        [ 0.11453921,  0.05836767,  0.01053737,  0.97388979,  0.90589512]],\n",
       "\n",
       "       [[ 0.06456625,  0.54697261,  0.95149393,  0.16853441,  0.67410696],\n",
       "        [ 0.30604587,  0.0449015 ,  0.62909933,  0.09001089,  0.88208467],\n",
       "        [ 0.40597479,  0.6684756 ,  0.04106313,  0.80870168,  0.49033603],\n",
       "        [ 0.44556783,  0.21884963,  0.51058919,  0.36252017,  0.54176394]]])"
      ]
     },
     "execution_count": 2,
     "metadata": {},
     "output_type": "execute_result"
    }
   ],
   "source": [
    "#rand(d0,d1,..,dn)\n",
    "import numpy as np\n",
    "a = np.random.rand(3,4,5)\n",
    "a"
   ]
  },
  {
   "cell_type": "code",
   "execution_count": 3,
   "metadata": {},
   "outputs": [
    {
     "data": {
      "text/plain": [
       "array([[[-1.2213204 ,  1.37369615,  0.26162064,  0.67339664,  0.26659278],\n",
       "        [ 0.02382832,  0.56765836, -0.23247507,  1.19931258,  0.15241177],\n",
       "        [-0.19414127,  0.525495  , -1.55290637, -1.25061909,  0.0316099 ],\n",
       "        [-1.29680415,  1.75997987, -0.90593625,  1.10661419,  0.92165929]],\n",
       "\n",
       "       [[ 0.81816944, -0.60774529, -0.60393586, -0.82312014,  0.20748858],\n",
       "        [ 0.43121114,  0.40758193, -1.32685119, -0.58773654,  1.1743011 ],\n",
       "        [-1.04335257, -1.24350643, -0.63625735, -0.53569448,  1.2281313 ],\n",
       "        [-1.00653296, -0.23058717,  0.33246312,  0.26555261,  0.46437118]],\n",
       "\n",
       "       [[-1.45986829,  1.54776878,  0.61239592, -2.02391892, -0.40306553],\n",
       "        [ 0.44633778,  0.24331479, -0.75037215,  1.20127787,  0.02521149],\n",
       "        [-0.649457  , -0.08432177, -0.26272633,  0.52449694, -0.15790445],\n",
       "        [ 1.09273681,  0.27068658,  1.62730813, -0.50001495, -0.42685561]]])"
      ]
     },
     "execution_count": 3,
     "metadata": {},
     "output_type": "execute_result"
    }
   ],
   "source": [
    "#randn(d0,d1,..,dn)\n",
    "sn = np.random.randn(3,4,5)\n",
    "sn"
   ]
  },
  {
   "cell_type": "code",
   "execution_count": 4,
   "metadata": {},
   "outputs": [
    {
     "data": {
      "text/plain": [
       "array([[183, 186, 192, 137],\n",
       "       [191, 100, 138, 152],\n",
       "       [165, 123, 135, 186]])"
      ]
     },
     "execution_count": 4,
     "metadata": {},
     "output_type": "execute_result"
    }
   ],
   "source": [
    "#randint(low[,high,shape])\n",
    "b = np.random.randint(100,200,(3,4))\n",
    "b"
   ]
  },
  {
   "cell_type": "code",
   "execution_count": 5,
   "metadata": {},
   "outputs": [
    {
     "data": {
      "text/plain": [
       "array([[109, 115, 164, 128],\n",
       "       [189, 193, 129, 108],\n",
       "       [173, 100, 140, 136]])"
      ]
     },
     "execution_count": 5,
     "metadata": {},
     "output_type": "execute_result"
    }
   ],
   "source": [
    "#seed(s)\n",
    "np.random.seed(10)\n",
    "np.random.randint(100,200,(3,4))"
   ]
  },
  {
   "cell_type": "code",
   "execution_count": 8,
   "metadata": {},
   "outputs": [
    {
     "data": {
      "text/plain": [
       "array([[109, 115, 164, 128],\n",
       "       [189, 193, 129, 108],\n",
       "       [173, 100, 140, 136]])"
      ]
     },
     "execution_count": 8,
     "metadata": {},
     "output_type": "execute_result"
    }
   ],
   "source": [
    "np.random.seed(10)\n",
    "np.random.randint(100,200,(3,4))"
   ]
  },
  {
   "cell_type": "code",
   "execution_count": 15,
   "metadata": {},
   "outputs": [
    {
     "data": {
      "text/plain": [
       "72"
      ]
     },
     "execution_count": 15,
     "metadata": {},
     "output_type": "execute_result"
    }
   ],
   "source": [
    "np.random.randint(100)"
   ]
  },
  {
   "cell_type": "code",
   "execution_count": 16,
   "metadata": {
    "collapsed": true
   },
   "outputs": [],
   "source": [
    "#np.random的随机数函数(2)\n",
    "    #shuffle(a):根据数组a的第0轴进行随机排列，改变数组x\n",
    "    #permutation(a):根据数组a的第0轴产生一个新的乱序数组，不改变数组x\n",
    "    #choice(a[,size,replace,p]):从一维数组a中以概率p抽取元素，形成size形状新数组，replace表示是否可以重用元素，默认为True "
   ]
  },
  {
   "cell_type": "code",
   "execution_count": 17,
   "metadata": {},
   "outputs": [
    {
     "data": {
      "text/plain": [
       "array([[178, 149, 151, 154],\n",
       "       [177, 169, 113, 125],\n",
       "       [113, 192, 186, 130]])"
      ]
     },
     "execution_count": 17,
     "metadata": {},
     "output_type": "execute_result"
    }
   ],
   "source": [
    "#shuffle(a)\n",
    "a = np.random.randint(100,200,(3,4))\n",
    "a"
   ]
  },
  {
   "cell_type": "code",
   "execution_count": 19,
   "metadata": {},
   "outputs": [
    {
     "data": {
      "text/plain": [
       "array([[113, 192, 186, 130],\n",
       "       [177, 169, 113, 125],\n",
       "       [178, 149, 151, 154]])"
      ]
     },
     "execution_count": 19,
     "metadata": {},
     "output_type": "execute_result"
    }
   ],
   "source": [
    "np.random.shuffle(a)\n",
    "a"
   ]
  },
  {
   "cell_type": "code",
   "execution_count": 21,
   "metadata": {},
   "outputs": [
    {
     "data": {
      "text/plain": [
       "array([[127, 118, 193, 177],\n",
       "       [122, 123, 194, 111],\n",
       "       [128, 174, 188, 109]])"
      ]
     },
     "execution_count": 21,
     "metadata": {},
     "output_type": "execute_result"
    }
   ],
   "source": [
    "#permutation(a)\n",
    "a = np.random.randint(100,200,(3,4))\n",
    "a"
   ]
  },
  {
   "cell_type": "code",
   "execution_count": 22,
   "metadata": {},
   "outputs": [
    {
     "data": {
      "text/plain": [
       "array([[122, 123, 194, 111],\n",
       "       [127, 118, 193, 177],\n",
       "       [128, 174, 188, 109]])"
      ]
     },
     "execution_count": 22,
     "metadata": {},
     "output_type": "execute_result"
    }
   ],
   "source": [
    "np.random.permutation(a)"
   ]
  },
  {
   "cell_type": "code",
   "execution_count": 23,
   "metadata": {},
   "outputs": [
    {
     "data": {
      "text/plain": [
       "array([[127, 118, 193, 177],\n",
       "       [122, 123, 194, 111],\n",
       "       [128, 174, 188, 109]])"
      ]
     },
     "execution_count": 23,
     "metadata": {},
     "output_type": "execute_result"
    }
   ],
   "source": [
    "a"
   ]
  },
  {
   "cell_type": "code",
   "execution_count": 24,
   "metadata": {},
   "outputs": [
    {
     "data": {
      "text/plain": [
       "array([171, 188, 111, 117, 146, 107, 175, 128])"
      ]
     },
     "execution_count": 24,
     "metadata": {},
     "output_type": "execute_result"
    }
   ],
   "source": [
    "#choice(a[,size,replace,p])\n",
    "b = np.random.randint(100,200,(8,))\n",
    "b"
   ]
  },
  {
   "cell_type": "code",
   "execution_count": 25,
   "metadata": {},
   "outputs": [
    {
     "data": {
      "text/plain": [
       "array([[188, 146],\n",
       "       [111, 171],\n",
       "       [171, 146]])"
      ]
     },
     "execution_count": 25,
     "metadata": {},
     "output_type": "execute_result"
    }
   ],
   "source": [
    "np.random.choice(b,(3,2))"
   ]
  },
  {
   "cell_type": "code",
   "execution_count": 26,
   "metadata": {},
   "outputs": [
    {
     "data": {
      "text/plain": [
       "array([[188, 117],\n",
       "       [175, 111],\n",
       "       [128, 171]])"
      ]
     },
     "execution_count": 26,
     "metadata": {},
     "output_type": "execute_result"
    }
   ],
   "source": [
    "np.random.choice(b,(3,2),replace=False)"
   ]
  },
  {
   "cell_type": "code",
   "execution_count": 29,
   "metadata": {},
   "outputs": [
    {
     "data": {
      "text/plain": [
       "array([[188, 146],\n",
       "       [128, 146],\n",
       "       [146, 171]])"
      ]
     },
     "execution_count": 29,
     "metadata": {},
     "output_type": "execute_result"
    }
   ],
   "source": [
    "np.random.choice(b,(3,2),p=b/np.sum(b))"
   ]
  },
  {
   "cell_type": "code",
   "execution_count": 30,
   "metadata": {
    "collapsed": true
   },
   "outputs": [],
   "source": [
    "#np.random的随机函数(3)\n",
    "    #uniform(low,high,size):产生具有均匀分布的数组，low起始值，high结束值，size形状\n",
    "    #normal(loc,scale,size):产生具有正态分布的数组，loc均值，scale标准差，size形状\n",
    "    #poisson(lam,size):产生具有泊松分布的数组，lam随机事件发生率，size形状"
   ]
  },
  {
   "cell_type": "code",
   "execution_count": 32,
   "metadata": {},
   "outputs": [
    {
     "data": {
      "text/plain": [
       "array([[ 7.63240587,  8.78096643,  4.17509144,  6.05577564],\n",
       "       [ 5.13466627,  5.97836648,  2.62215661,  3.00871309],\n",
       "       [ 0.25399782,  3.03062561,  2.42075875,  5.57578189]])"
      ]
     },
     "execution_count": 32,
     "metadata": {},
     "output_type": "execute_result"
    }
   ],
   "source": [
    "#uniform(low,high,size)\n",
    "u = np.random.uniform(0,10,(3,4))\n",
    "u"
   ]
  },
  {
   "cell_type": "code",
   "execution_count": 33,
   "metadata": {},
   "outputs": [
    {
     "data": {
      "text/plain": [
       "array([[  5.02479487,  23.10576259,   8.29556788,   9.18952922],\n",
       "       [ 12.16479754,   9.97753271,   0.67639306,   6.96137071],\n",
       "       [ 23.09562592,  13.31796477,  17.45806917,   9.06177508]])"
      ]
     },
     "execution_count": 33,
     "metadata": {},
     "output_type": "execute_result"
    }
   ],
   "source": [
    "#normal(loc,scale,size)\n",
    "n = np.random.normal(10,5,(3,4))\n",
    "n"
   ]
  },
  {
   "cell_type": "code",
   "execution_count": null,
   "metadata": {
    "collapsed": true
   },
   "outputs": [],
   "source": []
  }
 ],
 "metadata": {
  "kernelspec": {
   "display_name": "Python 3",
   "language": "python",
   "name": "python3"
  },
  "language_info": {
   "codemirror_mode": {
    "name": "ipython",
    "version": 3
   },
   "file_extension": ".py",
   "mimetype": "text/x-python",
   "name": "python",
   "nbconvert_exporter": "python",
   "pygments_lexer": "ipython3",
   "version": "3.6.1"
  }
 },
 "nbformat": 4,
 "nbformat_minor": 2
}
