{
 "cells": [
  {
   "cell_type": "code",
   "execution_count": 4,
   "metadata": {},
   "outputs": [
    {
     "name": "stdout",
     "output_type": "stream",
     "text": [
      "(3024, 4032, 3) uint8\n"
     ]
    }
   ],
   "source": [
    "# PIL库(Python Image Libraay)：具有强大图像处理能力的第三方库\n",
    "# Image是PIL库中代表一个图像的类(对象)\n",
    "# RGB值：(R,G,B)"
   ]
  },
  {
   "cell_type": "code",
   "execution_count": 15,
   "metadata": {},
   "outputs": [
    {
     "name": "stdout",
     "output_type": "stream",
     "text": [
      "(3024, 4032, 3) uint8\n"
     ]
    }
   ],
   "source": [
    "#0.图像的数组表示\n",
    "from PIL import Image\n",
    "import numpy as np\n",
    "im = np.array(Image.open('./yuyuantan.jpg')) \n",
    "print(im.shape,im.dtype)  #图像是一个三维数组，维度分别是高度、宽度、像素RGB值"
   ]
  },
  {
   "cell_type": "code",
   "execution_count": 5,
   "metadata": {},
   "outputs": [
    {
     "name": "stdout",
     "output_type": "stream",
     "text": [
      "(3024, 4032, 3) uint8\n"
     ]
    }
   ],
   "source": [
    "#1.图像的变换\n",
    "from PIL import Image\n",
    "import numpy as np\n",
    "a = np.array(Image.open('./yuyuantan.jpg'))\n",
    "print(a.shape,a.dtype)"
   ]
  },
  {
   "cell_type": "code",
   "execution_count": 6,
   "metadata": {
    "collapsed": true
   },
   "outputs": [],
   "source": [
    "b = [255,255,255] - a #对RGB的每一个值进行运算\n",
    "im = Image.fromarray(b.astype('uint8'))\n",
    "im.save('./yuyuantan2.jpg')"
   ]
  },
  {
   "cell_type": "code",
   "execution_count": 7,
   "metadata": {
    "collapsed": true
   },
   "outputs": [],
   "source": [
    "#1.图像的变换2\n",
    "from PIL import Image\n",
    "import numpy as np\n",
    "a = np.array(Image.open('./yuyuantan.jpg').convert('L'))  #将一个彩色的图片转换成一个灰度值的图片，这样图像就是一个二维数组\n",
    "b = 255 - a\n",
    "im = Image.fromarray(b.astype('uint8'))\n",
    "im.save('./yuyuantan3.jpg')"
   ]
  },
  {
   "cell_type": "code",
   "execution_count": 12,
   "metadata": {
    "collapsed": true
   },
   "outputs": [],
   "source": [
    "#1.图像的变换3\n",
    "from PIL import Image\n",
    "import numpy as np\n",
    "a = np.array(Image.open('./yuyuantan.jpg'))\n",
    "c = (100/255)*a + 150  #区间变换\n",
    "im = Image.fromarray(c.astype('uint8'))\n",
    "im.save('./yuyuantan4.jpg')"
   ]
  },
  {
   "cell_type": "code",
   "execution_count": 14,
   "metadata": {
    "collapsed": true
   },
   "outputs": [],
   "source": [
    "#1.图像的变换4\n",
    "from PIL import Image\n",
    "import numpy as np\n",
    "a = np.array(Image.open('./yuyuantan.jpg'))\n",
    "d = 255 * (a/255)**2  #像素平方\n",
    "im = Image.fromarray(d.astype('uint8'))\n",
    "im.save('./yuyuantan5.jpg')"
   ]
  },
  {
   "cell_type": "code",
   "execution_count": 2,
   "metadata": {
    "collapsed": true
   },
   "outputs": [],
   "source": [
    "#2.“图像的手绘效果”实例\n",
    "#利用像素之间的梯度值和虚拟深度值对图像进行重构，根据灰度变化来模拟人类视觉的明暗程度\n",
    "#灰度：代表图像的明暗变化   梯度值：灰度的变化率   虚拟深度值：代表图像的立体效果\n",
    "from PIL import Image\n",
    "import numpy as np\n",
    "\n",
    "a = np.asarray(Image.open('./yuyuantan.jpg').convert('L')).astype('float')\n",
    "\n",
    "depth = 10.                # 预设深度值(0-100)\n",
    "grad = np.gradient(a)      #取图像灰度的梯度值\n",
    "grad_x,grad_y = grad       #分别取横纵图像梯度值\n",
    "grad_x = grad_x*depth/100. #根据深度调整x和y方向的梯度值\n",
    "grad_y = grad_y*depth/100.\n",
    "A = np.sqrt(grad_x**2 + grad_y**2 + 1.) #将梯度使用单位1表示，构造x和y轴梯度的三维归一化单位坐标系\n",
    "uni_x = grad_x/A   #图像平面的单位法向量\n",
    "uni_y = grad_y/A\n",
    "uni_z = 1./A\n",
    "\n",
    "#np.cos(vec_el)为单位光线在地面上的投影长度\n",
    "vec_el = np.pi/2.2                 #光源的俯视角度，弧度值\n",
    "vec_az = np.pi/4.                  #光源的方位角度，弧度值\n",
    "dx = np.cos(vec_el)*np.cos(vec_az) #光源对x轴的影响\n",
    "dy = np.cos(vec_el)*np.sin(vec_az) #光源对y轴的影响\n",
    "dz = np.sin(vec_el)                #光源对z轴的影响\n",
    "\n",
    "b = 255*(dx*uni_x + dy*uni_y + dz*uni_z)  #光源归一化。梯度与光源相互作用，将梯度转化为灰度\n",
    "b = b.clip(0,255) #为了避免数据越界，将生成的灰度值裁剪至0-255区间\n",
    "\n",
    "im = Image.fromarray(b.astype('uint8'))   #重构图像\n",
    "im.save('./yuyuantanHD.jpg')"
   ]
  },
  {
   "cell_type": "code",
   "execution_count": null,
   "metadata": {
    "collapsed": true
   },
   "outputs": [],
   "source": []
  }
 ],
 "metadata": {
  "kernelspec": {
   "display_name": "Python 3",
   "language": "python",
   "name": "python3"
  },
  "language_info": {
   "codemirror_mode": {
    "name": "ipython",
    "version": 3
   },
   "file_extension": ".py",
   "mimetype": "text/x-python",
   "name": "python",
   "nbconvert_exporter": "python",
   "pygments_lexer": "ipython3",
   "version": "3.6.1"
  }
 },
 "nbformat": 4,
 "nbformat_minor": 2
}
