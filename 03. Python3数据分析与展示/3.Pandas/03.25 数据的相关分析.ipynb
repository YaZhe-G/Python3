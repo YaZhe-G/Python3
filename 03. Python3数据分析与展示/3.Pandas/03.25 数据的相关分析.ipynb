{
 "cells": [
  {
   "cell_type": "code",
   "execution_count": 1,
   "metadata": {
    "collapsed": true
   },
   "outputs": [],
   "source": [
    "#数据的相关分析\n",
    "    #两个事物，表示为X和Y，如何判断他们之间的存在相关性？\n",
    "        #1.协方差方法：cov(X,Y)>0[X和Y正相关]\n",
    "                  #cov(X,Y)<0[X和Y负相关]\n",
    "                  #cov(X,Y)=0[X和Y独立无关]\n",
    "        #2.Pearson相关系数：r取值范围[-1,1],对r取绝对值\n",
    "                        # 0.8~1.0 极强相关\n",
    "                        # 0.6~0.8 强相关\n",
    "                        # 0.4~0.6 中等程度相关\n",
    "                        # 0.2~0.4 弱相关\n",
    "                        # 0.0~0.4 极弱相关或无相关"
   ]
  },
  {
   "cell_type": "code",
   "execution_count": 3,
   "metadata": {
    "collapsed": true
   },
   "outputs": [],
   "source": [
    "#相关分析函数\n",
    "    #适用于Series和DataFrame类型\n",
    "    #.cov():计算协方差矩阵\n",
    "    #.corr():计算相关系数矩阵，Pearson、Spearman、Kendall等系数"
   ]
  },
  {
   "cell_type": "code",
   "execution_count": 4,
   "metadata": {},
   "outputs": [
    {
     "data": {
      "text/plain": [
       "0.5239439145220387"
      ]
     },
     "execution_count": 4,
     "metadata": {},
     "output_type": "execute_result"
    }
   ],
   "source": [
    "#实例：房价增幅与M2增幅的相关性  (M2:反映货币供应量的重要指标)\n",
    "import pandas as pd\n",
    "hprice = pd.Series([3.04,22.93,12.75,22.6,12.33],index=['2008','2009','2010','2011','2012'])\n",
    "m2 = pd.Series([8.18,18.38,9.13,7.82,6.69],index=['2008','2009','2010','2011','2012'])\n",
    "hprice.corr(m2)  #中等程度相关"
   ]
  },
  {
   "cell_type": "code",
   "execution_count": null,
   "metadata": {
    "collapsed": true
   },
   "outputs": [],
   "source": [
    "#总结：\n",
    "    #一组数据的摘要：\n",
    "        #排序 .sort_index()   .sort_values()\n",
    "        #基本统计函数  .describe()\n",
    "        #累计统计函数  .cum*()   .rolling().*()\n",
    "        #相关性分析   .corr()   .cov()"
   ]
  }
 ],
 "metadata": {
  "kernelspec": {
   "display_name": "Python 3",
   "language": "python",
   "name": "python3"
  },
  "language_info": {
   "codemirror_mode": {
    "name": "ipython",
    "version": 3
   },
   "file_extension": ".py",
   "mimetype": "text/x-python",
   "name": "python",
   "nbconvert_exporter": "python",
   "pygments_lexer": "ipython3",
   "version": "3.6.1"
  }
 },
 "nbformat": 4,
 "nbformat_minor": 2
}
