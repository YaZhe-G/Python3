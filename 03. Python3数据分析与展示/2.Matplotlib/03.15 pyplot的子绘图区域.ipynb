{
 "cells": [
  {
   "cell_type": "code",
   "execution_count": 8,
   "metadata": {
    "collapsed": true
   },
   "outputs": [],
   "source": [
    "#复杂的绘图区域"
   ]
  },
  {
   "cell_type": "code",
   "execution_count": 9,
   "metadata": {
    "collapsed": true
   },
   "outputs": [],
   "source": [
    "#方法1:plt.subplot2grid(GridSpec,CurSpec,colspan=1,rowspan=1)\n",
    "    #理念：设定网格，选中网格，确定选中行列式区域数量，编号从0开始。\n",
    "import matplotlib.pyplot as plt\n",
    "ax1 = plt.subplot2grid((3,3),(0,0),colspan=3)\n",
    "ax2 = plt.subplot2grid((3,3),(1,0),colspan=2)\n",
    "ax3 = plt.subplot2grid((3,3),(1,2),rowspan=2)\n",
    "ax4 = plt.subplot2grid((3,3),(2,0))\n",
    "ax5 = plt.subplot2grid((3,3),(2,1))"
   ]
  },
  {
   "cell_type": "code",
   "execution_count": 10,
   "metadata": {},
   "outputs": [],
   "source": [
    "#方法2:gripspec类+subplot实现同样的功能\n",
    "import matplotlib.gridspec as gridspec\n",
    "\n",
    "#建立一个9宫格\n",
    "gs = gridspec.GridSpec(3,3)\n",
    "\n",
    "#9宫格中的5个绘图区域\n",
    "ax1 = plt.subplot(gs[0,:])\n",
    "ax2 = plt.subplot(gs[1,:-1])\n",
    "ax3 = plt.subplot(gs[1:,-1])\n",
    "ax4 = plt.subplot(gs[2,0])\n",
    "ax5 = plt.subplot(gs[2,1])"
   ]
  },
  {
   "cell_type": "code",
   "execution_count": null,
   "metadata": {
    "collapsed": true
   },
   "outputs": [],
   "source": []
  }
 ],
 "metadata": {
  "kernelspec": {
   "display_name": "Python 3",
   "language": "python",
   "name": "python3"
  },
  "language_info": {
   "codemirror_mode": {
    "name": "ipython",
    "version": 3
   },
   "file_extension": ".py",
   "mimetype": "text/x-python",
   "name": "python",
   "nbconvert_exporter": "python",
   "pygments_lexer": "ipython3",
   "version": "3.6.1"
  }
 },
 "nbformat": 4,
 "nbformat_minor": 2
}
