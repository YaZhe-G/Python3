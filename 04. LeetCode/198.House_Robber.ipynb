{
 "cells": [
  {
   "cell_type": "code",
   "execution_count": 9,
   "metadata": {},
   "outputs": [
    {
     "name": "stdout",
     "output_type": "stream",
     "text": [
      "4\n"
     ]
    }
   ],
   "source": [
    "class Solution(object):\n",
    "    def rob(self, nums):\n",
    "        \"\"\"\n",
    "        :type nums: List[int]\n",
    "        :rtype: int\n",
    "        \"\"\"\n",
    "        rob,no_rob,rob1,no_rob1 = 0,0,0,0\n",
    "        for num in nums:\n",
    "            rob1 = num + no_rob\n",
    "            no_rob1 = max(rob,no_rob)\n",
    "            rob,no_rob = rob1,no_rob1\n",
    "        return max(rob,no_rob)\n",
    "if __name__ == \"__main__\":\n",
    "    nums = [2,1,1,2]\n",
    "    print(Solution().rob(nums))\n",
    "    \n",
    "\n",
    "#eg:\n",
    "#nums    2 1 1 2\n",
    "#rob     2 1 3 4\n",
    "#no_rob  0 2 2 3"
   ]
  },
  {
   "cell_type": "code",
   "execution_count": null,
   "metadata": {
    "collapsed": true
   },
   "outputs": [],
   "source": []
  }
 ],
 "metadata": {
  "kernelspec": {
   "display_name": "Python 3",
   "language": "python",
   "name": "python3"
  },
  "language_info": {
   "codemirror_mode": {
    "name": "ipython",
    "version": 3
   },
   "file_extension": ".py",
   "mimetype": "text/x-python",
   "name": "python",
   "nbconvert_exporter": "python",
   "pygments_lexer": "ipython3",
   "version": "3.6.1"
  }
 },
 "nbformat": 4,
 "nbformat_minor": 2
}
