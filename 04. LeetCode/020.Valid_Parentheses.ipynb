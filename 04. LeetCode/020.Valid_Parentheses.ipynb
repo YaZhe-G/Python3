{
 "cells": [
  {
   "cell_type": "code",
   "execution_count": 1,
   "metadata": {},
   "outputs": [
    {
     "name": "stdout",
     "output_type": "stream",
     "text": [
      "请输入英文括号：{[()]}\n",
      "{[()]} isValid : ?\n",
      "True\n"
     ]
    }
   ],
   "source": [
    "class Solution:\n",
    "    def isValid(self, parentheses_str):\n",
    "        \"\"\"\n",
    "        :type s: str\n",
    "        :rtype: bool\n",
    "        \"\"\"\n",
    "        #模拟栈解决\n",
    "        stack = []\n",
    "        for ch in parentheses_str:  #ch:character字符\n",
    "            #读到左括号压栈\n",
    "            if ch == '(' or ch == '[' or ch == '{':\n",
    "                stack.append(ch)\n",
    "            #读到右括号时进行判断，返回错误或出栈\n",
    "            else:\n",
    "                if not stack:  #stack不能为空，防止下面的数组(stack[-1])越界\n",
    "                    return False\n",
    "                if ch == ')' and stack[-1] != '(' or ch == ']' and stack[-1] != '[' or ch == '}' and stack[-1] != '{':\n",
    "                    return False\n",
    "                stack.pop()\n",
    "        return not stack\n",
    "\n",
    "if __name__ == \"__main__\":\n",
    "    parentheses_str = input(\"请输入英文括号：\")\n",
    "    solution = Solution()\n",
    "    result = solution.isValid(parentheses_str)\n",
    "    print(\"%s isValid : ?\" % parentheses_str)\n",
    "    print(result)"
   ]
  },
  {
   "cell_type": "code",
   "execution_count": null,
   "metadata": {
    "collapsed": true
   },
   "outputs": [],
   "source": []
  }
 ],
 "metadata": {
  "kernelspec": {
   "display_name": "Python 3",
   "language": "python",
   "name": "python3"
  },
  "language_info": {
   "codemirror_mode": {
    "name": "ipython",
    "version": 3
   },
   "file_extension": ".py",
   "mimetype": "text/x-python",
   "name": "python",
   "nbconvert_exporter": "python",
   "pygments_lexer": "ipython3",
   "version": "3.6.1"
  }
 },
 "nbformat": 4,
 "nbformat_minor": 2
}
