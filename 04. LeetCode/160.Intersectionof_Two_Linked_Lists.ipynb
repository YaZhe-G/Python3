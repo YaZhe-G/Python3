{
 "cells": [
  {
   "cell_type": "code",
   "execution_count": 4,
   "metadata": {},
   "outputs": [
    {
     "name": "stdout",
     "output_type": "stream",
     "text": [
      "<__main__.ListNode object at 0x10c0a84a8>\n",
      "<__main__.ListNode object at 0x10c0a84a8>\n"
     ]
    }
   ],
   "source": [
    "class ListNode(object):\n",
    "    def __init__(self, x):\n",
    "        self.val = x\n",
    "        self.next = None\n",
    "\n",
    "class Solution(object):\n",
    "    def getIntersectionNode(self, headA, headB):  #把较长的那个链表向后移动这个差值的个数，然后一一比较即可\n",
    "        \"\"\"\n",
    "        :type head1, head1: ListNode\n",
    "        :rtype: ListNode\n",
    "        \"\"\"\n",
    "        lenA,lenB = 0,0\n",
    "        node1,node2 = headA,headB\n",
    "        while node1 != None:\n",
    "            lenA += 1\n",
    "            node1 = node1.next\n",
    "        while node2 != None:\n",
    "            lenB += 1\n",
    "            node2 = node2.next\n",
    "        node1,node2 = headA,headB\n",
    "        while lenA < lenB:\n",
    "            node2 = node2.next\n",
    "            lenB -= 1\n",
    "        while lenA > lenB:\n",
    "            node1 = node1.next\n",
    "            lenA -= 1\n",
    "        while node1 != node2:\n",
    "            node1 = node1.next\n",
    "            node2 = node2.next\n",
    "        return node1\n",
    "    def getIntersectionNode2(self,headA,headB):  #两个指针走过的路程相同，是两个链表的长度之和。方法巧妙，但是超时。。。\n",
    "        node1,node2 = headA,headB\n",
    "        if node1 == None or node2 == None:\n",
    "            return None\n",
    "        else:\n",
    "            while node1 != node2:\n",
    "                if node1.next == None:\n",
    "                    node1.next = headB\n",
    "                if node2.next == None:\n",
    "                    node2.next = headA\n",
    "                node1 = node1.next\n",
    "                node2 = node2.next\n",
    "            return node1\n",
    "\n",
    "if __name__ == \"__main__\":\n",
    "    headA,headA.next,headA.next.next = ListNode(1),ListNode(2),ListNode(3)\n",
    "    headB,headB.next,headB.next.next = ListNode(4),headA.next,headA.next.next\n",
    "    print(Solution().getIntersectionNode(headA,headB))\n",
    "    print(Solution().getIntersectionNode2(headA,headB))"
   ]
  },
  {
   "cell_type": "code",
   "execution_count": null,
   "metadata": {
    "collapsed": true
   },
   "outputs": [],
   "source": []
  }
 ],
 "metadata": {
  "kernelspec": {
   "display_name": "Python 3",
   "language": "python",
   "name": "python3"
  },
  "language_info": {
   "codemirror_mode": {
    "name": "ipython",
    "version": 3
   },
   "file_extension": ".py",
   "mimetype": "text/x-python",
   "name": "python",
   "nbconvert_exporter": "python",
   "pygments_lexer": "ipython3",
   "version": "3.6.1"
  }
 },
 "nbformat": 4,
 "nbformat_minor": 2
}
