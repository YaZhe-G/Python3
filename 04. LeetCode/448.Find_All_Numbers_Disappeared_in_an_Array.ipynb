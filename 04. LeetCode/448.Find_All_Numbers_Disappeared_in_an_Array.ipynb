{
 "cells": [
  {
   "cell_type": "code",
   "execution_count": 22,
   "metadata": {},
   "outputs": [
    {
     "name": "stdout",
     "output_type": "stream",
     "text": [
      "[5, 6]\n",
      "[5, 6]\n"
     ]
    }
   ],
   "source": [
    "class Solution(object):\n",
    "    def findDisappearedNumbers(self, nums): #利用集合的差集性质\n",
    "        \"\"\"\n",
    "        :type nums: List[int]\n",
    "        :rtype: List[int]\n",
    "        \"\"\"\n",
    "        return list(set(range(1,len(nums)+1)) - set(nums))\n",
    "    def findDisappearedNumbers2(self,nums): #利用num.index=num-1的性质\n",
    "        for num in nums:\n",
    "            nums[abs(num)-1] = -abs(nums[abs(num)-1])\n",
    "        return [i+1 for i,v in enumerate(nums) if v>0]\n",
    "    \n",
    "if __name__ == \"__main__\":\n",
    "    nums = [4,3,2,7,8,2,3,1]\n",
    "    print(Solution().findDisappearedNumbers(nums))\n",
    "    print(Solution().findDisappearedNumbers2(nums))"
   ]
  },
  {
   "cell_type": "code",
   "execution_count": 20,
   "metadata": {},
   "outputs": [
    {
     "name": "stdout",
     "output_type": "stream",
     "text": [
      "0\n",
      "1\n",
      "2\n"
     ]
    }
   ],
   "source": [
    "test = [1,2,3,-1]\n",
    "for i,v in enumerate(test):\n",
    "    if v>0:\n",
    "        print(i)"
   ]
  },
  {
   "cell_type": "code",
   "execution_count": 21,
   "metadata": {},
   "outputs": [
    {
     "data": {
      "text/plain": [
       "[0, 1, 2]"
      ]
     },
     "execution_count": 21,
     "metadata": {},
     "output_type": "execute_result"
    }
   ],
   "source": [
    "[i for i,v in enumerate(test) if v>0]"
   ]
  },
  {
   "cell_type": "markdown",
   "metadata": {},
   "source": [
    "#### 思路分析：\n",
    "1. 对于没有‘消失数字‘的排好序的数组，如[1,2,3,4,5]，则他们的数字k对应的索引是k-1\n",
    "2. 解这道题的思路是：找出'消失的数字'理应对应的索引，然后把索引+1，就是要求的'消失的数字'\n",
    "3. 通过置负的手段，来把'存在的数字'和'消失的数字' 理应 对应的索引区分开来\n",
    "    * 存在的数字-1：就是该数字 理应 对应的索引\n",
    "4. 数组中正数所对应的索引，就是我们要求的'消失的数字' 理应 对应的索引"
   ]
  },
  {
   "cell_type": "code",
   "execution_count": null,
   "metadata": {
    "collapsed": true
   },
   "outputs": [],
   "source": []
  }
 ],
 "metadata": {
  "kernelspec": {
   "display_name": "Python 3",
   "language": "python",
   "name": "python3"
  },
  "language_info": {
   "codemirror_mode": {
    "name": "ipython",
    "version": 3
   },
   "file_extension": ".py",
   "mimetype": "text/x-python",
   "name": "python",
   "nbconvert_exporter": "python",
   "pygments_lexer": "ipython3",
   "version": "3.6.1"
  }
 },
 "nbformat": 4,
 "nbformat_minor": 2
}
