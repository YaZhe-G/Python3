{
 "cells": [
  {
   "cell_type": "code",
   "execution_count": 4,
   "metadata": {},
   "outputs": [
    {
     "name": "stdout",
     "output_type": "stream",
     "text": [
      "7 -> 0 -> 8\n"
     ]
    }
   ],
   "source": [
    "# Time:  O(n)\n",
    "# Space: O(1)\n",
    "\n",
    "class ListNode:\n",
    "    def __init__(self, x):\n",
    "        self.val = x\n",
    "        self.next = None\n",
    "\n",
    "class Solution(object):\n",
    "    def addTwoNumbers(self, l1, l2):\n",
    "        \"\"\"\n",
    "        :type l1: ListNode\n",
    "        :type l2: ListNode\n",
    "        :rtype: ListNode\n",
    "        \"\"\"\n",
    "        dummy = ListNode(0)\n",
    "        current, carry = dummy, 0\n",
    "\n",
    "        while l1 or l2:\n",
    "            val = carry\n",
    "            if l1:\n",
    "                val += l1.val\n",
    "                l1 = l1.next #移动的指针\n",
    "            if l2:\n",
    "                val += l2.val\n",
    "                l2 = l2.next #移动的指针\n",
    "            carry = val//10\n",
    "            val = val%10\n",
    "            current.next = ListNode(val)\n",
    "            current = current.next #移动的指针\n",
    "        if carry == 1: #循环结束后如果还需要进位的话，由于l.next为None，因此没办法叠加，所以需要单独赋值\n",
    "            current.next = ListNode(1)\n",
    "\n",
    "        return dummy.next\n",
    "\n",
    "    \n",
    "if __name__ == \"__main__\":\n",
    "    a, a.next, a.next.next = ListNode(2), ListNode(4), ListNode(3)\n",
    "    b, b.next, b.next.next = ListNode(5), ListNode(6), ListNode(4)\n",
    "    solution = Solution()\n",
    "    result = solution.addTwoNumbers(a, b)\n",
    "    print(\"{0} -> {1} -> {2}\".format(result.val, result.next.val, result.next.next.val))"
   ]
  },
  {
   "cell_type": "code",
   "execution_count": 27,
   "metadata": {},
   "outputs": [
    {
     "data": {
      "text/plain": [
       "2"
      ]
     },
     "execution_count": 27,
     "metadata": {},
     "output_type": "execute_result"
    }
   ],
   "source": [
    "l1 = ListNode(0)\n",
    "test = l1\n",
    "l1.next = ListNode(1)\n",
    "l1.next.next = ListNode(2)\n",
    "test.next.next.val"
   ]
  },
  {
   "cell_type": "markdown",
   "metadata": {},
   "source": [
    "#### 总结：\n",
    "1. 注意循环的用法：\n",
    "    * while l1 or l2： 可以一次循环两个链表\n",
    "2. 注意if的用法：\n",
    "    * if ... if ： 一次循环，可以同时遍历两个链表中的值\n",
    "3. 移动指针的运用：\n",
    "    * 定义一个傀儡指针和移动指针，指向ListNode(0)\n",
    "    * 求值时，移动指针跟随l1和l2的移动而移动，并存储l1和l2的和，不断延伸结果链表\n",
    "    * 傀儡指针不动，记录着结果链表的信息。因为移动指针是移动的，所以不能通过移动指针得到结果链表的信息\n",
    "    * 返回傀儡指针.next，就可以知道结果链表所有的信息"
   ]
  },
  {
   "cell_type": "code",
   "execution_count": null,
   "metadata": {
    "collapsed": true
   },
   "outputs": [],
   "source": []
  }
 ],
 "metadata": {
  "kernelspec": {
   "display_name": "Python 3",
   "language": "python",
   "name": "python3"
  },
  "language_info": {
   "codemirror_mode": {
    "name": "ipython",
    "version": 3
   },
   "file_extension": ".py",
   "mimetype": "text/x-python",
   "name": "python",
   "nbconvert_exporter": "python",
   "pygments_lexer": "ipython3",
   "version": "3.6.1"
  }
 },
 "nbformat": 4,
 "nbformat_minor": 2
}
