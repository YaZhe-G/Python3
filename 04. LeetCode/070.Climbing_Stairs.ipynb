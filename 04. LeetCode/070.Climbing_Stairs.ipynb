{
 "cells": [
  {
   "cell_type": "code",
   "execution_count": 1,
   "metadata": {},
   "outputs": [
    {
     "name": "stdout",
     "output_type": "stream",
     "text": [
      "请输入楼梯的高度:6\n",
      "你用递归爬上去的方法有13种\n",
      "你用优化后的递归爬上去的方法有13种\n",
      "你用动态规划爬上去的方法有13种\n"
     ]
    }
   ],
   "source": [
    "import time\n",
    "class Solution(object):\n",
    "    dictionary = {}\n",
    "    \n",
    "    def climbing_by_recursion(self,n): #纯递归会超时\n",
    "        if n == 0 or n == 1:\n",
    "            return 1\n",
    "        else:\n",
    "            #注意递归调用类方法时，需要用self.function()\n",
    "            return self.climbing_by_recursion(n-2) + self.climbing_by_recursion(n-1)\n",
    "        \n",
    "    def climbing_by_recursion2(self,n):\n",
    "        if n == 0 or n == 1:\n",
    "            return 1\n",
    "        elif n in self.dictionary: #把已经计算得到的数据存在一个字典里，可以直接取值，避免重复计算\n",
    "            return self.dictionary[n]\n",
    "        else:\n",
    "            self.dictionary[n] = self.climbing_by_recursion2(n-1) + self.climbing_by_recursion2(n-2)\n",
    "            return self.dictionary[n]\n",
    "        \n",
    "    def climbing_by_dp(self,n):\n",
    "        if n == 0 or n == 1:\n",
    "            return 1\n",
    "        else:\n",
    "            result = [1,2]\n",
    "            for i in range(3,n+1):\n",
    "                result.append(sum(result))\n",
    "                result.pop(0)\n",
    "            return result[1]\n",
    "    \n",
    "\n",
    "    \n",
    "if __name__ == \"__main__\":\n",
    "    high_stairs = input(\"请输入楼梯的高度:\")\n",
    "    high = int(high_stairs)\n",
    "    result_recursion = Solution().climbing_by_recursion(high)\n",
    "    print(\"你用递归爬上去的方法有{}种\".format(result_recursion))\n",
    "    result_recursion2 = Solution().climbing_by_recursion2(high)\n",
    "    print(\"你用优化后的递归爬上去的方法有{}种\".format(result_recursion2))\n",
    "    result_dp = Solution().climbing_by_dp(high)\n",
    "    print(\"你用动态规划爬上去的方法有{}种\".format(result_dp))"
   ]
  },
  {
   "cell_type": "code",
   "execution_count": null,
   "metadata": {
    "collapsed": true
   },
   "outputs": [],
   "source": []
  }
 ],
 "metadata": {
  "kernelspec": {
   "display_name": "Python 3",
   "language": "python",
   "name": "python3"
  },
  "language_info": {
   "codemirror_mode": {
    "name": "ipython",
    "version": 3
   },
   "file_extension": ".py",
   "mimetype": "text/x-python",
   "name": "python",
   "nbconvert_exporter": "python",
   "pygments_lexer": "ipython3",
   "version": "3.6.1"
  }
 },
 "nbformat": 4,
 "nbformat_minor": 2
}
