{
 "cells": [
  {
   "cell_type": "markdown",
   "metadata": {},
   "source": [
    "#### 算法思路：二分法"
   ]
  },
  {
   "cell_type": "code",
   "execution_count": 1,
   "metadata": {},
   "outputs": [
    {
     "name": "stdout",
     "output_type": "stream",
     "text": [
      "4\n"
     ]
    }
   ],
   "source": [
    "class Solution(object):\n",
    "    def searchInsertPosition(self,nums,target):\n",
    "        if len(nums) == 0:\n",
    "            return 0\n",
    "        left = 0; right = len(nums)-1\n",
    "        while (right-left) > 1:\n",
    "            middle = (left+right)//2\n",
    "            if nums[middle] > target:\n",
    "                right = middle\n",
    "            elif nums[middle] < target:\n",
    "                left = middle\n",
    "            else:\n",
    "                return middle\n",
    "        #right-left <= 1 时的情况\n",
    "        if target < nums[left]:\n",
    "            return left\n",
    "        elif target > nums[left]:\n",
    "            if target < nums[right]:\n",
    "                return right\n",
    "            elif target > nums[right]:\n",
    "                return right+1\n",
    "            else:\n",
    "                return right\n",
    "        else:\n",
    "            return left\n",
    "            \n",
    "                \n",
    "if __name__ == \"__main__\":\n",
    "    nums = [1,3,5,6]\n",
    "    target = 7\n",
    "    print(Solution().searchInsertPosition(nums,target))"
   ]
  },
  {
   "cell_type": "code",
   "execution_count": null,
   "metadata": {
    "collapsed": true
   },
   "outputs": [],
   "source": []
  }
 ],
 "metadata": {
  "kernelspec": {
   "display_name": "Python 3",
   "language": "python",
   "name": "python3"
  },
  "language_info": {
   "codemirror_mode": {
    "name": "ipython",
    "version": 3
   },
   "file_extension": ".py",
   "mimetype": "text/x-python",
   "name": "python",
   "nbconvert_exporter": "python",
   "pygments_lexer": "ipython3",
   "version": "3.6.1"
  }
 },
 "nbformat": 4,
 "nbformat_minor": 2
}
