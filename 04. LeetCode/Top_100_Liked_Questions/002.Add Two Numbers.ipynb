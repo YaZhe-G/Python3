{
 "cells": [
  {
   "cell_type": "markdown",
   "metadata": {},
   "source": [
    "# Description:\n",
    "    You are given two non-empty linked lists representing two non-negative integers. The digits are stored in \n",
    "    reverse order and each of their nodes contain a single digit. Add the two numbers and return it \n",
    "    as a linked list.\n",
    "\n",
    "    You may assume the two numbers do not contain any leading zero, except the number 0 itself.\n",
    "# Example:\n",
    "    Input: (2 -> 4 -> 3) + (5 -> 6 -> 4)\n",
    "    Output: 7 -> 0 -> 8\n",
    "    Explanation: 342 + 465 = 807."
   ]
  },
  {
   "cell_type": "code",
   "execution_count": 1,
   "metadata": {},
   "outputs": [
    {
     "name": "stdout",
     "output_type": "stream",
     "text": [
      "7 -> 0 -> 8\n"
     ]
    }
   ],
   "source": [
    "# Time:  O(n)\n",
    "# Space: O(1)\n",
    "\n",
    "class ListNode:\n",
    "    def __init__(self, x):\n",
    "        self.val = x\n",
    "        self.next = None\n",
    "\n",
    "class Solution(object):\n",
    "    def addTwoNumbers(self, l1, l2):\n",
    "        \"\"\"\n",
    "        :type l1: ListNode\n",
    "        :type l2: ListNode\n",
    "        :rtype: ListNode\n",
    "        \"\"\"\n",
    "        dummy = ListNode(0)\n",
    "        current, carry = dummy, 0\n",
    "\n",
    "        while l1 or l2:\n",
    "            val = carry\n",
    "            if l1:\n",
    "                val += l1.val\n",
    "                l1 = l1.next\n",
    "            if l2:\n",
    "                val += l2.val\n",
    "                l2 = l2.next\n",
    "            carry, val = divmod(val, 10)\n",
    "            current.next = ListNode(val)\n",
    "            current = current.next\n",
    "\n",
    "        if carry == 1:\n",
    "            current.next = ListNode(1)\n",
    "\n",
    "        return dummy.next\n",
    "\n",
    "if __name__ == '__main__':\n",
    "    a, a.next, a.next.next = ListNode(2), ListNode(4), ListNode(3)\n",
    "    b, b.next, b.next.next = ListNode(5), ListNode(6), ListNode(4)\n",
    "    result = Solution().addTwoNumbers(a, b)\n",
    "    print(\"{0} -> {1} -> {2}\".format(result.val, result.next.val, result.next.next.val))"
   ]
  },
  {
   "cell_type": "code",
   "execution_count": null,
   "metadata": {
    "collapsed": true
   },
   "outputs": [],
   "source": []
  }
 ],
 "metadata": {
  "kernelspec": {
   "display_name": "Python 3",
   "language": "python",
   "name": "python3"
  },
  "language_info": {
   "codemirror_mode": {
    "name": "ipython",
    "version": 3
   },
   "file_extension": ".py",
   "mimetype": "text/x-python",
   "name": "python",
   "nbconvert_exporter": "python",
   "pygments_lexer": "ipython3",
   "version": "3.6.1"
  }
 },
 "nbformat": 4,
 "nbformat_minor": 2
}
