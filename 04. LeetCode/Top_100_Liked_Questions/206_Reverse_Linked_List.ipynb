{
 "cells": [
  {
   "cell_type": "code",
   "execution_count": 1,
   "metadata": {},
   "outputs": [
    {
     "name": "stdout",
     "output_type": "stream",
     "text": [
      "3\n",
      "2\n",
      "1\n"
     ]
    }
   ],
   "source": [
    "class ListNode(object):\n",
    "    def __init__(self, x):\n",
    "        self.val = x\n",
    "        self.next = None\n",
    "\n",
    "class Solution(object):\n",
    "    def reverseList(self, head):\n",
    "        \"\"\"\n",
    "        :type head: ListNode\n",
    "        :rtype: ListNode\n",
    "        \"\"\"\n",
    "        if head == None or head.next == None:\n",
    "            return head\n",
    "        else:\n",
    "            last = None\n",
    "            while head:\n",
    "                tmp = head.next\n",
    "                head.next = last\n",
    "                last = head\n",
    "                head = tmp\n",
    "            return last\n",
    "        \n",
    "if __name__ == \"__main__\":\n",
    "    test,test.next,test.next.next = ListNode(1),ListNode(2),ListNode(3)\n",
    "    reverseTest = Solution().reverseList(test)\n",
    "    while reverseTest != None:\n",
    "        print(reverseTest.val)\n",
    "        reverseTest = reverseTest.next"
   ]
  },
  {
   "cell_type": "code",
   "execution_count": null,
   "metadata": {
    "collapsed": true
   },
   "outputs": [],
   "source": []
  }
 ],
 "metadata": {
  "kernelspec": {
   "display_name": "Python 3",
   "language": "python",
   "name": "python3"
  },
  "language_info": {
   "codemirror_mode": {
    "name": "ipython",
    "version": 3
   },
   "file_extension": ".py",
   "mimetype": "text/x-python",
   "name": "python",
   "nbconvert_exporter": "python",
   "pygments_lexer": "ipython3",
   "version": "3.6.1"
  }
 },
 "nbformat": 4,
 "nbformat_minor": 2
}
