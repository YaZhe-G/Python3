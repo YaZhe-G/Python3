{
 "cells": [
  {
   "cell_type": "code",
   "execution_count": 1,
   "metadata": {},
   "outputs": [
    {
     "name": "stdout",
     "output_type": "stream",
     "text": [
      "1->2->3->4->5->8\n"
     ]
    }
   ],
   "source": [
    "class ListNode(object):\n",
    "    def __init__(self,x):\n",
    "        self.val = x\n",
    "        self.next = None\n",
    "\n",
    "class Solution(object):\n",
    "    def mergeTwoLists(self,l1,l2):\n",
    "        \"\"\"\n",
    "        type l1 : ListNode\n",
    "        type l2 : ListNode\n",
    "        rtype : ListNode\n",
    "        \"\"\"\n",
    "        dummy = ListNode(0)\n",
    "        current = dummy\n",
    "        while l1  and l2:\n",
    "            if l1.val < l2.val:\n",
    "                current.next = ListNode(l1.val)\n",
    "                l1 = l1.next\n",
    "            else:\n",
    "                current.next = ListNode(l2.val)\n",
    "                l2 = l2.next\n",
    "            current = current.next\n",
    "        if l1 != None:\n",
    "            current.next = l1\n",
    "        else:\n",
    "            current.next = l2\n",
    "        return dummy.next\n",
    "    \n",
    "if __name__ == \"__main__\":\n",
    "    a, a.next, a.next.next = ListNode(1), ListNode(2), ListNode(4)\n",
    "    b, b.next, b.next.next = ListNode(3), ListNode(5), ListNode(8)\n",
    "    result = Solution().mergeTwoLists(a,b)\n",
    "    print(\"{0}->{1}->{2}->{3}->{4}->{5}\".format(result.val,result.next.val,result.next.next.val,\\\n",
    "                                                        result.next.next.next.val,result.next.next.next.next.val,\\\n",
    "                                                        result.next.next.next.next.next.val))"
   ]
  },
  {
   "cell_type": "markdown",
   "metadata": {},
   "source": [
    "#### 总结：\n",
    "1. 注意循环的使用：跟002.Add_Two_Numbers的循环作比较\n",
    "2. 注意顺序结构if...else的使用：跟002中的if...if作比较"
   ]
  },
  {
   "cell_type": "code",
   "execution_count": null,
   "metadata": {
    "collapsed": true
   },
   "outputs": [],
   "source": []
  }
 ],
 "metadata": {
  "kernelspec": {
   "display_name": "Python 3",
   "language": "python",
   "name": "python3"
  },
  "language_info": {
   "codemirror_mode": {
    "name": "ipython",
    "version": 3
   },
   "file_extension": ".py",
   "mimetype": "text/x-python",
   "name": "python",
   "nbconvert_exporter": "python",
   "pygments_lexer": "ipython3",
   "version": "3.6.1"
  }
 },
 "nbformat": 4,
 "nbformat_minor": 2
}
