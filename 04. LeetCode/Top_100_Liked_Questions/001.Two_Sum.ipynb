{
 "cells": [
  {
   "cell_type": "code",
   "execution_count": 1,
   "metadata": {},
   "outputs": [
    {
     "name": "stdout",
     "output_type": "stream",
     "text": [
      "请输入数组(以空格隔开)：1 2 7 7 11 15\n",
      "请输入target和：9\n",
      "two_sum_recursion's result:\n",
      "[(2, 7), (2, 7)]\n",
      "two_sum_hash's result:\n",
      "[(2, 7), (2, 7)]\n"
     ]
    }
   ],
   "source": [
    "class Solution:\n",
    "    #1.迭代算法解决\n",
    "    def two_sum_recursion(self,lst,length,target):\n",
    "        \"\"\"\n",
    "        :type nums: List[int]\n",
    "        :type target: int\n",
    "        :rtype: List[int]\n",
    "        \"\"\"\n",
    "        i = 0; j = length - 1\n",
    "        result = []\n",
    "        while(i < j):\n",
    "            if (lst[i]+lst[j]) > target:\n",
    "                j = j - 1\n",
    "            elif (lst[i]+lst[j]) < target:  #if...if 和 if...elif 是不一样的！此处写成if会出错\n",
    "                i = i + 1\n",
    "            else:\n",
    "                result.append((lst[i],lst[j]))\n",
    "                j = j - 1 \n",
    "        return result\n",
    "    #2.哈希算法解决\n",
    "    def two_sum_hash(self,lst,length,target):\n",
    "        result = []\n",
    "        index_hash = {}\n",
    "        for i in range(length):\n",
    "            if (target-lst[i]) in index_hash:\n",
    "                result.append((target-lst[i],lst[i]))\n",
    "            index_hash[lst[i]] = i\n",
    "        return result\n",
    "\n",
    "if __name__ == \"__main__\":\n",
    "    num_str = input(\"请输入数组(以空格隔开)：\")\n",
    "    target = int(input(\"请输入target和：\"))\n",
    "    num_lst = num_str.strip().split()\n",
    "    num_lst = [int(num) for num in num_lst]\n",
    "    length = len(num_lst)\n",
    "    \n",
    "    solution = Solution()\n",
    "    result_recursion = solution.two_sum_recursion(num_lst,length,target)\n",
    "    print(\"two_sum_recursion's result:\")\n",
    "    print(result_recursion)\n",
    "    result_hash = solution.two_sum_hash(num_lst,length,target)\n",
    "    print(\"two_sum_hash's result:\")\n",
    "    print(result_hash)"
   ]
  },
  {
   "cell_type": "code",
   "execution_count": null,
   "metadata": {
    "collapsed": true
   },
   "outputs": [],
   "source": []
  }
 ],
 "metadata": {
  "kernelspec": {
   "display_name": "Python 3",
   "language": "python",
   "name": "python3"
  },
  "language_info": {
   "codemirror_mode": {
    "name": "ipython",
    "version": 3
   },
   "file_extension": ".py",
   "mimetype": "text/x-python",
   "name": "python",
   "nbconvert_exporter": "python",
   "pygments_lexer": "ipython3",
   "version": "3.6.1"
  }
 },
 "nbformat": 4,
 "nbformat_minor": 2
}
