{
 "cells": [
  {
   "cell_type": "code",
   "execution_count": 2,
   "metadata": {},
   "outputs": [
    {
     "name": "stdout",
     "output_type": "stream",
     "text": [
      "[18, 20, 13]\n"
     ]
    }
   ],
   "source": [
    "class TreeNode(object):\n",
    "    def __init__(self, x):\n",
    "        self.val = x\n",
    "        self.left = None\n",
    "        self.right = None\n",
    "class Solution(object):\n",
    "    tmp = 0\n",
    "    val = []\n",
    "    def convertBST(self, root):\n",
    "        if root == None:\n",
    "            return root\n",
    "        else:\n",
    "            if root.right:\n",
    "                self.convertBST(root.right)\n",
    "            self.tmp += root.val\n",
    "            root.val = self.tmp\n",
    "            if root.left:\n",
    "                self.convertBST(root.left)\n",
    "            return root\n",
    "    def printBST(self,root): #先序遍历(根，左，右)\n",
    "        if root == None:\n",
    "            return root\n",
    "        else:\n",
    "            if root:\n",
    "                self.val.append(root.val)\n",
    "            if root.left:\n",
    "                #self.val.append(root.left.val)\n",
    "                self.printBST(root.left)\n",
    "            if root.right:\n",
    "                #self.val.append(root.right.val)\n",
    "                self.printBST(root.right)\n",
    "        return self.val\n",
    "if __name__ == \"__main__\":\n",
    "    root,root.left,root.right = TreeNode(5),TreeNode(2),TreeNode(13)\n",
    "    cvt_root = Solution().convertBST(root)\n",
    "    print(Solution().printBST(cvt_root))"
   ]
  },
  {
   "cell_type": "code",
   "execution_count": null,
   "metadata": {
    "collapsed": true
   },
   "outputs": [],
   "source": []
  }
 ],
 "metadata": {
  "kernelspec": {
   "display_name": "Python 3",
   "language": "python",
   "name": "python3"
  },
  "language_info": {
   "codemirror_mode": {
    "name": "ipython",
    "version": 3
   },
   "file_extension": ".py",
   "mimetype": "text/x-python",
   "name": "python",
   "nbconvert_exporter": "python",
   "pygments_lexer": "ipython3",
   "version": "3.6.1"
  }
 },
 "nbformat": 4,
 "nbformat_minor": 2
}
