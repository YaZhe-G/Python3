{
 "cells": [
  {
   "cell_type": "code",
   "execution_count": 5,
   "metadata": {},
   "outputs": [
    {
     "name": "stdout",
     "output_type": "stream",
     "text": [
      "-3\n",
      "-3\n",
      "0\n",
      "-2\n"
     ]
    }
   ],
   "source": [
    "class MinStack(object):\n",
    "\n",
    "    def __init__(self):\n",
    "        \"\"\"\n",
    "        initialize your data structure here.\n",
    "        \"\"\"\n",
    "        self.stack = []\n",
    "        self.min_stack = []\n",
    "\n",
    "    def push(self, x):\n",
    "        \"\"\"\n",
    "        :type x: int\n",
    "        :rtype: void\n",
    "        \"\"\"\n",
    "        self.stack.append(x)\n",
    "        if len(self.min_stack) == 0 or x <= self.min_stack[-1]:\n",
    "            self.min_stack.append(x)\n",
    "\n",
    "    def pop(self):\n",
    "        \"\"\"\n",
    "        :rtype: void\n",
    "        \"\"\"\n",
    "        if self.stack[-1] == self.min_stack[-1]:\n",
    "            self.min_stack.pop()\n",
    "        return self.stack.pop()\n",
    "\n",
    "    def top(self):\n",
    "        \"\"\"\n",
    "        :rtype: int\n",
    "        \"\"\"\n",
    "        return self.stack[-1]\n",
    "\n",
    "    def getMin(self):\n",
    "        \"\"\"\n",
    "        :rtype: int\n",
    "        \"\"\"\n",
    "        return self.min_stack[-1]\n",
    "    \n",
    "if __name__ == \"__main__\":\n",
    "    my_stack = MinStack()\n",
    "    my_stack.push(-2)\n",
    "    my_stack.push(0)\n",
    "    my_stack.push(-3)\n",
    "    print(my_stack.getMin())\n",
    "    print(my_stack.pop())\n",
    "    print(my_stack.top())\n",
    "    print(my_stack.getMin())"
   ]
  },
  {
   "cell_type": "code",
   "execution_count": null,
   "metadata": {
    "collapsed": true
   },
   "outputs": [],
   "source": []
  }
 ],
 "metadata": {
  "kernelspec": {
   "display_name": "Python 3",
   "language": "python",
   "name": "python3"
  },
  "language_info": {
   "codemirror_mode": {
    "name": "ipython",
    "version": 3
   },
   "file_extension": ".py",
   "mimetype": "text/x-python",
   "name": "python",
   "nbconvert_exporter": "python",
   "pygments_lexer": "ipython3",
   "version": "3.6.1"
  }
 },
 "nbformat": 4,
 "nbformat_minor": 2
}
