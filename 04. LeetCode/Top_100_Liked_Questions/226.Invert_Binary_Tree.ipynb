{
 "cells": [
  {
   "cell_type": "code",
   "execution_count": 17,
   "metadata": {},
   "outputs": [
    {
     "name": "stdout",
     "output_type": "stream",
     "text": [
      "1\n",
      "3\n"
     ]
    }
   ],
   "source": [
    "class TreeNode(object):\n",
    "    def __init__(self, x):\n",
    "        self.val = x\n",
    "        self.left = None\n",
    "        self.right = None\n",
    "\n",
    "class Solution(object):\n",
    "    def invertTree(self, root): #递归\n",
    "        \"\"\"\n",
    "        :type root: TreeNode\n",
    "        :rtype: TreeNode\n",
    "        \"\"\"\n",
    "        if root == None:\n",
    "            return None\n",
    "        else:\n",
    "            root.left,root.right = root.right,root.left\n",
    "            self.invertTree(root.left)\n",
    "            self.invertTree(root.right)\n",
    "            return root\n",
    "    \n",
    "    def invertTree2(self,root): #非递归:压栈和出栈实现(深度优先搜索)\n",
    "        stack = [root]\n",
    "        while len(stack) > 0:\n",
    "            node = stack.pop()\n",
    "            if node == None:\n",
    "                continue\n",
    "            node.left,node.right = node.right,node.left\n",
    "            if node.left != None:\n",
    "                stack.append(node.left)\n",
    "            if node.right != None:\n",
    "                stack.append(node.right)\n",
    "        return root\n",
    "    \n",
    "    def invertTree3(self,root): #广度优先搜搜\n",
    "        stack = [root]\n",
    "        crs = 0\n",
    "        while crs < len(stack):\n",
    "            node = stack[crs]\n",
    "            if node != None:\n",
    "                node.left,node.right = node.right,node.left\n",
    "                stack.append(node.left)\n",
    "                stack.append(node.right)\n",
    "            crs += 1\n",
    "        return root\n",
    "        \n",
    "if __name__ == \"__main__\":\n",
    "    test,test.left,test.right = TreeNode(1),TreeNode(2),TreeNode(3)\n",
    "    invert = Solution().invertTree3(test)\n",
    "    while invert != None:\n",
    "        print(invert.val)\n",
    "        invert = invert.left"
   ]
  },
  {
   "cell_type": "code",
   "execution_count": null,
   "metadata": {
    "collapsed": true
   },
   "outputs": [],
   "source": []
  }
 ],
 "metadata": {
  "kernelspec": {
   "display_name": "Python 3",
   "language": "python",
   "name": "python3"
  },
  "language_info": {
   "codemirror_mode": {
    "name": "ipython",
    "version": 3
   },
   "file_extension": ".py",
   "mimetype": "text/x-python",
   "name": "python",
   "nbconvert_exporter": "python",
   "pygments_lexer": "ipython3",
   "version": "3.6.1"
  }
 },
 "nbformat": 4,
 "nbformat_minor": 2
}
