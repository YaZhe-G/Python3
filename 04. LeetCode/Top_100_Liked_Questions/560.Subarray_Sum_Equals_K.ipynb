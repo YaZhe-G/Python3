{
 "cells": [
  {
   "cell_type": "code",
   "execution_count": 32,
   "metadata": {},
   "outputs": [
    {
     "name": "stdout",
     "output_type": "stream",
     "text": [
      "55\n",
      "55\n"
     ]
    }
   ],
   "source": [
    "import collections\n",
    "class Solution(object):\n",
    "    def subarraySum(self, nums, k): #暴力解法，超时\n",
    "        \"\"\"\n",
    "        :type nums: List[int]\n",
    "        :type k: int\n",
    "        :rtype: int\n",
    "        \"\"\"\n",
    "        tmp_sum = 0; count = 0\n",
    "        for i in range(len(nums)):\n",
    "            for j in range(i,len(nums)):\n",
    "                tmp_sum += nums[j]\n",
    "                if tmp_sum == k:\n",
    "                    count += 1\n",
    "            tmp_sum = 0\n",
    "        return count\n",
    "    def subarraySum2(self,nums,k):\n",
    "        dic={}\n",
    "        dic[0]=1\n",
    "        ans=0\n",
    "        s=0\n",
    "        for num in nums:\n",
    "            s+=num\n",
    "            if s-k in dic:\n",
    "                ans+=dic[s-k]\n",
    "            if s not in dic:\n",
    "                dic[s]=1\n",
    "            else:\n",
    "                dic[s]+=1\n",
    "\n",
    "            #print dic\n",
    "        return ans\n",
    "    \n",
    "if __name__ == \"__main__\":\n",
    "    nums = [0,0,0,0,0,0,0,0,0,0]; k = 0\n",
    "    print(Solution().subarraySum(nums,k))\n",
    "    print(Solution().subarraySum2(nums,k))"
   ]
  },
  {
   "cell_type": "markdown",
   "metadata": {},
   "source": [
    "#### 算法思路\n",
    "1. 暴力破解，循环每一个子数组\n",
    "2. P(i,j)：表示下标为i到下标为j的数组\n",
    "    * k = P(i,j) = sum(0,j) - sum(0,i)\n",
    "    * sum(0,i) = sum(0,j) - k\n",
    "    * 有多少个sum(0,i)，就有多少个k"
   ]
  },
  {
   "cell_type": "code",
   "execution_count": null,
   "metadata": {
    "collapsed": true
   },
   "outputs": [],
   "source": []
  }
 ],
 "metadata": {
  "kernelspec": {
   "display_name": "Python 3",
   "language": "python",
   "name": "python3"
  },
  "language_info": {
   "codemirror_mode": {
    "name": "ipython",
    "version": 3
   },
   "file_extension": ".py",
   "mimetype": "text/x-python",
   "name": "python",
   "nbconvert_exporter": "python",
   "pygments_lexer": "ipython3",
   "version": "3.6.1"
  }
 },
 "nbformat": 4,
 "nbformat_minor": 2
}
