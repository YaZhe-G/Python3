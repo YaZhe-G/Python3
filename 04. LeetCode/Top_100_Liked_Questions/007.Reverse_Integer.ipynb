{
 "cells": [
  {
   "cell_type": "code",
   "execution_count": 2,
   "metadata": {},
   "outputs": [
    {
     "name": "stdout",
     "output_type": "stream",
     "text": [
      "-201865177\n"
     ]
    }
   ],
   "source": [
    "class Solution:\n",
    "    def reverse(self, x):\n",
    "        \"\"\"\n",
    "        :type x: int\n",
    "        :rtype: int\n",
    "        \"\"\"\n",
    "        sign = 1\n",
    "        if x < 0:\n",
    "            sign, x = -1, -x\n",
    "            \n",
    "        reverse = 0\n",
    "        while x > 0:\n",
    "            reverse = x%10 + reverse*10\n",
    "            x = x//10\n",
    "        result = reverse*sign\n",
    "        \n",
    "        if result > (1 << 31)-1 or result < -(1 << 31):\n",
    "            return 0\n",
    "        return result\n",
    "\n",
    "if __name__ == \"__main__\":\n",
    "    print(Solution().reverse(-771568102))"
   ]
  },
  {
   "cell_type": "code",
   "execution_count": null,
   "metadata": {
    "collapsed": true
   },
   "outputs": [],
   "source": []
  }
 ],
 "metadata": {
  "kernelspec": {
   "display_name": "Python 3",
   "language": "python",
   "name": "python3"
  },
  "language_info": {
   "codemirror_mode": {
    "name": "ipython",
    "version": 3
   },
   "file_extension": ".py",
   "mimetype": "text/x-python",
   "name": "python",
   "nbconvert_exporter": "python",
   "pygments_lexer": "ipython3",
   "version": "3.6.1"
  }
 },
 "nbformat": 4,
 "nbformat_minor": 2
}
