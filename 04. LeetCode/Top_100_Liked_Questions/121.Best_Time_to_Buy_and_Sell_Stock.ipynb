{
 "cells": [
  {
   "cell_type": "code",
   "execution_count": 14,
   "metadata": {},
   "outputs": [
    {
     "name": "stdout",
     "output_type": "stream",
     "text": [
      "2\n"
     ]
    }
   ],
   "source": [
    "class Solution:\n",
    "    \"\"\"\n",
    "    :type prices: List[int]\n",
    "    :rtype: int\n",
    "    \"\"\"\n",
    "    def maxProfit(self,prices):\n",
    "        length = len(prices)\n",
    "        if length == 0:\n",
    "            return 0\n",
    "        else:\n",
    "            max_profit, min_price, max_price = 0, prices[0], prices[0]\n",
    "            for i in range(1,length):\n",
    "                if prices[i] < min_price:\n",
    "                    min_price = prices[i]\n",
    "                    max_price = prices[i]\n",
    "                elif prices[i] > max_price:\n",
    "                    max_price = prices[i]\n",
    "                else:\n",
    "                    continue\n",
    "                if max_profit < max_price-min_price:\n",
    "                    max_profit = max_price-min_price\n",
    "        return max_profit\n",
    "    \n",
    "if __name__ == \"__main__\":\n",
    "    prices = [2,4,1]\n",
    "    print(Solution().maxProfit(prices))"
   ]
  },
  {
   "cell_type": "code",
   "execution_count": null,
   "metadata": {
    "collapsed": true
   },
   "outputs": [],
   "source": []
  }
 ],
 "metadata": {
  "kernelspec": {
   "display_name": "Python 3",
   "language": "python",
   "name": "python3"
  },
  "language_info": {
   "codemirror_mode": {
    "name": "ipython",
    "version": 3
   },
   "file_extension": ".py",
   "mimetype": "text/x-python",
   "name": "python",
   "nbconvert_exporter": "python",
   "pygments_lexer": "ipython3",
   "version": "3.6.1"
  }
 },
 "nbformat": 4,
 "nbformat_minor": 2
}
