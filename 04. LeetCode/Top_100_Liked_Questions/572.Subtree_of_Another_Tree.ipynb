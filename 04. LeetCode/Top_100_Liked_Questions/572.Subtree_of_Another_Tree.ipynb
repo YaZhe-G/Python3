{
 "cells": [
  {
   "cell_type": "code",
   "execution_count": 14,
   "metadata": {},
   "outputs": [
    {
     "name": "stdout",
     "output_type": "stream",
     "text": [
      "True\n"
     ]
    }
   ],
   "source": [
    "class TreeNode(object):\n",
    "    def __init__(self, x):\n",
    "        self.val = x\n",
    "        self.left = None\n",
    "        self.right = None\n",
    "\n",
    "class Solution(object):\n",
    "    def isSubTree(self, s, t):\n",
    "        \"\"\"\n",
    "        :type s: TreeNode\n",
    "        :type t: TreeNode\n",
    "        :rtype: bool\n",
    "        \"\"\"\n",
    "        if s == None or t == None:\n",
    "            return s == None and t == None\n",
    "        elif self.isSameTree(s,t):\n",
    "            return True\n",
    "        else:\n",
    "            return self.isSubTree(s.left,t) or self.isSubTree(s.right,t) \n",
    "    def isSameTree(self,p,q):\n",
    "        if p == None or q == None:\n",
    "            return p == None and q == None\n",
    "        elif p.val != q.val:\n",
    "            return False\n",
    "        else:\n",
    "            return self.isSameTree(p.left,q.left) and self.isSameTree(p.right,q.right)\n",
    "\n",
    "        \n",
    "if __name__ == \"__main__\":\n",
    "    p = TreeNode(10); p.left = TreeNode(5); p.right = TreeNode(15)\n",
    "    q = TreeNode(15)\n",
    "    print(Solution().isSubTree(p,q))"
   ]
  },
  {
   "cell_type": "code",
   "execution_count": null,
   "metadata": {
    "collapsed": true
   },
   "outputs": [],
   "source": []
  }
 ],
 "metadata": {
  "kernelspec": {
   "display_name": "Python 3",
   "language": "python",
   "name": "python3"
  },
  "language_info": {
   "codemirror_mode": {
    "name": "ipython",
    "version": 3
   },
   "file_extension": ".py",
   "mimetype": "text/x-python",
   "name": "python",
   "nbconvert_exporter": "python",
   "pygments_lexer": "ipython3",
   "version": "3.6.1"
  }
 },
 "nbformat": 4,
 "nbformat_minor": 2
}
