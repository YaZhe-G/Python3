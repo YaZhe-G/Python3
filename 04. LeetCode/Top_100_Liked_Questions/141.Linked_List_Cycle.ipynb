{
 "cells": [
  {
   "cell_type": "code",
   "execution_count": 14,
   "metadata": {},
   "outputs": [
    {
     "name": "stdout",
     "output_type": "stream",
     "text": [
      "True\n"
     ]
    }
   ],
   "source": [
    "class ListNode:\n",
    "    def __init__(self,x):\n",
    "        self.val = x\n",
    "        self.next = None\n",
    "        \n",
    "class Solution:\n",
    "    def hasCycle(self,head):\n",
    "        if head == None or head.next == None:\n",
    "            return False\n",
    "        else:\n",
    "            #使用两个指针，一个每次走两步，一个每次走一步，如果一段时间之后这两个指针能重合，那么铁定存在环了\n",
    "            p1,p2 = head,head\n",
    "            try:\n",
    "                while p1.next != None and p2.next.next != None: #当p2.next.next不存在时，不是结束循环，而是出错，所以要用try\n",
    "                    p1 = p1.next\n",
    "                    p2  = p2.next.next\n",
    "                    if p1 == p2: #判断两个链表是否相等，不能只看他们的值是否相等，还要看他的next\n",
    "                        return True\n",
    "            except:\n",
    "                return False\n",
    "    \n",
    "if __name__ == \"__main__\":\n",
    "    head,head.next,head.next.next = ListNode(1),ListNode(2),ListNode(3)\n",
    "    head.next.next.next = head\n",
    "    print(Solution().hasCycle(head))"
   ]
  },
  {
   "cell_type": "code",
   "execution_count": null,
   "metadata": {
    "collapsed": true
   },
   "outputs": [],
   "source": []
  }
 ],
 "metadata": {
  "kernelspec": {
   "display_name": "Python 3",
   "language": "python",
   "name": "python3"
  },
  "language_info": {
   "codemirror_mode": {
    "name": "ipython",
    "version": 3
   },
   "file_extension": ".py",
   "mimetype": "text/x-python",
   "name": "python",
   "nbconvert_exporter": "python",
   "pygments_lexer": "ipython3",
   "version": "3.6.1"
  }
 },
 "nbformat": 4,
 "nbformat_minor": 2
}
