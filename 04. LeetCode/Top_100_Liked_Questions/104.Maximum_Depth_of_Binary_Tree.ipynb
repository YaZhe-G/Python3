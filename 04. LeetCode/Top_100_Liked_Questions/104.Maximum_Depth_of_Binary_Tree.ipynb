{
 "cells": [
  {
   "cell_type": "code",
   "execution_count": 13,
   "metadata": {
    "collapsed": true
   },
   "outputs": [],
   "source": [
    "class TreeNode:\n",
    "    def __init__(self,x):\n",
    "        self.val = x\n",
    "        self.left = None\n",
    "        self.right = None\n",
    "\n",
    "class Solution:\n",
    "    def maxDepth_BFS(self,root):\n",
    "        if root == None:\n",
    "            return 0\n",
    "        else:\n",
    "            depth = 0\n",
    "            tree_lst = [root]\n",
    "            while len(tree_lst) != 0: #外层循环控制depth自增\n",
    "                depth += 1\n",
    "                for i in range(len(tree_lst)): #内层循环，把上一层中的所有节点都去除\n",
    "                    if tree_lst[0].left:\n",
    "                        tree_lst.append(tree_lst[0].left)\n",
    "                    if tree_lst[0].right:\n",
    "                        tree_lst.append(tree_lst[0].right)\n",
    "                    tree_lst.pop(0)\n",
    "            return depth\n",
    "    def maxDepth_DFS(self,root):\n",
    "        if root == None:\n",
    "            return 0\n",
    "        else:\n",
    "            return 1 + max(self.maxDepth_DFS(root.left),self.maxDepth_DFS(root.right))"
   ]
  },
  {
   "cell_type": "code",
   "execution_count": 14,
   "metadata": {},
   "outputs": [
    {
     "name": "stdout",
     "output_type": "stream",
     "text": [
      "3\n",
      "3\n"
     ]
    }
   ],
   "source": [
    "if __name__ == \"__main__\":\n",
    "    root = TreeNode(1)\n",
    "    root.left = TreeNode(2)\n",
    "    root.left.left = TreeNode(3)\n",
    "    root.left.right = TreeNode(4)\n",
    "    root.right = TreeNode(2)\n",
    "    root.right.left = TreeNode(4)\n",
    "    root.right.right = TreeNode(3)\n",
    "    print(Solution().maxDepth_BFS(root))\n",
    "    print(Solution().maxDepth_DFS(root))"
   ]
  },
  {
   "cell_type": "code",
   "execution_count": null,
   "metadata": {
    "collapsed": true
   },
   "outputs": [],
   "source": []
  }
 ],
 "metadata": {
  "kernelspec": {
   "display_name": "Python 3",
   "language": "python",
   "name": "python3"
  },
  "language_info": {
   "codemirror_mode": {
    "name": "ipython",
    "version": 3
   },
   "file_extension": ".py",
   "mimetype": "text/x-python",
   "name": "python",
   "nbconvert_exporter": "python",
   "pygments_lexer": "ipython3",
   "version": "3.6.1"
  }
 },
 "nbformat": 4,
 "nbformat_minor": 2
}
