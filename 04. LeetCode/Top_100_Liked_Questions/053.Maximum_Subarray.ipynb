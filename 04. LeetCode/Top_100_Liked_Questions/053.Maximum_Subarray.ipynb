{
 "cells": [
  {
   "cell_type": "markdown",
   "metadata": {},
   "source": [
    "#### 算法思路：在线处理(复杂度O(n))\n",
    "1. 定义当前子列和、最大子列和，初始化为0\n",
    "2. 一个数字一个数字的处理\n",
    "    * 如果当前子列和大于最大子列和，则把当前子列和赋值给最大子列和\n",
    "    * 如果当前子列和为负，则不可能使后面的部分增大，抛弃之。当前子列和归零\n",
    "    * 如果当前子列和大于等于0，且小于最大子列和，则不改动，继续循环\n",
    "3. 考虑数组长度为1和数组全是负数的情况"
   ]
  },
  {
   "cell_type": "code",
   "execution_count": 3,
   "metadata": {},
   "outputs": [
    {
     "name": "stdout",
     "output_type": "stream",
     "text": [
      "请输入您想计算的数组：(以空格隔开)-2 1 -3 4 -1 2 1 -5 4\n",
      "6 [4, -1, 2, 1]\n"
     ]
    }
   ],
   "source": [
    "import copy\n",
    "class Solution:\n",
    "    def maxSubArray(self, nums):\n",
    "        \"\"\"\n",
    "        :type nums: List[int]\n",
    "        :rtype: int\n",
    "        \"\"\"\n",
    "        if len(nums) == 1:\n",
    "            return nums[0],[nums[0]]\n",
    "        else:\n",
    "            maxSum,thisSum = 0,0\n",
    "            thisArray,maxArray = [],[]\n",
    "            for i in range(len(nums)):\n",
    "                thisSum += nums[i]\n",
    "                thisArray.append(nums[i])\n",
    "                if thisSum > maxSum:\n",
    "                    maxSum = thisSum\n",
    "                    maxArray = copy.deepcopy(thisArray)#要用深拷贝，不然maxArray会随着thisArray的变化而变化\n",
    "                elif thisSum < 0:\n",
    "                    thisSum = 0\n",
    "                    thisArray = []\n",
    "                else:\n",
    "                    continue\n",
    "            if maxSum == 0: #如果数组里全是负数和0的话，是另外一种做法\n",
    "                return max(nums),[max(nums)]\n",
    "            else:\n",
    "                return maxSum,maxArray\n",
    "\n",
    "if __name__ == \"__main__\":\n",
    "    nums_str = input(\"请输入您想计算的数组：(以空格隔开)\")\n",
    "    nums_str_lst = nums_str.strip().split()\n",
    "    nums = [int(i) for i in nums_str_lst]\n",
    "    maxSum,maxArray = Solution().maxSubArray(nums)\n",
    "    print(maxSum,maxArray)"
   ]
  },
  {
   "cell_type": "code",
   "execution_count": 4,
   "metadata": {},
   "outputs": [
    {
     "name": "stdout",
     "output_type": "stream",
     "text": [
      "[1, 2, 3, 4, 89]\n",
      "[1, 2, 3, 4, 89]\n",
      "[1, 2, 3, 4]\n"
     ]
    }
   ],
   "source": [
    "#注意浅拷贝和深拷贝的区别！\n",
    "import copy\n",
    "lst1 = [1,2,3,4]\n",
    "lst2 = lst1  #浅拷贝:两个指针指向同一个地址\n",
    "lst3 = copy.deepcopy(lst1)  #深拷贝:两个指针指向不同的地址，存的内容一样\n",
    "lst1.append(89)\n",
    "print(lst1)\n",
    "print(lst2)\n",
    "print(lst3)"
   ]
  },
  {
   "cell_type": "code",
   "execution_count": null,
   "metadata": {
    "collapsed": true
   },
   "outputs": [],
   "source": []
  }
 ],
 "metadata": {
  "kernelspec": {
   "display_name": "Python 3",
   "language": "python",
   "name": "python3"
  },
  "language_info": {
   "codemirror_mode": {
    "name": "ipython",
    "version": 3
   },
   "file_extension": ".py",
   "mimetype": "text/x-python",
   "name": "python",
   "nbconvert_exporter": "python",
   "pygments_lexer": "ipython3",
   "version": "3.6.1"
  }
 },
 "nbformat": 4,
 "nbformat_minor": 2
}
