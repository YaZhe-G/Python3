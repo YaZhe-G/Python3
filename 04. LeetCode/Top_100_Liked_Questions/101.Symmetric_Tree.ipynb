{
 "cells": [
  {
   "cell_type": "code",
   "execution_count": 1,
   "metadata": {},
   "outputs": [
    {
     "name": "stdout",
     "output_type": "stream",
     "text": [
      "使用递归解法的结果是： True\n",
      "使用深度优先搜索的结果是： True\n",
      "使用广度优先搜索的结果是： True\n"
     ]
    }
   ],
   "source": [
    "class TreeNode:\n",
    "    def __init__(self,x):\n",
    "        self.val = x\n",
    "        self.left = None\n",
    "        self.right = None\n",
    "\n",
    "class Solution:\n",
    "    def isSymmetric(self,root):\n",
    "        \"\"\"\n",
    "        :type root : TreeNode\n",
    "        :rtype : bool\n",
    "        \"\"\"\n",
    "        if root == None:#在使用变量的时候，一定要考虑所用的变量如果不存在的情况\n",
    "            return True\n",
    "        else:\n",
    "            return self.mirror(root.left,root.right)\n",
    "    \n",
    "    def mirror(self,left,right):\n",
    "        if left == None and right == None:#在使用变量的时候，一定要考虑所用的变量如果不存在的情况\n",
    "            return True\n",
    "        elif left and right and left.val == right.val:\n",
    "            return self.mirror(left.left,right.right) and self.mirror(left.right,right.left)\n",
    "        else:\n",
    "            return False\n",
    "        \n",
    "    def DFS(self,root):\n",
    "        if root == None:\n",
    "            return True\n",
    "        else:\n",
    "            stackl, stackr = [root.left], [root.right]\n",
    "            while len(stackl) > 0 and len(stackr) > 0:\n",
    "                left = stackl.pop()\n",
    "                right = stackr.pop()\n",
    "                if left == None and right == None:#在使用变量的时候，一定要考虑所用的变量如果不存在的情况\n",
    "                    continue\n",
    "                elif left == None or right == None:\n",
    "                    return False\n",
    "                elif left.val == right.val:\n",
    "                    stackl.append(left.left)\n",
    "                    stackl.append(left.right)\n",
    "                    stackr.append(right.right)\n",
    "                    stackr.append(right.left)\n",
    "                else:\n",
    "                    return False\n",
    "            return True\n",
    "    \n",
    "    def BFS(self,root):\n",
    "        if root == None:\n",
    "            return True\n",
    "        queuel, queuer = [root.left], [root.right]\n",
    "        while len(queuel) > 0 and len(queuer) > 0:\n",
    "            left = queuel.pop()\n",
    "            right = queuer.pop()\n",
    "            if left == None and right == None:#在使用变量的时候，一定要考虑所用的变量如果不存在的情况\n",
    "                continue\n",
    "            elif left == None or right == None:\n",
    "                return False\n",
    "            elif left.val == right.val:\n",
    "                queuel.insert(0,left.left)\n",
    "                queuel.insert(0,left.right)\n",
    "                queuer.insert(0,right.right)\n",
    "                queuer.insert(0,right.left)\n",
    "            else:\n",
    "                return False\n",
    "        return True\n",
    "        \n",
    "if __name__ == \"__main__\":\n",
    "    root = TreeNode(1)\n",
    "    root.left = TreeNode(2)\n",
    "    root.left.left = TreeNode(3)\n",
    "    root.left.right = TreeNode(4)\n",
    "    root.right = TreeNode(2)\n",
    "    root.right.left = TreeNode(4)\n",
    "    root.right.right = TreeNode(3)\n",
    "    print(\"使用递归解法的结果是：\",Solution().isSymmetric(root))\n",
    "    print(\"使用深度优先搜索的结果是：\",Solution().DFS(root))\n",
    "    print(\"使用广度优先搜索的结果是：\",Solution().BFS(root))"
   ]
  },
  {
   "cell_type": "markdown",
   "metadata": {},
   "source": [
    "#### 算法思想：\n",
    "1. 递归解法(深度优先搜索)：\n",
    "    * 停止条件是：left == None and right == None\n",
    "    * 递归条件是：left.val == right.val 比较(left.left,right.right) 和 (left.right,right.left)\n",
    "2. 迭代解法：\n",
    "    * 深度优先搜索(DFS)\n",
    "        * stackl = [2]->[3,4]->[3,7,8]->[3,7]->[3]->[5,6]->[5]->[]\n",
    "        * stackr = [2]->[3,4]->[3,7,8]->[3,7]->[3]->[5,6]->[5]->[]\n",
    "    * 广度优先搜索(BFS)\n",
    "        * stackl = [2]->[4,3]->[6,5,4]->[8,7,6,5]->[8,7,6]->[8,7]->[8]->[]\n",
    "        * stackr = [2]->[4,3]->[6,5,4]->[8,7,6,5]->[8,7,6]->[8,7]->[8]->[]\n",
    "3. 总结：\n",
    "    * 在使用变量的属性时，不管什么时候，都要考虑变量是None的情况。特别是在使用递归或迭代(循环)的函数中"
   ]
  },
  {
   "cell_type": "code",
   "execution_count": 2,
   "metadata": {},
   "outputs": [
    {
     "data": {
      "text/plain": [
       "['a', 'b', None]"
      ]
     },
     "execution_count": 2,
     "metadata": {},
     "output_type": "execute_result"
    }
   ],
   "source": [
    "#注意：python中的列表可以把None当做元素\n",
    "lst = ['a','b']\n",
    "lst.append(None)\n",
    "lst"
   ]
  },
  {
   "cell_type": "code",
   "execution_count": null,
   "metadata": {
    "collapsed": true
   },
   "outputs": [],
   "source": []
  }
 ],
 "metadata": {
  "kernelspec": {
   "display_name": "Python 3",
   "language": "python",
   "name": "python3"
  },
  "language_info": {
   "codemirror_mode": {
    "name": "ipython",
    "version": 3
   },
   "file_extension": ".py",
   "mimetype": "text/x-python",
   "name": "python",
   "nbconvert_exporter": "python",
   "pygments_lexer": "ipython3",
   "version": "3.6.1"
  }
 },
 "nbformat": 4,
 "nbformat_minor": 2
}
