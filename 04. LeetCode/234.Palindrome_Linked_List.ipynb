{
 "cells": [
  {
   "cell_type": "code",
   "execution_count": 8,
   "metadata": {},
   "outputs": [
    {
     "name": "stdout",
     "output_type": "stream",
     "text": [
      "True\n"
     ]
    }
   ],
   "source": [
    "class ListNode(object):\n",
    "    def __init__(self,x):\n",
    "        self.val = x\n",
    "        self.next = None\n",
    "        \n",
    "class Solution(object):\n",
    "    def isPalindrome(self,head):\n",
    "        #1.find the mid node （快慢指针法）\n",
    "        fast = slow = head\n",
    "        while fast and fast.next:\n",
    "            fast = fast.next.next\n",
    "            slow = slow.next\n",
    "        #2.reverse the second half  （三指针法）\n",
    "        rvs = None\n",
    "        while slow:\n",
    "            nxt = slow.next\n",
    "            slow.next = rvs\n",
    "            rvs = slow\n",
    "            slow = nxt\n",
    "        #3.compare the first and second half nodes \n",
    "        while rvs:\n",
    "            if rvs.val == head.val:\n",
    "                rvs = rvs.next\n",
    "                head = head.next\n",
    "            else:\n",
    "                return False\n",
    "        return True\n",
    "    \n",
    "if __name__ == \"__main__\":\n",
    "    test,test.next,test.next.next = ListNode(1),ListNode(2),ListNode(1)\n",
    "    print(Solution().isPalindrome(test))"
   ]
  },
  {
   "cell_type": "code",
   "execution_count": null,
   "metadata": {
    "collapsed": true
   },
   "outputs": [],
   "source": []
  }
 ],
 "metadata": {
  "kernelspec": {
   "display_name": "Python 3",
   "language": "python",
   "name": "python3"
  },
  "language_info": {
   "codemirror_mode": {
    "name": "ipython",
    "version": 3
   },
   "file_extension": ".py",
   "mimetype": "text/x-python",
   "name": "python",
   "nbconvert_exporter": "python",
   "pygments_lexer": "ipython3",
   "version": "3.6.1"
  }
 },
 "nbformat": 4,
 "nbformat_minor": 2
}
