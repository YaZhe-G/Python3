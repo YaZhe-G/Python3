{
 "cells": [
  {
   "cell_type": "code",
   "execution_count": 53,
   "metadata": {},
   "outputs": [
    {
     "name": "stdout",
     "output_type": "stream",
     "text": [
      "[0, 2, 4, 6]\n",
      "[0, 2, 4, 6]\n"
     ]
    }
   ],
   "source": [
    "class Solution(object):\n",
    "    def findAnagrams(self, s, p):  #超时！\n",
    "        \"\"\"\n",
    "        :type s: str\n",
    "        :type p: str\n",
    "        :rtype: List[int]\n",
    "        \"\"\"\n",
    "        result = []\n",
    "        stack = [p[i] for i in range(len(p))]\n",
    "        for i in range(len(s)):\n",
    "            for j in range(i,i+len(p)):\n",
    "                if j > len(s)-1:\n",
    "                    break\n",
    "                if s[j] in stack:\n",
    "                    stack.remove(s[j])\n",
    "                else:\n",
    "                    break\n",
    "            if stack == []:\n",
    "                result.append(i)\n",
    "                stack = [p[i] for i in range(len(p))]\n",
    "            else:\n",
    "                stack = [p[i] for i in range(len(p))]\n",
    "        return result\n",
    "    \n",
    "    def findAnagrams2(self,s,p): #滑动窗口\n",
    "        ps = [0] * 26; pp = [0] * 26 #用26位数组存储各个字母出现的次数\n",
    "        for alp in p:\n",
    "            pp[ord(alp)-97] += 1\n",
    "        ns = len(s); np = len(p)\n",
    "        for alp in s[:np]:\n",
    "            ps[ord(alp)-97] += 1\n",
    "            \n",
    "        result = []\n",
    "        for i in range(ns-np+1):\n",
    "            if ps == pp:\n",
    "                result.append(i)\n",
    "            ps[ord(s[i])-97] -= 1\n",
    "            if i+np < ns:\n",
    "                ps[ord(s[i+np])-97] += 1\n",
    "        return result\n",
    "        \n",
    "        \n",
    "if __name__ == \"__main__\":\n",
    "    s = \"ababababab\"\n",
    "    p = \"aab\"\n",
    "    print(Solution().findAnagrams(s,p))\n",
    "    print(Solution().findAnagrams2(s,p))"
   ]
  },
  {
   "cell_type": "code",
   "execution_count": 48,
   "metadata": {},
   "outputs": [
    {
     "data": {
      "text/plain": [
       "97"
      ]
     },
     "execution_count": 48,
     "metadata": {},
     "output_type": "execute_result"
    }
   ],
   "source": [
    "ord('a')"
   ]
  },
  {
   "cell_type": "code",
   "execution_count": 49,
   "metadata": {},
   "outputs": [
    {
     "data": {
      "text/plain": [
       "int"
      ]
     },
     "execution_count": 49,
     "metadata": {},
     "output_type": "execute_result"
    }
   ],
   "source": [
    "type(ord('z'))"
   ]
  },
  {
   "cell_type": "code",
   "execution_count": 50,
   "metadata": {},
   "outputs": [
    {
     "data": {
      "text/plain": [
       "[0, 0, 0, 0, 0, 0, 0, 0, 0, 0, 0, 0, 0, 0, 0, 0, 0, 0, 0, 0, 0, 0, 0, 0, 0, 0]"
      ]
     },
     "execution_count": 50,
     "metadata": {},
     "output_type": "execute_result"
    }
   ],
   "source": [
    "pv = [0] * 26\n",
    "pv"
   ]
  },
  {
   "cell_type": "markdown",
   "metadata": {},
   "source": [
    "#### 总结：\n",
    "1. 如果用字典来存储各个字母出现的次数，在比较字典和窗口是否相等时会出现各种问题：比如字典是无序的，访问不存在的键会出错等\n",
    "2. 下次碰到需要对字母计数的问题，可以用26位的数组来存储数量，对应的位置表示不同的字母\n",
    "3. 使用滑动窗体来比较，可以提高算法性能"
   ]
  },
  {
   "cell_type": "code",
   "execution_count": null,
   "metadata": {
    "collapsed": true
   },
   "outputs": [],
   "source": []
  }
 ],
 "metadata": {
  "kernelspec": {
   "display_name": "Python 3",
   "language": "python",
   "name": "python3"
  },
  "language_info": {
   "codemirror_mode": {
    "name": "ipython",
    "version": 3
   },
   "file_extension": ".py",
   "mimetype": "text/x-python",
   "name": "python",
   "nbconvert_exporter": "python",
   "pygments_lexer": "ipython3",
   "version": "3.6.1"
  }
 },
 "nbformat": 4,
 "nbformat_minor": 2
}
