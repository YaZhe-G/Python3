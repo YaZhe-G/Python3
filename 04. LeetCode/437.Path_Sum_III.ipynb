{
 "cells": [
  {
   "cell_type": "code",
   "execution_count": 12,
   "metadata": {},
   "outputs": [
    {
     "name": "stdout",
     "output_type": "stream",
     "text": [
      "1\n"
     ]
    }
   ],
   "source": [
    "class TreeNode(object):\n",
    "    def __init__(self, x):\n",
    "        self.val = x\n",
    "        self.left = None\n",
    "        self.right = None\n",
    "\n",
    "class Solution(object):\n",
    "    count = 0\n",
    "    def test(self,node,target):#求以node节点开始的所有路径中，满足条件的路径个数\n",
    "        if node == None:\n",
    "            return 0\n",
    "        else:\n",
    "            if node.val == target:\n",
    "                self.count += 1\n",
    "            self.test(node.left,target-node.val)\n",
    "            self.test(node.right,target-node.val)\n",
    "            \n",
    "    def pathSum(self, root, target):#递归root及root以下所有的节点\n",
    "        \"\"\"\n",
    "        :type root: TreeNode\n",
    "        :type sum: int\n",
    "        :rtype: int\n",
    "        \"\"\"\n",
    "        if root == None:\n",
    "            return 0\n",
    "        else:\n",
    "            self.test(root,target)\n",
    "            self.pathSum(root.left,target)\n",
    "            self.pathSum(root.right,target)\n",
    "            return self.count\n",
    "\n",
    "\n",
    "if __name__ == \"__main__\":\n",
    "    test,test.left,test.right = TreeNode(1),TreeNode(3),TreeNode(2)\n",
    "    print(Solution().pathSum(test,4))"
   ]
  },
  {
   "cell_type": "code",
   "execution_count": null,
   "metadata": {
    "collapsed": true
   },
   "outputs": [],
   "source": []
  }
 ],
 "metadata": {
  "kernelspec": {
   "display_name": "Python 3",
   "language": "python",
   "name": "python3"
  },
  "language_info": {
   "codemirror_mode": {
    "name": "ipython",
    "version": 3
   },
   "file_extension": ".py",
   "mimetype": "text/x-python",
   "name": "python",
   "nbconvert_exporter": "python",
   "pygments_lexer": "ipython3",
   "version": "3.6.1"
  }
 },
 "nbformat": 4,
 "nbformat_minor": 2
}
