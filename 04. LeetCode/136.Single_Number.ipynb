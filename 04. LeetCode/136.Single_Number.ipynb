{
 "cells": [
  {
   "cell_type": "code",
   "execution_count": 42,
   "metadata": {},
   "outputs": [
    {
     "name": "stdout",
     "output_type": "stream",
     "text": [
      "1\n",
      "1\n",
      "1\n"
     ]
    }
   ],
   "source": [
    "class Solution:\n",
    "    def singleNumber(self, nums):\n",
    "        \"\"\"\n",
    "        :type nums: List[int]\n",
    "        :rtype: int\n",
    "        \"\"\"\n",
    "        if len(nums) == 0:\n",
    "            return None\n",
    "        else:\n",
    "            hash_nums = []\n",
    "            for i in range(len(nums)):\n",
    "                if nums[i] not in hash_nums: #用列表搜索元素是否在里面最慢\n",
    "                    hash_nums.append(nums[i])\n",
    "                else:\n",
    "                    hash_nums.remove(nums[i])\n",
    "            if hash_nums:\n",
    "                return hash_nums[0]\n",
    "            else:\n",
    "                return None\n",
    "            \n",
    "            \n",
    "    def singleNumber_hash(self, nums):\n",
    "        \"\"\"\n",
    "        :type nums: List[int]\n",
    "        :rtype: int\n",
    "        \"\"\"\n",
    "        if len(nums) == 0:\n",
    "            return None\n",
    "        else:\n",
    "            hash_nums = {}\n",
    "            for i in range(len(nums)):\n",
    "                if nums[i] not in hash_nums: #用字典搜索元素是否在里面快一点\n",
    "                    hash_nums[nums[i]] = i\n",
    "                else:\n",
    "                    hash_nums.pop(nums[i])\n",
    "            if hash_nums:\n",
    "                for key in hash_nums:\n",
    "                    return key\n",
    "            else:\n",
    "                return None\n",
    "            \n",
    "    def fastestSolution(self,nums):\n",
    "        if len(nums) == 0:\n",
    "            return None\n",
    "        else:\n",
    "            result = 0\n",
    "            for num in nums:\n",
    "                result ^= num  #按位异或^：1+1=0;0+0=0;1+0=1\n",
    "            return result\n",
    "\n",
    "            \n",
    "            \n",
    "if __name__ == \"__main__\":\n",
    "    nums = [1]\n",
    "    print(Solution().singleNumber(nums))\n",
    "    print(Solution().singleNumber_hash(nums))\n",
    "    print(Solution().fastestSolution(nums))"
   ]
  },
  {
   "cell_type": "code",
   "execution_count": null,
   "metadata": {
    "collapsed": true
   },
   "outputs": [],
   "source": []
  }
 ],
 "metadata": {
  "kernelspec": {
   "display_name": "Python 3",
   "language": "python",
   "name": "python3"
  },
  "language_info": {
   "codemirror_mode": {
    "name": "ipython",
    "version": 3
   },
   "file_extension": ".py",
   "mimetype": "text/x-python",
   "name": "python",
   "nbconvert_exporter": "python",
   "pygments_lexer": "ipython3",
   "version": "3.6.1"
  }
 },
 "nbformat": 4,
 "nbformat_minor": 2
}
