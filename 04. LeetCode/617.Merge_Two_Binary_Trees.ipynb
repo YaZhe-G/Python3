{
 "cells": [
  {
   "cell_type": "code",
   "execution_count": 17,
   "metadata": {},
   "outputs": [
    {
     "name": "stdout",
     "output_type": "stream",
     "text": [
      "[5, 7, 9]\n"
     ]
    }
   ],
   "source": [
    "class TreeNode(object):\n",
    "    def __init__(self, x):\n",
    "        self.val = x\n",
    "        self.left = None\n",
    "        self.right = None\n",
    "\n",
    "class Solution(object):\n",
    "    lst = []\n",
    "    def mergeTrees(self, t1, t2):\n",
    "        \"\"\"\n",
    "        :type t1: TreeNode\n",
    "        :type t2: TreeNode\n",
    "        :rtype: TreeNode\n",
    "        \"\"\"\n",
    "        if t1 == None and t2 == None:\n",
    "            return None\n",
    "        elif t1 == None:\n",
    "            return t2\n",
    "        elif t2 == None:\n",
    "            return t1\n",
    "        else:\n",
    "            t1.val += t2.val\n",
    "            t1.left = self.mergeTrees(t1.left,t2.left)\n",
    "            t1.right = self.mergeTrees(t1.right,t2.right)\n",
    "        return t1\n",
    "    \n",
    "    def mergeTrees2(self,t1,t2):\n",
    "        if t1 is not None and t2 is not None:\n",
    "            t1.left = self.mergeTrees(t1.left, t2.left)\n",
    "            t1.right = self.mergeTrees(t1.right, t2.right)\n",
    "            t1.val += t2.val\n",
    "            return t1\n",
    "        return t1 if t2 is None else t2\n",
    "\n",
    "    def printTree(self,t):\n",
    "        if t == None:\n",
    "            return None\n",
    "        else:\n",
    "            if t:\n",
    "                self.lst.append(t.val)\n",
    "            if t.left:\n",
    "                self.printTree(t.left)\n",
    "            if t.right:\n",
    "                self.printTree(t.right)\n",
    "            return self.lst\n",
    "            \n",
    "if __name__ == \"__main__\":\n",
    "    t1,t1.left,t1.right = TreeNode(1),TreeNode(2),TreeNode(3)\n",
    "    t2,t2.left,t2.right = TreeNode(4),TreeNode(5),TreeNode(6)\n",
    "    t3 = Solution().mergeTrees(t1,t2)\n",
    "    print(Solution().printTree(t3))"
   ]
  },
  {
   "cell_type": "code",
   "execution_count": null,
   "metadata": {
    "collapsed": true
   },
   "outputs": [],
   "source": []
  }
 ],
 "metadata": {
  "kernelspec": {
   "display_name": "Python 3",
   "language": "python",
   "name": "python3"
  },
  "language_info": {
   "codemirror_mode": {
    "name": "ipython",
    "version": 3
   },
   "file_extension": ".py",
   "mimetype": "text/x-python",
   "name": "python",
   "nbconvert_exporter": "python",
   "pygments_lexer": "ipython3",
   "version": "3.6.1"
  }
 },
 "nbformat": 4,
 "nbformat_minor": 2
}
