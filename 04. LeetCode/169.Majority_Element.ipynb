{
 "cells": [
  {
   "cell_type": "code",
   "execution_count": 22,
   "metadata": {},
   "outputs": [
    {
     "name": "stdout",
     "output_type": "stream",
     "text": [
      "3\n",
      "time1:0.00028509192634373903\n",
      "3\n",
      "time2:4.3522100895643234e-05\n",
      "3\n",
      "3\n"
     ]
    }
   ],
   "source": [
    "import time\n",
    "import random\n",
    "\n",
    "class Solution(object):\n",
    "    def majorityElement(self, nums):\n",
    "        \"\"\"\n",
    "        :type nums: List[int]\n",
    "        :rtype: int\n",
    "        \"\"\"\n",
    "        hash_map = {}\n",
    "        for num in nums:\n",
    "            if num not in hash_map:\n",
    "                hash_map[num] = 1\n",
    "            else:\n",
    "                hash_map[num] += 1\n",
    "        count = 0\n",
    "        majority = 0\n",
    "        for num in hash_map:\n",
    "            if hash_map[num] > count:\n",
    "                count = hash_map[num]\n",
    "                majority = num\n",
    "        return majority\n",
    "    \n",
    "    def majorityElement2(self,nums):\n",
    "        self.quick_sort(nums,0,len(nums))\n",
    "        index = len(nums) // 2\n",
    "        return nums[index]\n",
    "    def quick_sort(self,nums,lo,hi):\n",
    "        if lo < hi:\n",
    "            p = self.partition(nums,lo,hi)\n",
    "            self.quick_sort(nums,lo,p)\n",
    "            self.quick_sort(nums,p+1,hi)\n",
    "        return\n",
    "    def partition(self,nums,lo,hi):\n",
    "        i = lo - 1\n",
    "        pivot = nums[hi-1]\n",
    "        for j in range(lo,hi):\n",
    "            if nums[j] < pivot:\n",
    "                i += 1\n",
    "                nums[i],nums[j] = nums[j],nums[i]\n",
    "        nums[i+1],nums[hi-1] = nums[hi-1],nums[i+1]\n",
    "        return i+1\n",
    "    \n",
    "    def majorityElement3(self,nums):\n",
    "        while True:\n",
    "            r = random.choice(nums)\n",
    "            if nums.count(r) > len(nums)//2:\n",
    "                return r\n",
    "    \n",
    "    def majorityElement4(self,nums):\n",
    "        nums.sort()\n",
    "        return nums[len(nums)//2]\n",
    "        \n",
    "\n",
    "if __name__ == \"__main__\":\n",
    "    nums = [3,2,3]\n",
    "    start1 = time.perf_counter()\n",
    "    print(Solution().majorityElement(nums))\n",
    "    print(\"time1:{}\".format(time.perf_counter()-start1))\n",
    "    start2 = time.perf_counter()\n",
    "    print(Solution().majorityElement2(nums))\n",
    "    print(\"time2:{}\".format(time.perf_counter()-start2))\n",
    "    print(Solution().majorityElement3(nums))\n",
    "    print(Solution().majorityElement4(nums))"
   ]
  },
  {
   "cell_type": "code",
   "execution_count": null,
   "metadata": {
    "collapsed": true
   },
   "outputs": [],
   "source": []
  }
 ],
 "metadata": {
  "kernelspec": {
   "display_name": "Python 3",
   "language": "python",
   "name": "python3"
  },
  "language_info": {
   "codemirror_mode": {
    "name": "ipython",
    "version": 3
   },
   "file_extension": ".py",
   "mimetype": "text/x-python",
   "name": "python",
   "nbconvert_exporter": "python",
   "pygments_lexer": "ipython3",
   "version": "3.6.1"
  }
 },
 "nbformat": 4,
 "nbformat_minor": 2
}
