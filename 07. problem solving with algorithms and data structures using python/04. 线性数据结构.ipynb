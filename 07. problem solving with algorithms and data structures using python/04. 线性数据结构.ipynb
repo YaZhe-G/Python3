{
 "cells": [
  {
   "cell_type": "markdown",
   "metadata": {},
   "source": [
    "# 线性结构：\n",
    "    定义：当添加一个项目时，它就被放在这样一个位置：在之前存在的项与后来要加入的项之间。这样的数据集合被称为线性数据结构\n",
    "    eg：栈、队列、双端队列、列表\n",
    "## 栈：\n",
    "    定义：一系列元素的有序集合，添加项和移除项都发生在同一'端'，这一端通常被称为'顶'，另一端被称为'底'。\n",
    "    排序原则：LIFO(后进先出)\n",
    "## 队列：\n",
    "    定义：一系列元素的有序集合，新元素的加入在队列的一端，这一端叫做'队尾(rear)'，已有元素的移除发生在队列的另一端，叫做'队首(front)'。\n",
    "    排序原则：FIFO(先进先出)"
   ]
  },
  {
   "cell_type": "code",
   "execution_count": 1,
   "metadata": {},
   "outputs": [
    {
     "name": "stdout",
     "output_type": "stream",
     "text": [
      "3\n",
      "False\n",
      "4\n",
      "dog\n",
      "2\n"
     ]
    }
   ],
   "source": [
    "#在Python中用列表来实现队列\n",
    "class Queue:\n",
    "    def __init__(self):  #创建一个空队列对象，无需参数，返回空的队列\n",
    "        self.items = []\n",
    "        \n",
    "    def isEmpty(self):   #测试是否为空队列，无序参数，返回值为布尔值\n",
    "        return self.items == []\n",
    "    \n",
    "    def enqueue(self,item):  #将数据项添加到队尾，无返回值\n",
    "        self.items.insert(0,item)\n",
    "        \n",
    "    def dequeue(self):  #从队首移除数据项，无需参数，返回值为队首数据项\n",
    "        return self.items.pop()\n",
    "    \n",
    "    def size(self):  #返回队列中的数据项的个数，无需参数\n",
    "        return len(self.items)\n",
    "\n",
    "q = Queue()\n",
    "q.enqueue(4)\n",
    "q.enqueue('dog')\n",
    "q.enqueue(True)\n",
    "print(q.size())\n",
    "print(q.isEmpty())\n",
    "q.enqueue(8.4)\n",
    "print(q.dequeue())\n",
    "print(q.dequeue())\n",
    "print(q.size())"
   ]
  },
  {
   "cell_type": "code",
   "execution_count": 2,
   "metadata": {},
   "outputs": [
    {
     "name": "stdout",
     "output_type": "stream",
     "text": [
      "True\n",
      "4\n",
      "False\n",
      "8.4\n",
      "True\n"
     ]
    }
   ],
   "source": [
    "#在Python中用列表实现双端队列Deque(double-ended queue)\n",
    "class Deque:\n",
    "    def __init__(self):\n",
    "        self.items = []\n",
    "    \n",
    "    def isEmpty(self):\n",
    "        return self.items == []\n",
    "    \n",
    "    def addFront(self,item):\n",
    "        self.items.append(item)\n",
    "        \n",
    "    def addRear(self,item):\n",
    "        self.items.insert(0,item)\n",
    "        \n",
    "    def removeFront(self):\n",
    "        return self.items.pop()\n",
    "    \n",
    "    def removeRear(self):\n",
    "        return self.items.pop(0)\n",
    "    \n",
    "    def size(self):\n",
    "        return len(self.items)\n",
    "    \n",
    "d = Deque()\n",
    "print(d.isEmpty())\n",
    "d.addRear(4)\n",
    "d.addRear('dog')\n",
    "d.addFront('cat')\n",
    "d.addFront(True)\n",
    "print(d.size())\n",
    "print(d.isEmpty())\n",
    "d.addRear(8.4)\n",
    "print(d.removeRear())\n",
    "print(d.removeFront())"
   ]
  },
  {
   "cell_type": "code",
   "execution_count": 3,
   "metadata": {},
   "outputs": [
    {
     "data": {
      "text/plain": [
       "93"
      ]
     },
     "execution_count": 3,
     "metadata": {},
     "output_type": "execute_result"
    }
   ],
   "source": [
    "#用链表实现节点(NODE)\n",
    "class Node:\n",
    "    def __init__(self,initdata):\n",
    "        self.data = initdata\n",
    "        self.next = None\n",
    "        \n",
    "    def getData(self):\n",
    "        return self.data\n",
    "    \n",
    "    def getNext(self):\n",
    "        return self.next\n",
    "    \n",
    "    def setData(self,newdata):\n",
    "        self.data = newdata\n",
    "    \n",
    "    def setNext(self,newnext):\n",
    "        self.next = newnext\n",
    "        \n",
    "temp = Node(93)\n",
    "temp.getData()"
   ]
  },
  {
   "cell_type": "code",
   "execution_count": 4,
   "metadata": {},
   "outputs": [
    {
     "name": "stdout",
     "output_type": "stream",
     "text": [
      "True\n",
      "6\n",
      "True\n",
      "4\n",
      "26->93->77->31\n"
     ]
    }
   ],
   "source": [
    "#由节点实现无序列表(UNORDERED LIST)  [不按照从小到大的顺序排列]\n",
    "class UnorderedList:\n",
    "    def __init__(self):\n",
    "        self.head = None  #注意：列表类本身不包含任何节点，它包含对链式存储结构的第一个节点的引用。\n",
    "        \n",
    "    def isEmpty(self):\n",
    "        return self.head == None\n",
    "    \n",
    "    def add(self,item):\n",
    "        temp = Node(item)\n",
    "        temp.setNext(self.head)\n",
    "        self.head = temp\n",
    "        \n",
    "    def size(self):\n",
    "        current = self.head\n",
    "        count = 0\n",
    "        while current != None:\n",
    "            count += 1\n",
    "            current = current.getNext()\n",
    "        return count\n",
    "    \n",
    "    def search(self,item):\n",
    "        current = self.head\n",
    "        found = False\n",
    "        while current != None and not found:\n",
    "            if current.getData() == item:\n",
    "                found = True\n",
    "            else:\n",
    "                current = current.getNext()\n",
    "        return found\n",
    "    \n",
    "    def remove(self,item):\n",
    "        current = self.head\n",
    "        previous = None\n",
    "        found = False\n",
    "        while not found:\n",
    "            if current.getData() == item:\n",
    "                found = True\n",
    "            else:\n",
    "                previous = current\n",
    "                current = current.getNext()              \n",
    "        if previous == None:\n",
    "            self.head = current.getNext()\n",
    "        else:\n",
    "            previous.setNext(current.getNext())\n",
    "\n",
    "            \n",
    "mylist = UnorderedList()\n",
    "print(mylist.isEmpty())\n",
    "mylist.add(31)\n",
    "mylist.add(77)\n",
    "mylist.add(17)\n",
    "mylist.add(93)\n",
    "mylist.add(26)\n",
    "mylist.add(54)\n",
    "print(mylist.size())\n",
    "print(mylist.search(17))\n",
    "mylist.remove(17)\n",
    "mylist.remove(54)\n",
    "print(mylist.size())\n",
    "print(\"{}->{}->{}->{}\".format(mylist.head.data,mylist.head.next.data,mylist.head.next.next.data,mylist.head.next.next.next.data))"
   ]
  },
  {
   "cell_type": "code",
   "execution_count": 5,
   "metadata": {},
   "outputs": [
    {
     "name": "stdout",
     "output_type": "stream",
     "text": [
      "True\n",
      "5\n",
      "True\n",
      "4\n",
      "7->17->20->67\n"
     ]
    }
   ],
   "source": [
    "#用节点实现有序列表(Ordered List)   [升序或降序]\n",
    "class OrderedList:\n",
    "    def __init__(self):\n",
    "        self.head = None\n",
    "    \n",
    "    def isEmpty(self):\n",
    "        return self.head == None\n",
    "    \n",
    "    def add(self,item):\n",
    "        current = self.head\n",
    "        previous = None\n",
    "        stop = False\n",
    "        while current != None and not stop:\n",
    "            if current.getData() > item:\n",
    "                stop = True\n",
    "            else:\n",
    "                previous = current\n",
    "                current = current.getNext()\n",
    "        temp = Node(item)\n",
    "        if previous == None:\n",
    "            temp.setNext(self.head)\n",
    "            self.head = temp\n",
    "        else:\n",
    "            temp.setNext(current)\n",
    "            previous.setNext(temp)\n",
    "            \n",
    "    \n",
    "    def size(self):\n",
    "        current = self.head\n",
    "        count = 0\n",
    "        while current != None:\n",
    "            count += 1\n",
    "            current = current.getNext()\n",
    "        return count\n",
    "    \n",
    "    def search(self,item):\n",
    "        current = self.head\n",
    "        found = False\n",
    "        stop = False\n",
    "        while current != None and not found and not stop:\n",
    "            if current.getData() == item:\n",
    "                found = True\n",
    "            else:\n",
    "                if current.getData() > item:\n",
    "                    stop = True\n",
    "                else:\n",
    "                    current = current.getNext()\n",
    "        return found\n",
    "    \n",
    "    def remove(self,item):\n",
    "        current = self.head\n",
    "        previous = None\n",
    "        found = False\n",
    "        while not found:\n",
    "            if current.getData() == item:\n",
    "                found = True\n",
    "            else:\n",
    "                previous = current\n",
    "                current = current.getNext()              \n",
    "        if previous == None:\n",
    "            self.head = current.getNext()\n",
    "        else:\n",
    "            previous.setNext(current.getNext())\n",
    "    \n",
    "\n",
    "mylist2 = OrderedList()\n",
    "print(mylist2.isEmpty())\n",
    "mylist2.add(17)\n",
    "mylist2.add(20)\n",
    "mylist2.add(13)\n",
    "mylist2.add(7)\n",
    "mylist2.add(67)\n",
    "print(mylist2.size())\n",
    "print(mylist2.search(13))\n",
    "mylist2.remove(13)\n",
    "print(mylist2.size())\n",
    "print(\"{}->{}->{}->{}\".format(mylist2.head.data,mylist2.head.next.data,mylist2.head.next.next.data,mylist2.head.next.next.next.data))"
   ]
  },
  {
   "cell_type": "code",
   "execution_count": null,
   "metadata": {
    "collapsed": true
   },
   "outputs": [],
   "source": []
  }
 ],
 "metadata": {
  "kernelspec": {
   "display_name": "Python 3",
   "language": "python",
   "name": "python3"
  },
  "language_info": {
   "codemirror_mode": {
    "name": "ipython",
    "version": 3
   },
   "file_extension": ".py",
   "mimetype": "text/x-python",
   "name": "python",
   "nbconvert_exporter": "python",
   "pygments_lexer": "ipython3",
   "version": "3.6.1"
  }
 },
 "nbformat": 4,
 "nbformat_minor": 2
}
