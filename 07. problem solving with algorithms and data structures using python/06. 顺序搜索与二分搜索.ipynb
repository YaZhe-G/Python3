{
 "cells": [
  {
   "cell_type": "markdown",
   "metadata": {},
   "source": [
    "# 搜索：\n",
    "    * 顺序搜索(O(n))\n",
    "    * 二分法搜索(O(logn))\n",
    "    * 基于散列表的搜索(O(1))\n",
    "        散列表：是一种数据的集合，其中的每个数据都通过某种特定的方式进行存储以方面日后的查找。\n",
    "               散列表的每一个位置叫做槽(slots)，能够存放一个数据项(data)。\n",
    "        散列函数：某个数据项与在散列表中存储它的槽之间的映射\n",
    "        散列值：数据项通过散列函数求得的值"
   ]
  },
  {
   "cell_type": "code",
   "execution_count": 5,
   "metadata": {},
   "outputs": [
    {
     "name": "stdout",
     "output_type": "stream",
     "text": [
      "False\n",
      "True\n",
      "False\n",
      "True\n"
     ]
    }
   ],
   "source": [
    "#顺序搜索\n",
    "#复杂度：O(n)\n",
    "def sequentialSearch(alist, item): \n",
    "    pos = 0\n",
    "    found = False\n",
    "    while pos < len(alist) and not found:\n",
    "        if alist[pos] == item: \n",
    "            found = True\n",
    "        else:\n",
    "            pos = pos + 1\n",
    "    return found\n",
    "testlist = [1, 2, 32, 8, 17, 19, 42, 13, 0] \n",
    "print(sequentialSearch(testlist, 3)) \n",
    "print(sequentialSearch(testlist, 13))\n",
    "\n",
    "def orderedSequentialSearch(alist, item): \n",
    "    pos = 0\n",
    "    found = False\n",
    "    stop = False\n",
    "    while pos < len(alist) and not found and not stop:\n",
    "        if alist[pos] == item:\n",
    "            found = True\n",
    "        else:\n",
    "            if alist[pos] > item:\n",
    "                stop = True \n",
    "            else:\n",
    "                pos = pos + 1 \n",
    "    return found\n",
    "testlist = [0, 1, 2, 8, 13, 17, 19, 32, 42,] \n",
    "print(orderedSequentialSearch(testlist, 3)) \n",
    "print(orderedSequentialSearch(testlist, 13))"
   ]
  },
  {
   "cell_type": "code",
   "execution_count": 7,
   "metadata": {},
   "outputs": [
    {
     "name": "stdout",
     "output_type": "stream",
     "text": [
      "False\n",
      "True\n"
     ]
    }
   ],
   "source": [
    "#二分法搜索\n",
    "#复杂度(O(logn))\n",
    "def binarySearch(alist, item): \n",
    "    first = 0\n",
    "    last = len(alist) - 1\n",
    "    found = False\n",
    "    while first <= last and not found:\n",
    "        midpoint = ( first + last)//2 \n",
    "        if alist[midpoint] == item:\n",
    "            found = True \n",
    "        else:\n",
    "            if item < alist[midpoint]: \n",
    "                last = midpoint -1\n",
    "            else:\n",
    "                first = midpoint +1\n",
    "    return found\n",
    "testlist = [0, 1, 2, 8, 13, 17, 19, 32, 42,] \n",
    "print(orderedSequentialSearch(testlist, 3)) \n",
    "print(orderedSequentialSearch(testlist, 13))"
   ]
  }
 ],
 "metadata": {
  "kernelspec": {
   "display_name": "Python 3",
   "language": "python",
   "name": "python3"
  },
  "language_info": {
   "codemirror_mode": {
    "name": "ipython",
    "version": 3
   },
   "file_extension": ".py",
   "mimetype": "text/x-python",
   "name": "python",
   "nbconvert_exporter": "python",
   "pygments_lexer": "ipython3",
   "version": "3.6.1"
  }
 },
 "nbformat": 4,
 "nbformat_minor": 2
}
