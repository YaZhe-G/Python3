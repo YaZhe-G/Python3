{
 "cells": [
  {
   "cell_type": "markdown",
   "metadata": {},
   "source": [
    "# Python中List的性能分析\n",
    "    Operation          Big-O Efficiency\n",
    "    indexx[]                O(1)\n",
    "    index assignment        O(1)\n",
    "    append                  O(1)\n",
    "    pop()                   O(1)\n",
    "    pop(i)                  O(n)\n",
    "    insert(i,item)          O(n)\n",
    "    del operator            O(n)\n",
    "    iteration               O(n)\n",
    "    contains(in)            O(n)\n",
    "    get slice[x:y]          O(k)\n",
    "    del slice               O(n)\n",
    "    set slice               O(n+k)\n",
    "    reverse                 O(n)\n",
    "    concatenate             O(k)\n",
    "    sort                    O(nlogn)\n",
    "    multiply                O(nk)"
   ]
  },
  {
   "cell_type": "code",
   "execution_count": 1,
   "metadata": {
    "collapsed": true
   },
   "outputs": [],
   "source": [
    "#四种方法生成从0到n的列表: (时间复杂度比较:test4<test3<test2<test1)\n",
    "def test1():\n",
    "    l = []\n",
    "    for i in range(1000):\n",
    "        l = l + [i]\n",
    "        \n",
    "def test2():\n",
    "    l = []\n",
    "    for i in range(1000):\n",
    "        l.append(i)\n",
    "        \n",
    "def test3():\n",
    "    return [l for l in range(1000)]\n",
    "\n",
    "def test4():\n",
    "    return list(range(1000))"
   ]
  },
  {
   "cell_type": "code",
   "execution_count": 2,
   "metadata": {},
   "outputs": [
    {
     "data": {
      "text/plain": [
       "1.2143660160072614"
      ]
     },
     "execution_count": 2,
     "metadata": {},
     "output_type": "execute_result"
    }
   ],
   "source": [
    "from timeit import Timer\n",
    "t1 = Timer(\"test1()\",\"from __main__ import test1\")\n",
    "t1.timeit(number=1000)"
   ]
  },
  {
   "cell_type": "code",
   "execution_count": 3,
   "metadata": {},
   "outputs": [
    {
     "data": {
      "text/plain": [
       "0.10877453000284731"
      ]
     },
     "execution_count": 3,
     "metadata": {},
     "output_type": "execute_result"
    }
   ],
   "source": [
    "t2 = Timer(\"test2()\",\"from __main__ import test2\")\n",
    "t2.timeit(number=1000)"
   ]
  },
  {
   "cell_type": "code",
   "execution_count": 4,
   "metadata": {},
   "outputs": [
    {
     "data": {
      "text/plain": [
       "0.0492433909967076"
      ]
     },
     "execution_count": 4,
     "metadata": {},
     "output_type": "execute_result"
    }
   ],
   "source": [
    "t3 = Timer(\"test3()\",\"from __main__ import test3\")\n",
    "t3.timeit(number=1000)"
   ]
  },
  {
   "cell_type": "code",
   "execution_count": 5,
   "metadata": {},
   "outputs": [
    {
     "data": {
      "text/plain": [
       "0.02161284099565819"
      ]
     },
     "execution_count": 5,
     "metadata": {},
     "output_type": "execute_result"
    }
   ],
   "source": [
    "t4 = Timer(\"test4()\",\"from __main__ import test4\")\n",
    "t4.timeit(number=1000)"
   ]
  },
  {
   "cell_type": "code",
   "execution_count": 6,
   "metadata": {},
   "outputs": [
    {
     "data": {
      "text/plain": [
       "0.00010045600356534123"
      ]
     },
     "execution_count": 6,
     "metadata": {},
     "output_type": "execute_result"
    }
   ],
   "source": [
    "#pop()和pop(i)两种操作的时间复杂度比较\n",
    "x = list(range(20000))\n",
    "pop_end = Timer(\"x.pop()\",\"from __main__ import x\")\n",
    "pop_end.timeit(number=1000)  #pop():O(1)"
   ]
  },
  {
   "cell_type": "code",
   "execution_count": 7,
   "metadata": {},
   "outputs": [
    {
     "data": {
      "text/plain": [
       "0.00614100499660708"
      ]
     },
     "execution_count": 7,
     "metadata": {},
     "output_type": "execute_result"
    }
   ],
   "source": [
    "x = list(range(20000))\n",
    "pop_zero = Timer(\"x.pop(0)\",\"from __main__ import x\")\n",
    "pop_zero.timeit(number=1000)  #pop(i):O(n)"
   ]
  },
  {
   "cell_type": "markdown",
   "metadata": {},
   "source": [
    "# Python3中Dictionary的性能分析\n",
    "        操作          时间效率(大O表示法)\n",
    "        复制                O(n)\n",
    "        访问                O(1)\n",
    "        赋值                O(1)\n",
    "        删除                O(1)\n",
    "        包含(in)            O(1)\n",
    "        迭代                O(n)"
   ]
  },
  {
   "cell_type": "code",
   "execution_count": 8,
   "metadata": {},
   "outputs": [
    {
     "data": {
      "text/plain": [
       "0.017588545975741"
      ]
     },
     "execution_count": 8,
     "metadata": {},
     "output_type": "execute_result"
    }
   ],
   "source": [
    "#列表和字典的包含操作的效率对比\n",
    "lst = list(range(10))\n",
    "dic = {j:None for j in range(10)}\n",
    "lst_time = Timer(\"9 in lst\",\"from __main__ import lst\")\n",
    "lst_time.timeit(number=100000)  #O(n)"
   ]
  },
  {
   "cell_type": "code",
   "execution_count": 9,
   "metadata": {},
   "outputs": [
    {
     "data": {
      "text/plain": [
       "0.004535393993137404"
      ]
     },
     "execution_count": 9,
     "metadata": {},
     "output_type": "execute_result"
    }
   ],
   "source": [
    "dic_time = Timer(\"9 in dic\",\"from __main__ import dic\")\n",
    "dic_time.timeit(number=100000)  #O(1)"
   ]
  },
  {
   "cell_type": "code",
   "execution_count": null,
   "metadata": {
    "collapsed": true
   },
   "outputs": [],
   "source": []
  }
 ],
 "metadata": {
  "kernelspec": {
   "display_name": "Python 3",
   "language": "python",
   "name": "python3"
  },
  "language_info": {
   "codemirror_mode": {
    "name": "ipython",
    "version": 3
   },
   "file_extension": ".py",
   "mimetype": "text/x-python",
   "name": "python",
   "nbconvert_exporter": "python",
   "pygments_lexer": "ipython3",
   "version": "3.6.1"
  }
 },
 "nbformat": 4,
 "nbformat_minor": 2
}
