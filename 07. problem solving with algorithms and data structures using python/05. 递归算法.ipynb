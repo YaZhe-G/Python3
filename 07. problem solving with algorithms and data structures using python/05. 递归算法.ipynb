{
 "cells": [
  {
   "cell_type": "markdown",
   "metadata": {},
   "source": [
    "# 递归(RECURSION)\n",
    "    定义：递归是一种解决问题的方法，它把一个问题分解为越来越小的子问题，直到问题的规模小到可以被很简单直接解决。\n",
    "        递归是迭代(iteration)的一种形式。递归函数是一种调用自身的函数。\n",
    "    递归三大定律：\n",
    "        * 递归算法必须有个基本结束条件\n",
    "        * 递归算法必须改变自己的状态并向基本结束条件演进\n",
    "        * 递归算法必须递归地调用自身"
   ]
  },
  {
   "cell_type": "code",
   "execution_count": 3,
   "metadata": {},
   "outputs": [
    {
     "name": "stdout",
     "output_type": "stream",
     "text": [
      "25\n"
     ]
    }
   ],
   "source": [
    "def list_sum(num_list):\n",
    "    the_sum = 0\n",
    "    for i in num_list:\n",
    "        the_sum += i\n",
    "    return the_sum\n",
    "\n",
    "print(list_sum([1,3,5,7,9]))"
   ]
  },
  {
   "cell_type": "code",
   "execution_count": 4,
   "metadata": {},
   "outputs": [
    {
     "name": "stdout",
     "output_type": "stream",
     "text": [
      "25\n"
     ]
    }
   ],
   "source": [
    "def list_sum2(num_list):\n",
    "    if len(num_list) == 1:\n",
    "        return num_list[0]\n",
    "    else:\n",
    "        return num_list[0] + list_sum(num_list[1:])\n",
    "    \n",
    "print(list_sum2([1,3,5,7,9]))"
   ]
  },
  {
   "cell_type": "code",
   "execution_count": null,
   "metadata": {
    "collapsed": true
   },
   "outputs": [],
   "source": []
  }
 ],
 "metadata": {
  "kernelspec": {
   "display_name": "Python 3",
   "language": "python",
   "name": "python3"
  },
  "language_info": {
   "codemirror_mode": {
    "name": "ipython",
    "version": 3
   },
   "file_extension": ".py",
   "mimetype": "text/x-python",
   "name": "python",
   "nbconvert_exporter": "python",
   "pygments_lexer": "ipython3",
   "version": "3.6.1"
  }
 },
 "nbformat": 4,
 "nbformat_minor": 2
}
