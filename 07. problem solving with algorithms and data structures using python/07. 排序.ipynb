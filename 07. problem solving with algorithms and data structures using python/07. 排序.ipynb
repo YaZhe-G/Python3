{
 "cells": [
  {
   "cell_type": "markdown",
   "metadata": {},
   "source": [
    "# 排序：\n",
    "    * 冒泡排序\n",
    "    * 选择排序\n",
    "    * 插入排序\n",
    "    * 希尔排序\n",
    "    * 归并排序"
   ]
  },
  {
   "cell_type": "code",
   "execution_count": 21,
   "metadata": {},
   "outputs": [
    {
     "name": "stdout",
     "output_type": "stream",
     "text": [
      "[17, 20, 26, 31, 44, 54, 55, 77, 93]\n",
      "[17, 20, 26, 31, 44, 54, 55, 77, 93]\n"
     ]
    }
   ],
   "source": [
    "#冒泡排序\n",
    "#时间复杂度：O(n^2)\n",
    "def bubbleSort(alist):\n",
    "    for passnum in range(len(alist)-1,0,-1):\n",
    "        for i in range(passnum): \n",
    "            if alist[i]>alist[i+1]: \n",
    "                temp = alist[i]\n",
    "                alist[i] = alist[i+1]\n",
    "                alist[i+1] = temp \n",
    "alist = [54,26,93,17,77,31,44,55,20]\n",
    "bubbleSort(alist) \n",
    "print(alist)\n",
    "\n",
    "#短路冒泡排序：如果在整个排序过程中没有交换，就可判定列表已经排好，可提前结束。\n",
    "def shortBubbleSort(alist): \n",
    "    exchanges = True\n",
    "    passnum = len(alist)-1\n",
    "    while passnum > 0 and exchanges:\n",
    "        exchanges = False\n",
    "        for i in range(passnum):\n",
    "            if alist[i]>alist[i+1]: \n",
    "                exchanges = True\n",
    "                temp = alist[i] \n",
    "                alist[i] = alist[i+1]\n",
    "                alist[i+1] = temp \n",
    "        passnum = passnum-1       \n",
    "alist = [54,26,93,17,77,31,44,55,20]\n",
    "shortBubbleSort(alist) \n",
    "print(alist)       "
   ]
  },
  {
   "cell_type": "code",
   "execution_count": 23,
   "metadata": {},
   "outputs": [
    {
     "name": "stdout",
     "output_type": "stream",
     "text": [
      "[17, 20, 26, 31, 44, 54, 55, 77, 93]\n"
     ]
    }
   ],
   "source": [
    "#选择排序\n",
    "#时间复杂度O(n^2)\n",
    "def selectionSort(alist):\n",
    "    for fillslot in range(len(alist)-1,0,-1):\n",
    "        positionOfMax=0\n",
    "        for location in range(1,fillslot+1):\n",
    "            if alist[location]>alist[positionOfMax]: \n",
    "                positionOfMax = location\n",
    "        temp = alist[fillslot]\n",
    "        alist[fillslot] = alist[positionOfMax] \n",
    "        alist[positionOfMax] = temp\n",
    "alist = [54,26,93,17,77,31,44,55,20]\n",
    "selectionSort(alist)\n",
    "print(alist)"
   ]
  },
  {
   "cell_type": "code",
   "execution_count": 24,
   "metadata": {},
   "outputs": [
    {
     "name": "stdout",
     "output_type": "stream",
     "text": [
      "[17, 20, 26, 31, 44, 54, 55, 77, 93]\n"
     ]
    }
   ],
   "source": [
    "#插入排序\n",
    "#时间复杂度：O(n^2)\n",
    "def insertionSort(alist):\n",
    "    for index in range(1,len(alist)):\n",
    "        currentvalue = alist[index] \n",
    "        position = index\n",
    "        while position>0 and alist[position-1]>currentvalue:\n",
    "            alist[position]=alist[position-1]\n",
    "            position = position-1\n",
    "        alist[position]=currentvalue\n",
    "alist = [54,26,93,17,77,31,44,55,20]\n",
    "insertionSort(alist)\n",
    "print(alist)"
   ]
  },
  {
   "cell_type": "code",
   "execution_count": 27,
   "metadata": {},
   "outputs": [
    {
     "name": "stdout",
     "output_type": "stream",
     "text": [
      "After increments of size 4 The list is [20, 26, 44, 17, 54, 31, 93, 55, 77]\n",
      "After increments of size 2 The list is [20, 17, 44, 26, 54, 31, 77, 55, 93]\n",
      "After increments of size 1 The list is [17, 20, 26, 31, 44, 54, 55, 77, 93]\n",
      "[17, 20, 26, 31, 44, 54, 55, 77, 93]\n"
     ]
    }
   ],
   "source": [
    "#希尔排序\n",
    "#时间复杂度：大致介于O(n)和O(n2)之间\n",
    "def shellSort(alist): \n",
    "    sublistcount = len(alist)//2 \n",
    "    while sublistcount > 0:\n",
    "        for startposition in range(sublistcount): \n",
    "            gapInsertionSort(alist,startposition,sublistcount)\n",
    "        print(\"After increments of size\",sublistcount, \"The list is\",alist)\n",
    "        sublistcount = sublistcount // 2\n",
    "def gapInsertionSort(alist,start,gap): \n",
    "    for i in range(start+gap,len(alist),gap):\n",
    "        currentvalue = alist[i] \n",
    "        position = i\n",
    "        while position>=gap and alist[position-gap]>currentvalue:\n",
    "            alist[position]=alist[position-gap]\n",
    "            position = position-gap\n",
    "            alist[position]=currentvalue\n",
    "alist = [54,26,93,17,77,31,44,55,20] \n",
    "shellSort(alist)\n",
    "print(alist)"
   ]
  },
  {
   "cell_type": "code",
   "execution_count": 28,
   "metadata": {
    "collapsed": true
   },
   "outputs": [],
   "source": [
    "#归并排序\n",
    "#时间复杂度：O(nlogn)"
   ]
  },
  {
   "cell_type": "code",
   "execution_count": null,
   "metadata": {
    "collapsed": true
   },
   "outputs": [],
   "source": [
    "#快速排序\n",
    "#时间复杂度：O(nlogn)"
   ]
  }
 ],
 "metadata": {
  "kernelspec": {
   "display_name": "Python 3",
   "language": "python",
   "name": "python3"
  },
  "language_info": {
   "codemirror_mode": {
    "name": "ipython",
    "version": 3
   },
   "file_extension": ".py",
   "mimetype": "text/x-python",
   "name": "python",
   "nbconvert_exporter": "python",
   "pygments_lexer": "ipython3",
   "version": "3.6.1"
  }
 },
 "nbformat": 4,
 "nbformat_minor": 2
}
