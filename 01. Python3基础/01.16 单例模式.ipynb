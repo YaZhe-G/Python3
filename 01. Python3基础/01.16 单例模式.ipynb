{
 "cells": [
  {
   "cell_type": "code",
   "execution_count": 1,
   "metadata": {},
   "outputs": [
    {
     "name": "stdout",
     "output_type": "stream",
     "text": [
      "4394198912\n",
      "4394198912\n",
      "<__main__.Dog object at 0x105ea2780>\n",
      "<__main__.Dog object at 0x105ea2780>\n"
     ]
    }
   ],
   "source": [
    "#单例模式：不管怎么创建，始终都只有一个对象\n",
    "class Dog(object):\n",
    "    #类的私有属性\n",
    "    __instance = None\n",
    "    def __new__(cls):\n",
    "        if cls.__instance == None:\n",
    "            cls.__instance = object.__new__(cls)\n",
    "            return cls.__instance\n",
    "        else:\n",
    "            return cls.__instance\n",
    "    \n",
    "dog1 = Dog()\n",
    "dog2 = Dog()\n",
    "\n",
    "#?\n",
    "print(id(dog1))\n",
    "print(id(dog2))\n",
    "print(dog1)\n",
    "print(dog2)"
   ]
  },
  {
   "cell_type": "code",
   "execution_count": null,
   "metadata": {},
   "outputs": [],
   "source": []
  }
 ],
 "metadata": {
  "kernelspec": {
   "display_name": "Python 3",
   "language": "python",
   "name": "python3"
  },
  "language_info": {
   "codemirror_mode": {
    "name": "ipython",
    "version": 3
   },
   "file_extension": ".py",
   "mimetype": "text/x-python",
   "name": "python",
   "nbconvert_exporter": "python",
   "pygments_lexer": "ipython3",
   "version": "3.6.1"
  }
 },
 "nbformat": 4,
 "nbformat_minor": 2
}
