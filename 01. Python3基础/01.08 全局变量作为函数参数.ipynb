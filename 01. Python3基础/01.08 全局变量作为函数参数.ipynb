{
 "cells": [
  {
   "cell_type": "code",
   "execution_count": 16,
   "metadata": {
    "collapsed": false
   },
   "outputs": [
    {
     "name": "stdout",
     "output_type": "stream",
     "text": [
      "200\n",
      "100\n",
      "*********************************************\n",
      "[100, 100]\n",
      "[100, 100]\n"
     ]
    }
   ],
   "source": [
    "#当函数的实参是全局变量时，如果该全局变量是可变类型，即可在函数内部修改；如果该变量是不可变类型，则不能在函数内部修改。\n",
    "a = 100\n",
    "\n",
    "def test(num):\n",
    "    num += num\n",
    "    print(num)  \n",
    "    \n",
    "test(a)    #此时的num不能修改不可变类型数字，所以重新指向了另外一个数（200）\n",
    "print(a)\n",
    "\n",
    "print('*'*45)\n",
    "\n",
    "b = [100]\n",
    "\n",
    "def test1(num):\n",
    "    num += num     #注意：如果写成num=num+num，表示num指向一个新的列表，则b的值不会变。python中这俩不是等价的\n",
    "    print(num)\n",
    "    \n",
    "test1(b)   #此时的num指向的是可变类型列表，可以修改。\n",
    "print(b)"
   ]
  },
  {
   "cell_type": "code",
   "execution_count": 11,
   "metadata": {
    "collapsed": false
   },
   "outputs": [
    {
     "name": "stdout",
     "output_type": "stream",
     "text": [
      "4 5\n"
     ]
    }
   ],
   "source": [
    "#交换两个变量的值\n",
    "a = 5\n",
    "b = 4\n",
    "\n",
    "#1.申明中间变量\n",
    "c = 0\n",
    "c = a\n",
    "a = b\n",
    "b = c\n",
    "print(a,b)"
   ]
  },
  {
   "cell_type": "code",
   "execution_count": 12,
   "metadata": {
    "collapsed": false
   },
   "outputs": [
    {
     "name": "stdout",
     "output_type": "stream",
     "text": [
      "5 4\n"
     ]
    }
   ],
   "source": [
    "#2.加减法\n",
    "a = a + b\n",
    "b = a - b\n",
    "a = a - b\n",
    "print(a,b)"
   ]
  },
  {
   "cell_type": "code",
   "execution_count": 13,
   "metadata": {
    "collapsed": false
   },
   "outputs": [
    {
     "name": "stdout",
     "output_type": "stream",
     "text": [
      "4 5\n"
     ]
    }
   ],
   "source": [
    "#3.python特殊性\n",
    "a,b = b,a\n",
    "print(a,b)"
   ]
  },
  {
   "cell_type": "code",
   "execution_count": null,
   "metadata": {
    "collapsed": true
   },
   "outputs": [],
   "source": []
  }
 ],
 "metadata": {
  "kernelspec": {
   "display_name": "Python 3",
   "language": "python",
   "name": "python3"
  },
  "language_info": {
   "codemirror_mode": {
    "name": "ipython",
    "version": 3
   },
   "file_extension": ".py",
   "mimetype": "text/x-python",
   "name": "python",
   "nbconvert_exporter": "python",
   "pygments_lexer": "ipython3",
   "version": "3.6.0"
  }
 },
 "nbformat": 4,
 "nbformat_minor": 2
}
