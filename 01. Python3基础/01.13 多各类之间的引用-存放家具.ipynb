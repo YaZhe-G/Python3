{
 "cells": [
  {
   "cell_type": "code",
   "execution_count": 6,
   "metadata": {
    "collapsed": false
   },
   "outputs": [
    {
     "name": "stdout",
     "output_type": "stream",
     "text": [
      "房子：北京市海淀区西三环北路105号,三室一厅,130 \n",
      "家具：[],剩余面积:130,家具数量:0\n",
      "######################################################################\n",
      "房子：北京市海淀区西三环北路105号,三室一厅,130 \n",
      "家具：['席梦思'],剩余面积:124,家具数量:1\n",
      "######################################################################\n",
      "房子：北京市海淀区西三环北路105号,三室一厅,130 \n",
      "家具：['席梦思', '三人床'],剩余面积:114,家具数量:2\n"
     ]
    }
   ],
   "source": [
    "#存放家具：一个类的属性、方法作为另一个类的参数\n",
    "class Home(object):\n",
    "    #类属性\n",
    "    count = 0\n",
    "    #类方法\n",
    "    def __init__(self,new_area,new_infor,new_addr):\n",
    "        #实例属性\n",
    "        self.area = new_area\n",
    "        self.infor = new_infor\n",
    "        self.addr = new_addr\n",
    "        self.leftArea = new_area\n",
    "        self.items = []\n",
    "    def __str__(self):\n",
    "        return '房子：%s,%s,%d \\n家具：%s,剩余面积:%d,家具数量:%d'%(self.addr,self.infor,self.area,str(self.items),self.leftArea,Home.count)\n",
    "    def addItems(self,item):\n",
    "        self.items.append(item.get_name())  #用方法来代替直接获取属性(item.name())，可以在方法中加入判断，保证属性的正确性.\n",
    "        self.leftArea -= item.get_area()\n",
    "        Home.count += 1\n",
    "\n",
    "class Items(object):\n",
    "    def __init__(self,new_area,new_name):\n",
    "        self.area = new_area\n",
    "        self.name = new_name\n",
    "    def __str__(self):\n",
    "        return '%s占用的面积是%s'%(self.name,self.area)\n",
    "    def get_name(self):\n",
    "        return self.name\n",
    "    def get_area(self):\n",
    "        return self.area\n",
    "    \n",
    "fangzi = Home(130,'三室一厅','北京市海淀区西三环北路105号')\n",
    "print(fangzi)\n",
    "print('#'*70)\n",
    "bed1 = Items(6,'席梦思')\n",
    "fangzi.addItems(bed1)\n",
    "print(fangzi)\n",
    "print('#'*70)\n",
    "bed2 = Items(10,'三人床')\n",
    "fangzi.addItems(bed2)\n",
    "print(fangzi)"
   ]
  },
  {
   "cell_type": "code",
   "execution_count": null,
   "metadata": {
    "collapsed": true
   },
   "outputs": [],
   "source": []
  }
 ],
 "metadata": {
  "kernelspec": {
   "display_name": "Python 3",
   "language": "python",
   "name": "python3"
  },
  "language_info": {
   "codemirror_mode": {
    "name": "ipython",
    "version": 3
   },
   "file_extension": ".py",
   "mimetype": "text/x-python",
   "name": "python",
   "nbconvert_exporter": "python",
   "pygments_lexer": "ipython3",
   "version": "3.6.0"
  }
 },
 "nbformat": 4,
 "nbformat_minor": 2
}
