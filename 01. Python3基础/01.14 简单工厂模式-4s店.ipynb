{
 "cells": [
  {
   "cell_type": "code",
   "execution_count": 1,
   "metadata": {
    "collapsed": false
   },
   "outputs": [
    {
     "name": "stdout",
     "output_type": "stream",
     "text": [
      "车子开动了\n",
      "听音乐啦\n"
     ]
    }
   ],
   "source": [
    "#4s店-简单工厂模式(解耦CarStore与Car之间的关联性)\n",
    "\n",
    "class CarStore(object):\n",
    "    def __init__(self,Factory):\n",
    "        self.factory = Factory\n",
    "    def order(self,carType):\n",
    "        return self.factory.selectCar(carType)\n",
    "    \n",
    "class BmwFactory(object):\n",
    "    def selectCar(self,carType):\n",
    "        if carType == 'x5':\n",
    "            return x5()\n",
    "        elif carType == 'x6':\n",
    "            return x6()\n",
    "        elif carType == 'i8':\n",
    "            return i8()\n",
    "    \n",
    "class Car(object):\n",
    "    def move(self):\n",
    "        print('车子开动了')\n",
    "    def music(self):\n",
    "        print('听音乐啦')\n",
    "    def stop(self):\n",
    "        print('停车了')\n",
    "\n",
    "class x5(Car):\n",
    "    pass\n",
    "class x6(Car):\n",
    "    pass\n",
    "class i8(Car):\n",
    "    pass\n",
    "\n",
    "bmw_factory = BmwFactory()\n",
    "car_store = CarStore(bmw_factory)\n",
    "my_car = car_store.order('x6')\n",
    "my_car.move()\n",
    "my_car.music()"
   ]
  },
  {
   "cell_type": "code",
   "execution_count": null,
   "metadata": {
    "collapsed": true
   },
   "outputs": [],
   "source": []
  }
 ],
 "metadata": {
  "kernelspec": {
   "display_name": "Python 3",
   "language": "python",
   "name": "python3"
  },
  "language_info": {
   "codemirror_mode": {
    "name": "ipython",
    "version": 3
   },
   "file_extension": ".py",
   "mimetype": "text/x-python",
   "name": "python",
   "nbconvert_exporter": "python",
   "pygments_lexer": "ipython3",
   "version": "3.6.0"
  }
 },
 "nbformat": 4,
 "nbformat_minor": 2
}
