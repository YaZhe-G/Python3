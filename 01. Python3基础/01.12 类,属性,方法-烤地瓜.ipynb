{
 "cells": [
  {
   "cell_type": "code",
   "execution_count": 1,
   "metadata": {
    "collapsed": false
   },
   "outputs": [
    {
     "name": "stdout",
     "output_type": "stream",
     "text": [
      "地瓜的状态:生的(1)  添加的佐料:[]\n",
      "地瓜的状态:半生不熟(3)  添加的佐料:['大蒜']\n",
      "地瓜的状态:熟了(5)  添加的佐料:['大蒜', '孜然']\n",
      "地瓜的状态:熟了(7)  添加的佐料:['大蒜', '孜然', '麻酱']\n",
      "地瓜的状态:烤糊了(9)  添加的佐料:['大蒜', '孜然', '麻酱', '番茄酱']\n",
      "地瓜的状态:烤糊了(10)  添加的佐料:['大蒜', '孜然', '麻酱', '番茄酱', '辣椒油']\n"
     ]
    }
   ],
   "source": [
    "#定义一个类对象\n",
    "class SweetPotato(object):\n",
    "    #重写__init__方法(初始化)\n",
    "    def __init__(self):\n",
    "        #类属性\n",
    "        self.cookState = '生的'\n",
    "        self.cookTime = 0\n",
    "        self.seasoning = []\n",
    "    #重写__str__方法(print())\n",
    "    def __str__(self):\n",
    "        return '地瓜的状态:%s(%d)  添加的佐料:%s'%(self.cookState,self.cookTime,str(self.seasoning))\n",
    "    #定义一个方法：烤地瓜\n",
    "    def cook(self,Time):\n",
    "        self.cookTime += Time#用类的属性来储存烤的时间，防止函数结束cookTime重置。(在这里cookLevel=全局变量，cookTime=局部变量)\n",
    "        if self.cookTime >= 0 and self.cookTime < 3:\n",
    "            self.cookState = '生的'\n",
    "        elif self.cookTime >= 3 and self.cookTime < 5:\n",
    "            self.cookState = '半生不熟'\n",
    "        elif self.cookTime >= 5 and self.cookTime < 8:\n",
    "            self.cookState = '熟了'\n",
    "        else :\n",
    "            self.cookState = '烤糊了'\n",
    "    #定义一个方法：加作料\n",
    "    def addSeasoning(self,Seasoning):\n",
    "        self.seasoning.append(Seasoning)\n",
    "\n",
    "        \n",
    "#创建一个实例对象\n",
    "diGua = SweetPotato()\n",
    "#调用烤实例方法\n",
    "diGua.cook(1)\n",
    "#此处是输出对象的__str__方法\n",
    "print(diGua)  \n",
    "#调用加佐料实例方法\n",
    "diGua.addSeasoning('大蒜')\n",
    "diGua.cook(2)\n",
    "print(diGua)\n",
    "diGua.addSeasoning('孜然')\n",
    "diGua.cook(2)\n",
    "print(diGua)\n",
    "diGua.addSeasoning('麻酱')\n",
    "diGua.cook(2)\n",
    "print(diGua)\n",
    "diGua.addSeasoning('番茄酱')\n",
    "diGua.cook(2)\n",
    "print(diGua)\n",
    "diGua.addSeasoning('辣椒油')\n",
    "diGua.cook(1)\n",
    "print(diGua)"
   ]
  },
  {
   "cell_type": "code",
   "execution_count": null,
   "metadata": {
    "collapsed": true
   },
   "outputs": [],
   "source": []
  }
 ],
 "metadata": {
  "kernelspec": {
   "display_name": "Python 3",
   "language": "python",
   "name": "python3"
  },
  "language_info": {
   "codemirror_mode": {
    "name": "ipython",
    "version": 3
   },
   "file_extension": ".py",
   "mimetype": "text/x-python",
   "name": "python",
   "nbconvert_exporter": "python",
   "pygments_lexer": "ipython3",
   "version": "3.6.0"
  }
 },
 "nbformat": 4,
 "nbformat_minor": 2
}
