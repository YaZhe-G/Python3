{
 "cells": [
  {
   "cell_type": "code",
   "execution_count": 6,
   "metadata": {},
   "outputs": [
    {
     "name": "stdout",
     "output_type": "stream",
     "text": [
      "1\n",
      "请输入：剪刀(0)、石头(1)、布(2)：1\n",
      "你赢了~\n"
     ]
    }
   ],
   "source": [
    "import random\n",
    "#print(random.uniform(1,2))   生成随机浮点数\n",
    "print(random.randint(0,2))    #生成随机整型数\n",
    "player = int(input('请输入：剪刀(0)、石头(1)、布(2)：'))\n",
    "robot = random.randint(0,2)\n",
    "result = abs(player-robot)\n",
    "if result == 0:\n",
    "    print('平局！')\n",
    "elif result == 1:\n",
    "    if player < robot:\n",
    "        print('机器人赢！')\n",
    "    else:\n",
    "        print('你赢了~')\n",
    "elif result == 2:\n",
    "    if player < robot:\n",
    "        print('你赢了~')\n",
    "    else:\n",
    "        print('机器人赢了~')\n",
    "else:\n",
    "    print('你输入有误')"
   ]
  },
  {
   "cell_type": "code",
   "execution_count": null,
   "metadata": {
    "collapsed": true
   },
   "outputs": [],
   "source": []
  }
 ],
 "metadata": {
  "kernelspec": {
   "display_name": "Python 3",
   "language": "python",
   "name": "python3"
  },
  "language_info": {
   "codemirror_mode": {
    "name": "ipython",
    "version": 3
   },
   "file_extension": ".py",
   "mimetype": "text/x-python",
   "name": "python",
   "nbconvert_exporter": "python",
   "pygments_lexer": "ipython3",
   "version": "3.6.1"
  }
 },
 "nbformat": 4,
 "nbformat_minor": 2
}
