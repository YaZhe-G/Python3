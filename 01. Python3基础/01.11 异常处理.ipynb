{
 "cells": [
  {
   "cell_type": "code",
   "execution_count": 4,
   "metadata": {
    "collapsed": false
   },
   "outputs": [
    {
     "name": "stdout",
     "output_type": "stream",
     "text": [
      "xxx:aaa\n",
      "如果用了Exception，那么意味着只要上面的except没有捕获到异常，这个except一定会捕获到。as reason可写可不写\n",
      "invalid literal for int() with base 10: 'aaa'\n",
      "不管有没有异常都会执行功能\n",
      "-------11-------\n"
     ]
    }
   ],
   "source": [
    "#异常处理\n",
    "try:\n",
    "    num = input('xxx:')\n",
    "    int(num)\n",
    "except (NameError):\n",
    "    print('捕获到NameError异常后做的处理...')\n",
    "except Exception as reason:\n",
    "    print('如果用了Exception，那么意味着只要上面的except没有捕获到异常，这个except一定会捕获到。as reason可写可不写')\n",
    "    print(reason)  #输出异常的原因\n",
    "else:\n",
    "    print('没有异常才会执行的功能')\n",
    "finally:\n",
    "    print('不管有没有异常都会执行功能')\n",
    "print('-------11-------')"
   ]
  },
  {
   "cell_type": "code",
   "execution_count": null,
   "metadata": {
    "collapsed": true
   },
   "outputs": [],
   "source": []
  }
 ],
 "metadata": {
  "kernelspec": {
   "display_name": "Python 3",
   "language": "python",
   "name": "python3"
  },
  "language_info": {
   "codemirror_mode": {
    "name": "ipython",
    "version": 3
   },
   "file_extension": ".py",
   "mimetype": "text/x-python",
   "name": "python",
   "nbconvert_exporter": "python",
   "pygments_lexer": "ipython3",
   "version": "3.6.0"
  }
 },
 "nbformat": 4,
 "nbformat_minor": 2
}
