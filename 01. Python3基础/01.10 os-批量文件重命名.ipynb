{
 "cells": [
  {
   "cell_type": "code",
   "execution_count": 1,
   "metadata": {},
   "outputs": [
    {
     "name": "stdout",
     "output_type": "stream",
     "text": [
      "请输入您想要修改的文件所在的文件夹:test\n",
      "重命名成功\n",
      ".ipynb_checkpoints\n",
      "重命名成功\n",
      "legal high 1.txt\n",
      "重命名成功\n",
      "legal high 2.txt\n",
      "重命名成功\n",
      "legal high 3.txt\n"
     ]
    }
   ],
   "source": [
    "#文件的相关操作：python的os模块\n",
    "import os\n",
    "\n",
    "#1.获取要批量重命名文件所在的文件夹\n",
    "folder_name = input('请输入您想要修改的文件所在的文件夹:')\n",
    "#2.获取所有要批量重命名文件的名字\n",
    "old_file_name = os.listdir(folder_name)\n",
    "#2.1**需要修改os.rename()的默认目录\n",
    "os.chdir(folder_name)\n",
    "#3.修改所有文件的名字\n",
    "for name in old_file_name:\n",
    "    os.rename(name,'[cnu出品]-'+name)\n",
    "    print('重命名成功')\n",
    "    print(name)#输出的还是原来的名字，但是文件中已经加了‘[cnu出品]-‘"
   ]
  },
  {
   "cell_type": "code",
   "execution_count": null,
   "metadata": {
    "collapsed": true
   },
   "outputs": [],
   "source": []
  }
 ],
 "metadata": {
  "kernelspec": {
   "display_name": "Python 3",
   "language": "python",
   "name": "python3"
  },
  "language_info": {
   "codemirror_mode": {
    "name": "ipython",
    "version": 3
   },
   "file_extension": ".py",
   "mimetype": "text/x-python",
   "name": "python",
   "nbconvert_exporter": "python",
   "pygments_lexer": "ipython3",
   "version": "3.6.1"
  }
 },
 "nbformat": 4,
 "nbformat_minor": 2
}
