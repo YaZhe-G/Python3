{
 "cells": [
  {
   "cell_type": "code",
   "execution_count": 4,
   "metadata": {
    "collapsed": false
   },
   "outputs": [
    {
     "name": "stdout",
     "output_type": "stream",
     "text": [
      "========================================\n",
      "欢迎来到名字管理系统 V7.2\n",
      "1. 新增学生\n",
      "2. 删除学生\n",
      "3. 修改学生\n",
      "4. 查询学生\n",
      "5. 离开系统\n",
      "========================================\n",
      "请输入您要操作的序号:1\n",
      "请输入您要新增的学生姓名:aa\n",
      "['aa']\n",
      "请输入您要操作的序号:1\n",
      "请输入您要新增的学生姓名:bb\n",
      "['aa', 'bb']\n",
      "请输入您要操作的序号:1\n",
      "请输入您要新增的学生姓名:cc\n",
      "['aa', 'bb', 'cc']\n",
      "请输入您要操作的序号:3\n",
      "请输入您要修改的学生姓名:aa\n",
      "请输入您准备修改后的名字:vv\n",
      "['vv', 'bb', 'cc']\n",
      "请输入您要操作的序号:4\n",
      "请输入您要查询的学生姓名:aa\n",
      "查无此人\n",
      "请输入您要操作的序号:4\n",
      "请输入您要查询的学生姓名:bb\n",
      "找打了！\n",
      "请输入您要操作的序号:2\n",
      "请输入您要删除的学生姓名:vv\n",
      "['bb', 'cc']\n",
      "请输入您要操作的序号:5\n"
     ]
    }
   ],
   "source": [
    "#1. 打印功能提示\n",
    "print('='*40)\n",
    "print('欢迎来到名字管理系统 V7.2')\n",
    "print('1. 新增学生')\n",
    "print('2. 删除学生')\n",
    "print('3. 修改学生')\n",
    "print('4. 查询学生')\n",
    "print('5. 离开系统')\n",
    "print('='*40)\n",
    "\n",
    "#2. 提示用户输入\n",
    "names = [] #新建一个空列表来存储学生的名字\n",
    "\n",
    "#根据用户输入执行相应的功能\n",
    "while 1:\n",
    "    num = int(input('请输入您要操作的序号:'))\n",
    "    if num == 1:\n",
    "        new_name = input('请输入您要新增的学生姓名:')\n",
    "        names.append(new_name)\n",
    "        print(names)\n",
    "    elif num == 2:\n",
    "        rm_name = input('请输入您要删除的学生姓名:')\n",
    "        names.remove(rm_name)\n",
    "        print(names)\n",
    "    elif num ==3:\n",
    "        fix_name = input('请输入您要修改的学生姓名:')\n",
    "        fixed_name = input('请输入您准备修改后的名字:') \n",
    "        names[names.index(fix_name)] = fixed_name     #1.names.index()：括号里面不需要加''  2.names[]：下标索引是[]\n",
    "        print(names)\n",
    "    elif num ==4:\n",
    "        find_name = input('请输入您要查询的学生姓名:')\n",
    "        if find_name in names:\n",
    "            print('找到了！')\n",
    "        else:\n",
    "            print('查无此人')\n",
    "    elif num ==5:\n",
    "        break\n",
    "    else:\n",
    "        print('您输入有误，请重新输入。')"
   ]
  },
  {
   "cell_type": "code",
   "execution_count": null,
   "metadata": {
    "collapsed": true
   },
   "outputs": [],
   "source": []
  }
 ],
 "metadata": {
  "kernelspec": {
   "display_name": "Python 3",
   "language": "python",
   "name": "python3"
  },
  "language_info": {
   "codemirror_mode": {
    "name": "ipython",
    "version": 3
   },
   "file_extension": ".py",
   "mimetype": "text/x-python",
   "name": "python",
   "nbconvert_exporter": "python",
   "pygments_lexer": "ipython3",
   "version": "3.6.0"
  }
 },
 "nbformat": 4,
 "nbformat_minor": 2
}
