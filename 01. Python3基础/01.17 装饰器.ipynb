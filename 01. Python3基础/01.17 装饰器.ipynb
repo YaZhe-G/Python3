{
 "cells": [
  {
   "cell_type": "code",
   "execution_count": 2,
   "metadata": {
    "collapsed": false
   },
   "outputs": [
    {
     "name": "stdout",
     "output_type": "stream",
     "text": [
      "bar is running\n",
      "i am bar\n"
     ]
    }
   ],
   "source": [
    "#装饰器：本质是一个Python函数，它可以让其他函数在不需要做任何代码改动的前提下增加额外功能。装饰器的返回值也是一个函数对象。\n",
    "       #它经常用于有切面需求的场景，比如：插入日志、性能测试事务处理、缓存、权限效验等场景。\n",
    "       #有了装饰器，我们就可以抽离出大量与函数功能本身无关的雷同代码并继续重用。装饰器的作用就是为已经存在的对象添加额外的功能。\n",
    "def foo():\n",
    "    print('i am foo')\n",
    "    \n",
    "def use_logging(func):\n",
    "    print(\"%s is running\" % func.__name__)\n",
    "    func()\n",
    "    \n",
    "def bar():\n",
    "    print('i am bar')\n",
    "\n",
    "use_logging(bar) #改变了原有的代码逻辑结构。 原来执行bar(),现在改成use_logging(bar)"
   ]
  },
  {
   "cell_type": "code",
   "execution_count": 3,
   "metadata": {
    "collapsed": false
   },
   "outputs": [
    {
     "name": "stdout",
     "output_type": "stream",
     "text": [
      "bar is running\n",
      "i am bar\n"
     ]
    }
   ],
   "source": [
    "#简单装饰器\n",
    "def use_logging(func):\n",
    "    def wrapper(*args,**kwargs):\n",
    "        print(\"%s is running\" % func.__name__)\n",
    "        return func(*args,**kwargs)\n",
    "    return wrapper\n",
    "\n",
    "def bar():\n",
    "    print('i am bar')\n",
    "    \n",
    "\n",
    "bar = use_logging(bar)  #use_logging就是装饰器，把执行真正业务方法的func包裹在函数里面\n",
    "bar()"
   ]
  },
  {
   "cell_type": "code",
   "execution_count": 4,
   "metadata": {
    "collapsed": false
   },
   "outputs": [
    {
     "name": "stdout",
     "output_type": "stream",
     "text": [
      "bar is running\n",
      "i am bar\n"
     ]
    }
   ],
   "source": [
    "#@符号是装饰器的语法糖，在定义函数的时候使用，避免再一次赋值操作\n",
    "def use_logging(func):\n",
    "    def wrapper(*args,**kwargs):\n",
    "        print(\"%s is running\" % func.__name__)\n",
    "        return func(*args,**kwargs)\n",
    "    return wrapper\n",
    "\n",
    "@use_logging #这样就可以省去bar=use_logging(bar)这一句了\n",
    "def foo():\n",
    "    print('i am foo')\n",
    "\n",
    "@use_logging\n",
    "def bar():\n",
    "    print('i am bar')\n",
    "    \n",
    "bar()"
   ]
  },
  {
   "cell_type": "code",
   "execution_count": 5,
   "metadata": {
    "collapsed": false
   },
   "outputs": [
    {
     "name": "stdout",
     "output_type": "stream",
     "text": [
      "foo is running\n",
      "i am foo\n"
     ]
    }
   ],
   "source": [
    "foo()"
   ]
  },
  {
   "cell_type": "code",
   "execution_count": null,
   "metadata": {
    "collapsed": true
   },
   "outputs": [],
   "source": []
  }
 ],
 "metadata": {
  "kernelspec": {
   "display_name": "Python 3",
   "language": "python",
   "name": "python3"
  },
  "language_info": {
   "codemirror_mode": {
    "name": "ipython",
    "version": 3
   },
   "file_extension": ".py",
   "mimetype": "text/x-python",
   "name": "python",
   "nbconvert_exporter": "python",
   "pygments_lexer": "ipython3",
   "version": "3.6.0"
  }
 },
 "nbformat": 4,
 "nbformat_minor": 2
}
