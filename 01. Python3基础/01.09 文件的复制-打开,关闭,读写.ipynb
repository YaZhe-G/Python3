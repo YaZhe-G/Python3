{
 "cells": [
  {
   "cell_type": "code",
   "execution_count": 5,
   "metadata": {},
   "outputs": [
    {
     "name": "stdout",
     "output_type": "stream",
     "text": [
      "请输入您要复制的文件名(需要后缀):pythonism.txt\n"
     ]
    }
   ],
   "source": [
    "#1.获取需要复制的文件名\n",
    "old_file_name = input('请输入您要复制的文件名(需要后缀):')   #eg:当前路径下的文件：(pythonism.txt)\n",
    "\n",
    "#2.打开要复制的文件\n",
    "f_read = open(old_file_name,'r')\n",
    "\n",
    "#完成新文件名（old_file_name[复件].txt）\n",
    "position = old_file_name.rfind('.')   #str.rfind()函数\n",
    "new_file_name = old_file_name[0:position] + '[复件]' + old_file_name[position:]   #str的切片和加法\n",
    "\n",
    "#3.创建一个新的文件\n",
    "f_write = open(new_file_name,'w+')\n",
    "\n",
    "#4.读取并复制内容(防止文件过大导致的内存溢出问题，分成一次读取1024个字符)\n",
    "while True:\n",
    "    content = f_read.read(1024)\n",
    "    if len(content) == 0:\n",
    "        break\n",
    "    f_write.write(content)\n",
    "\n",
    "#5.读取复制得到的新文件(读文件时需要把f.close()取消掉)\n",
    "f_write.seek(0,0)   #f.seek(参数1,参数2)把偏移量设为0，光标定位到开头，不然读不出来。\n",
    "f_write.read()\n",
    "\n",
    "#5.关闭文件\n",
    "f_read.close()\n",
    "f_write.close()"
   ]
  },
  {
   "cell_type": "code",
   "execution_count": null,
   "metadata": {
    "collapsed": true
   },
   "outputs": [],
   "source": []
  }
 ],
 "metadata": {
  "kernelspec": {
   "display_name": "Python 3",
   "language": "python",
   "name": "python3"
  },
  "language_info": {
   "codemirror_mode": {
    "name": "ipython",
    "version": 3
   },
   "file_extension": ".py",
   "mimetype": "text/x-python",
   "name": "python",
   "nbconvert_exporter": "python",
   "pygments_lexer": "ipython3",
   "version": "3.6.1"
  }
 },
 "nbformat": 4,
 "nbformat_minor": 2
}
