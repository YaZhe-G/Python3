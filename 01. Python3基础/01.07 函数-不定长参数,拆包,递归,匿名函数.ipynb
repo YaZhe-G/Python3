{
 "cells": [
  {
   "cell_type": "code",
   "execution_count": 4,
   "metadata": {
    "collapsed": false
   },
   "outputs": [
    {
     "name": "stdout",
     "output_type": "stream",
     "text": [
      "88\n"
     ]
    }
   ],
   "source": [
    "#不定长参数-求任意个数的和\n",
    "def num_sum(a,b,*args):\n",
    "    result = a + b\n",
    "    for num in args:\n",
    "        result += num\n",
    "    print(result)\n",
    "num_sum(1,2,3,4,5,6,7,8,9,10,11,22)"
   ]
  },
  {
   "cell_type": "code",
   "execution_count": 2,
   "metadata": {
    "collapsed": false
   },
   "outputs": [
    {
     "name": "stdout",
     "output_type": "stream",
     "text": [
      "11\n",
      "22\n",
      "((33, 44, 55), {'name': 'gyz', 'age': 18})\n",
      "{}\n",
      "=============================================\n",
      "11\n",
      "22\n",
      "(33, 44, 55)\n",
      "{'name': 'gyz', 'age': 18}\n"
     ]
    }
   ],
   "source": [
    "#拆包\n",
    "def test(a,b,*args,**kwargs):\n",
    "    print(a)\n",
    "    print(b)\n",
    "    print(args)\n",
    "    print(kwargs)\n",
    "\n",
    "A = (33,44,55)\n",
    "B = {'name':'gyz','age':18}\n",
    "test(11,22,A,B)\n",
    "print('='*45)\n",
    "test(11,22,*A,**B)   #拆包：把元组、字典中的数据进行拆包，拆成单个数据，储存到变量中"
   ]
  },
  {
   "cell_type": "code",
   "execution_count": 13,
   "metadata": {
    "collapsed": false
   },
   "outputs": [
    {
     "data": {
      "text/plain": [
       "120"
      ]
     },
     "execution_count": 13,
     "metadata": {},
     "output_type": "execute_result"
    }
   ],
   "source": [
    "#递归-求一个数的阶乘\n",
    "def getNums(num):\n",
    "    if num > 1:    \n",
    "        return num*getNums(num-1)\n",
    "    else:\n",
    "        return num\n",
    "\n",
    "#函数调用\n",
    "getNums(5)"
   ]
  },
  {
   "cell_type": "code",
   "execution_count": 21,
   "metadata": {
    "collapsed": false
   },
   "outputs": [
    {
     "data": {
      "text/plain": [
       "66"
      ]
     },
     "execution_count": 21,
     "metadata": {},
     "output_type": "execute_result"
    }
   ],
   "source": [
    "#匿名函数   lambda 参数:表达式\n",
    "func = lambda a,b,c : a+b+c\n",
    "func(11,22,33)"
   ]
  },
  {
   "cell_type": "code",
   "execution_count": 26,
   "metadata": {
    "collapsed": false
   },
   "outputs": [
    {
     "data": {
      "text/plain": [
       "[{'age': 20, 'name': 'haha'},\n",
       " {'age': 10, 'name': 'lisi'},\n",
       " {'age': 18, 'name': 'zhangsan'}]"
      ]
     },
     "execution_count": 26,
     "metadata": {},
     "output_type": "execute_result"
    }
   ],
   "source": [
    "#匿名函数应用场景：\n",
    "#1. 字典列表的排序（带有一个参数的匿名函数）\n",
    "infors = [{'name':'zhangsan','age':18},{'name':'lisi','age':10},{'name':'haha','age':20},]\n",
    "#1.1 按照名字排序\n",
    "infors.sort(key=lambda x:x['name'])\n",
    "infors"
   ]
  },
  {
   "cell_type": "code",
   "execution_count": 27,
   "metadata": {
    "collapsed": false
   },
   "outputs": [
    {
     "data": {
      "text/plain": [
       "[{'age': 10, 'name': 'lisi'},\n",
       " {'age': 18, 'name': 'zhangsan'},\n",
       " {'age': 20, 'name': 'haha'}]"
      ]
     },
     "execution_count": 27,
     "metadata": {},
     "output_type": "execute_result"
    }
   ],
   "source": [
    "#1.2 按照年龄排序\n",
    "infors.sort(key=lambda x:x['age'])\n",
    "infors"
   ]
  },
  {
   "cell_type": "code",
   "execution_count": 4,
   "metadata": {
    "collapsed": false
   },
   "outputs": [
    {
     "name": "stdout",
     "output_type": "stream",
     "text": [
      "请输入一个匿名函数:lambda x,y:x+y+100\n",
      "133\n"
     ]
    }
   ],
   "source": [
    "#2. 交互式函数输出\n",
    "def test(a,b,func):\n",
    "    print(func(a,b))\n",
    "\n",
    "func_new = input('请输入一个匿名函数:')\n",
    "func_new = eval(func_new)   #eval():将字符串str当成有效的表达式来求值并返回计算结果[即去掉引号]\n",
    "test(11,22,func_new)"
   ]
  },
  {
   "cell_type": "code",
   "execution_count": null,
   "metadata": {
    "collapsed": true
   },
   "outputs": [],
   "source": []
  }
 ],
 "metadata": {
  "kernelspec": {
   "display_name": "Python 3",
   "language": "python",
   "name": "python3"
  },
  "language_info": {
   "codemirror_mode": {
    "name": "ipython",
    "version": 3
   },
   "file_extension": ".py",
   "mimetype": "text/x-python",
   "name": "python",
   "nbconvert_exporter": "python",
   "pygments_lexer": "ipython3",
   "version": "3.6.0"
  }
 },
 "nbformat": 4,
 "nbformat_minor": 2
}
